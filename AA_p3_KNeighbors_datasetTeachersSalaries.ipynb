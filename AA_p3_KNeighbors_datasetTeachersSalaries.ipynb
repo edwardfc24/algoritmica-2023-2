{
  "nbformat": 4,
  "nbformat_minor": 0,
  "metadata": {
    "colab": {
      "provenance": [],
      "authorship_tag": "ABX9TyNfmCLanWSud7hDeiZBdB+3",
      "include_colab_link": true
    },
    "kernelspec": {
      "name": "python3",
      "display_name": "Python 3"
    },
    "language_info": {
      "name": "python"
    }
  },
  "cells": [
    {
      "cell_type": "markdown",
      "metadata": {
        "id": "view-in-github",
        "colab_type": "text"
      },
      "source": [
        "<a href=\"https://colab.research.google.com/github/edwardfc24/algoritmica-2023-2/blob/feature%2Flourdes-vaca/AA_p3_KNeighbors_datasetTeachersSalaries.ipynb\" target=\"_parent\"><img src=\"https://colab.research.google.com/assets/colab-badge.svg\" alt=\"Open In Colab\"/></a>"
      ]
    },
    {
      "cell_type": "markdown",
      "source": [
        "Info: https://www.kaggle.com/datasets/sheilnaik/nj-teacher-salaries-2016"
      ],
      "metadata": {
        "id": "0K8Cfkc1FQ8w"
      }
    },
    {
      "cell_type": "code",
      "execution_count": null,
      "metadata": {
        "id": "Iqp9db26FGw1"
      },
      "outputs": [],
      "source": [
        "from sklearn import neighbors\n",
        "from sklearn.model_selection import train_test_split\n",
        "import pandas as pd\n",
        "import numpy as np\n",
        "import matplotlib.pyplot as plt"
      ]
    },
    {
      "cell_type": "code",
      "source": [],
      "metadata": {
        "id": "ixl5wRNHIhv2"
      },
      "execution_count": null,
      "outputs": []
    },
    {
      "cell_type": "code",
      "source": [],
      "metadata": {
        "id": "1MgfKnceIhzu"
      },
      "execution_count": null,
      "outputs": []
    },
    {
      "cell_type": "code",
      "source": [],
      "metadata": {
        "id": "KsANWgtiIh3H"
      },
      "execution_count": null,
      "outputs": []
    }
  ]
}