{
 "cells": [
  {
   "cell_type": "markdown",
   "metadata": {},
   "source": []
  },
  {
   "cell_type": "code",
   "execution_count": 2,
   "metadata": {},
   "outputs": [],
   "source": [
    "import pandas as pd\n",
    "import numpy as np\n",
    "import matplotlib.pyplot as plt\n",
    "from sklearn.metrics import accuracy_score\n",
    "from sklearn.neighbors import KNeighborsClassifier\n",
    "from sklearn.model_selection import train_test_split"
   ]
  },
  {
   "cell_type": "code",
   "execution_count": 3,
   "metadata": {},
   "outputs": [],
   "source": [
    "df = pd.read_csv('results.csv')"
   ]
  },
  {
   "cell_type": "markdown",
   "metadata": {},
   "source": [
    "Analizar la informacion para poder predecir los resultados de un partido de futbol , si es que tendra victoria , empete o perdera  "
   ]
  },
  {
   "cell_type": "code",
   "execution_count": 4,
   "metadata": {},
   "outputs": [
    {
     "data": {
      "text/html": [
       "<div>\n",
       "<style scoped>\n",
       "    .dataframe tbody tr th:only-of-type {\n",
       "        vertical-align: middle;\n",
       "    }\n",
       "\n",
       "    .dataframe tbody tr th {\n",
       "        vertical-align: top;\n",
       "    }\n",
       "\n",
       "    .dataframe thead th {\n",
       "        text-align: right;\n",
       "    }\n",
       "</style>\n",
       "<table border=\"1\" class=\"dataframe\">\n",
       "  <thead>\n",
       "    <tr style=\"text-align: right;\">\n",
       "      <th></th>\n",
       "      <th>home_score</th>\n",
       "      <th>away_score</th>\n",
       "    </tr>\n",
       "  </thead>\n",
       "  <tbody>\n",
       "    <tr>\n",
       "      <th>count</th>\n",
       "      <td>41243.000000</td>\n",
       "      <td>41243.000000</td>\n",
       "    </tr>\n",
       "    <tr>\n",
       "      <th>mean</th>\n",
       "      <td>1.744975</td>\n",
       "      <td>1.189317</td>\n",
       "    </tr>\n",
       "    <tr>\n",
       "      <th>std</th>\n",
       "      <td>1.750513</td>\n",
       "      <td>1.406648</td>\n",
       "    </tr>\n",
       "    <tr>\n",
       "      <th>min</th>\n",
       "      <td>0.000000</td>\n",
       "      <td>0.000000</td>\n",
       "    </tr>\n",
       "    <tr>\n",
       "      <th>25%</th>\n",
       "      <td>1.000000</td>\n",
       "      <td>0.000000</td>\n",
       "    </tr>\n",
       "    <tr>\n",
       "      <th>50%</th>\n",
       "      <td>1.000000</td>\n",
       "      <td>1.000000</td>\n",
       "    </tr>\n",
       "    <tr>\n",
       "      <th>75%</th>\n",
       "      <td>2.000000</td>\n",
       "      <td>2.000000</td>\n",
       "    </tr>\n",
       "    <tr>\n",
       "      <th>max</th>\n",
       "      <td>31.000000</td>\n",
       "      <td>21.000000</td>\n",
       "    </tr>\n",
       "  </tbody>\n",
       "</table>\n",
       "</div>"
      ],
      "text/plain": [
       "         home_score    away_score\n",
       "count  41243.000000  41243.000000\n",
       "mean       1.744975      1.189317\n",
       "std        1.750513      1.406648\n",
       "min        0.000000      0.000000\n",
       "25%        1.000000      0.000000\n",
       "50%        1.000000      1.000000\n",
       "75%        2.000000      2.000000\n",
       "max       31.000000     21.000000"
      ]
     },
     "execution_count": 4,
     "metadata": {},
     "output_type": "execute_result"
    }
   ],
   "source": [
    "df.describe()"
   ]
  },
  {
   "cell_type": "code",
   "execution_count": 5,
   "metadata": {},
   "outputs": [
    {
     "data": {
      "text/plain": [
       "date          object\n",
       "home_team     object\n",
       "away_team     object\n",
       "home_score     int64\n",
       "away_score     int64\n",
       "tournament    object\n",
       "city          object\n",
       "country       object\n",
       "neutral         bool\n",
       "dtype: object"
      ]
     },
     "execution_count": 5,
     "metadata": {},
     "output_type": "execute_result"
    }
   ],
   "source": [
    "df.dtypes"
   ]
  },
  {
   "cell_type": "code",
   "execution_count": 6,
   "metadata": {},
   "outputs": [
    {
     "data": {
      "text/html": [
       "<div>\n",
       "<style scoped>\n",
       "    .dataframe tbody tr th:only-of-type {\n",
       "        vertical-align: middle;\n",
       "    }\n",
       "\n",
       "    .dataframe tbody tr th {\n",
       "        vertical-align: top;\n",
       "    }\n",
       "\n",
       "    .dataframe thead th {\n",
       "        text-align: right;\n",
       "    }\n",
       "</style>\n",
       "<table border=\"1\" class=\"dataframe\">\n",
       "  <thead>\n",
       "    <tr style=\"text-align: right;\">\n",
       "      <th></th>\n",
       "      <th>date</th>\n",
       "      <th>home_team</th>\n",
       "      <th>away_team</th>\n",
       "      <th>home_score</th>\n",
       "      <th>away_score</th>\n",
       "      <th>tournament</th>\n",
       "      <th>city</th>\n",
       "      <th>country</th>\n",
       "      <th>neutral</th>\n",
       "    </tr>\n",
       "  </thead>\n",
       "  <tbody>\n",
       "    <tr>\n",
       "      <th>0</th>\n",
       "      <td>1872-11-30</td>\n",
       "      <td>Scotland</td>\n",
       "      <td>England</td>\n",
       "      <td>0</td>\n",
       "      <td>0</td>\n",
       "      <td>Friendly</td>\n",
       "      <td>Glasgow</td>\n",
       "      <td>Scotland</td>\n",
       "      <td>False</td>\n",
       "    </tr>\n",
       "    <tr>\n",
       "      <th>1</th>\n",
       "      <td>1873-03-08</td>\n",
       "      <td>England</td>\n",
       "      <td>Scotland</td>\n",
       "      <td>4</td>\n",
       "      <td>2</td>\n",
       "      <td>Friendly</td>\n",
       "      <td>London</td>\n",
       "      <td>England</td>\n",
       "      <td>False</td>\n",
       "    </tr>\n",
       "    <tr>\n",
       "      <th>2</th>\n",
       "      <td>1874-03-07</td>\n",
       "      <td>Scotland</td>\n",
       "      <td>England</td>\n",
       "      <td>2</td>\n",
       "      <td>1</td>\n",
       "      <td>Friendly</td>\n",
       "      <td>Glasgow</td>\n",
       "      <td>Scotland</td>\n",
       "      <td>False</td>\n",
       "    </tr>\n",
       "    <tr>\n",
       "      <th>3</th>\n",
       "      <td>1875-03-06</td>\n",
       "      <td>England</td>\n",
       "      <td>Scotland</td>\n",
       "      <td>2</td>\n",
       "      <td>2</td>\n",
       "      <td>Friendly</td>\n",
       "      <td>London</td>\n",
       "      <td>England</td>\n",
       "      <td>False</td>\n",
       "    </tr>\n",
       "    <tr>\n",
       "      <th>4</th>\n",
       "      <td>1876-03-04</td>\n",
       "      <td>Scotland</td>\n",
       "      <td>England</td>\n",
       "      <td>3</td>\n",
       "      <td>0</td>\n",
       "      <td>Friendly</td>\n",
       "      <td>Glasgow</td>\n",
       "      <td>Scotland</td>\n",
       "      <td>False</td>\n",
       "    </tr>\n",
       "  </tbody>\n",
       "</table>\n",
       "</div>"
      ],
      "text/plain": [
       "         date home_team away_team  home_score  away_score tournament     city  \\\n",
       "0  1872-11-30  Scotland   England           0           0   Friendly  Glasgow   \n",
       "1  1873-03-08   England  Scotland           4           2   Friendly   London   \n",
       "2  1874-03-07  Scotland   England           2           1   Friendly  Glasgow   \n",
       "3  1875-03-06   England  Scotland           2           2   Friendly   London   \n",
       "4  1876-03-04  Scotland   England           3           0   Friendly  Glasgow   \n",
       "\n",
       "    country  neutral  \n",
       "0  Scotland    False  \n",
       "1   England    False  \n",
       "2  Scotland    False  \n",
       "3   England    False  \n",
       "4  Scotland    False  "
      ]
     },
     "execution_count": 6,
     "metadata": {},
     "output_type": "execute_result"
    }
   ],
   "source": [
    "df.head(5)"
   ]
  },
  {
   "cell_type": "markdown",
   "metadata": {},
   "source": [
    "Limpiamos los datos que estan string y lo convertimos a numerico"
   ]
  },
  {
   "cell_type": "code",
   "execution_count": 7,
   "metadata": {},
   "outputs": [
    {
     "data": {
      "text/plain": [
       "array(['Friendly', 'British Championship', 'Copa Lipton', 'Copa Newton',\n",
       "       'Copa Premio Honor Argentino', 'Copa Premio Honor Uruguayo',\n",
       "       'Copa Roca', 'Copa América', 'Copa Chevallier Boutell',\n",
       "       'Nordic Championship', 'International Cup', 'Baltic Cup',\n",
       "       'Balkan Cup', 'FIFA World Cup', 'Copa Rio Branco',\n",
       "       'FIFA World Cup qualification', 'CCCF Championship',\n",
       "       'NAFU Championship', 'Copa Oswaldo Cruz',\n",
       "       'Pan American Championship', 'Copa del Pacífico',\n",
       "       \"Copa Bernardo O'Higgins\", 'AFC Asian Cup qualification',\n",
       "       'Atlantic Cup', 'AFC Asian Cup', 'African Cup of Nations',\n",
       "       'Copa Paz del Chaco', 'Merdeka Tournament',\n",
       "       'UEFA Euro qualification', 'UEFA Euro',\n",
       "       'Windward Islands Tournament',\n",
       "       'African Cup of Nations qualification', 'Vietnam Independence Cup',\n",
       "       'Copa Carlos Dittborn', 'CONCACAF Championship',\n",
       "       'Copa Juan Pinto Durán', 'UAFA Cup', 'South Pacific Games',\n",
       "       'CONCACAF Championship qualification', 'Copa Artigas', 'GaNEFo',\n",
       "       \"King's Cup\", 'Gulf Cup', 'Indonesia Tournament', 'Korea Cup',\n",
       "       'Brazil Independence Cup', 'Copa Ramón Castilla',\n",
       "       'Oceania Nations Cup', 'CECAFA Cup', 'Copa Félix Bogado',\n",
       "       'Kirin Cup', 'CFU Caribbean Cup qualification',\n",
       "       'CFU Caribbean Cup', 'Amílcar Cabral Cup', 'Mundialito',\n",
       "       'West African Cup', 'Nehru Cup', 'Merlion Cup', 'UDEAC Cup',\n",
       "       'Rous Cup', 'Lunar New Year Cup', 'Tournoi de France',\n",
       "       'Malta International Tournament', 'Island Games', 'Dynasty Cup',\n",
       "       'UNCAF Cup', 'Gold Cup', 'USA Cup',\n",
       "       'Jordan International Tournament', 'Confederations Cup',\n",
       "       'United Arab Emirates Friendship Tournament',\n",
       "       'Oceania Nations Cup qualification', 'Simba Tournament',\n",
       "       'SAFF Cup', 'AFF Championship', 'King Hassan II Tournament',\n",
       "       'Cyprus International Tournament', 'Dunhill Cup', 'COSAFA Cup',\n",
       "       'Gold Cup qualification', 'SKN Football Festival', 'UNIFFAC Cup',\n",
       "       'WAFF Championship', 'Millennium Cup', \"Prime Minister's Cup\",\n",
       "       'EAFF Championship', 'AFC Challenge Cup', 'FIFI Wild Cup',\n",
       "       'ELF Cup', 'Viva World Cup', 'UAFA Cup qualification',\n",
       "       'AFC Challenge Cup qualification', 'African Nations Championship',\n",
       "       'VFF Cup', 'Dragon Cup', 'ABCS Tournament',\n",
       "       'Nile Basin Tournament', 'Nations Cup', 'Pacific Games', 'OSN Cup',\n",
       "       'CONIFA World Football Cup', 'CONIFA European Football Cup',\n",
       "       'Copa América qualification', 'World Unity Cup',\n",
       "       'Intercontinental Cup', 'AFF Championship qualification',\n",
       "       'UEFA Nations League', 'CONCACAF Nations League qualifying',\n",
       "       'African Nations Championship qualifying', 'Atlantic Heritage Cup',\n",
       "       'Inter Games Football Tournament', 'CONCACAF Nations League'],\n",
       "      dtype=object)"
      ]
     },
     "execution_count": 7,
     "metadata": {},
     "output_type": "execute_result"
    }
   ],
   "source": [
    "# ver los valores unicos \n",
    "valores_unicos = df['tournament'].unique()\n",
    "valores_unicos"
   ]
  },
  {
   "cell_type": "code",
   "execution_count": 73,
   "metadata": {},
   "outputs": [],
   "source": [
    "neutral_field = {0:'False', 1: 'True'}"
   ]
  },
  {
   "cell_type": "code",
   "execution_count": 63,
   "metadata": {},
   "outputs": [],
   "source": [
    "country = {0 :'Scotland', 1: 'England', 2:'Wales',3: 'Republic of Ireland',\n",
    "      4: 'United States', 5:'Uruguay',6: 'Austria',7: 'Hungary', 8:'Argentina',\n",
    "       9:'Belgium',10: 'France',11: 'Netherlands',12: 'Bohemia', 13:'Switzerland',\n",
    "      14: 'Sweden',15: 'Germany',16 :'Italy',17: 'Chile',18: 'Norway',19: 'Finland',\n",
    "      20: 'Luxembourg',21: 'Russia',22: 'Denmark',23: 'Spain', 24:'Japan',25: 'Brazil',\n",
    "       26:'Paraguay',27: 'China PR',28: 'Canada',29: 'Estonia',30 :'Guatemala',\n",
    "      31: 'Czechoslovakia',32 :'Poland', 33:'Yugoslavia', 34:'New Zealand',35: 'Romania',\n",
    "      36: 'Latvia',37: 'Portugal',38: 'Northern Ireland',39: 'Australia',40: 'Lithuania',\n",
    "     41 : 'Turkey', 42:'Mexico', 43:'Aruba',44: 'Soviet Union',45: 'Haiti',\n",
    "     46 : 'Philippines',47: 'Bulgaria',48: 'Jamaica', 49:'Kenya', 50:'Czech Republic',\n",
    "      51: 'Peru', 52:'Honduras',53: 'British Guyana',54: 'Uganda', 55:'El Salvador',\n",
    "      56 :'Barbados',57 :'Irish Free State', 58:'Trinidad and Tobago',59 :'Greece',\n",
    "      60 :'Curaçao',61: 'Egypt',62 :'Dominica',63: 'Guadeloupe', 64:'Palestine',\n",
    "       65:'Netherlands Guyana', 66:'French Guiana',67: 'Cuba', 68:'Colombia',\n",
    "       69:'Saint Kitts and Nevis',70: 'Éire',71 :'Panama', 72:'Bohemia and Moravia',\n",
    "      73: 'Slovakia', 74:'Manchuria', 75:'Croatia',76 :'Costa Rica',77:'Afghanistan',\n",
    "      78 :'Martinique',79 :'Southern Rhodesia', 80:'Iceland',80 :'Albania',\n",
    "      81: 'Madagascar',82: 'Northern Rhodesia', 83:'Tanganyika', 84:'Iran',85 :'Ecuador',\n",
    "       86:'French Somaliland',87: 'Belgian Congo',88: 'Mauritius', 89:'Hong Kong',\n",
    "      90:'Vietnam', 91:'Macau', 92:'Ethiopia',93: 'Suriname',94: 'Puerto Rico',\n",
    "      95 :'Réunion', 96:'Israel', 97:'Sierra Leone', 98:'Zanzibar',99: 'Bolivia',\n",
    "     100  :'Gold Coast', 101:'South Africa',102: 'Netherlands Antilles',\n",
    "      103: 'New Caledonia',104: 'Fiji', 105:'Nigeria',106: 'Venezuela',107: 'Ceylon',\n",
    "     108 : 'French Polynesia', 109:'Gambia',110: 'Singapore',111 :'Portuguese Guinea',\n",
    "     112 : 'German DR', 113:'New Hebrides',114: 'Burma',115: 'Saarland', 116:'Cambodia',\n",
    "     117 : 'Maldives',118 :'Laos', 119:'Isle of Man', 120:'Samoa',121 :'Bhutan',\n",
    "     122 : 'Serbia and Montenegro',123: 'Mayotte',124 :'Mongolia',125: 'Northern Cyprus',\n",
    "     126 : 'Serbia',  127:'Northern Mariana Islands',128 :'Comoros',\n",
    "     129 : 'Tuos Islrks and Caicands',130 :'South Sudan', 131:'Kosovo', 132:'East Timor',\n",
    "     133:'Tahiti', 134:'Myanmar',135:'Montenegro'}"
   ]
  },
  {
   "cell_type": "code",
   "execution_count": 79,
   "metadata": {},
   "outputs": [],
   "source": [
    "city = {1:'Glasgow' ,2:'London',3: 'Wrexham',4: 'Libya' ,5:'Mali' ,6:'Burkina Faso'}"
   ]
  },
  {
   "cell_type": "code",
   "execution_count": 95,
   "metadata": {},
   "outputs": [],
   "source": [
    "tournament_type = {1:'Friendly', 2:'British Championship',3: 'Copa Lipton',4: 'Copa Newton',\n",
    "      5: 'Copa Premio Honor Argentino',6: 'Copa Premio Honor Uruguayo',\n",
    "      7: 'Copa Roca', 8:'Copa América', 9:'Copa Chevallier Boutell',\n",
    "      10 :'Nordic Championship', 11:'International Cup', 12:'Baltic Cup',\n",
    "     13 : 'Balkan Cup',14: 'FIFA World Cup', 15:'Copa Rio Branco',\n",
    "      16: 'FIFA World Cup qualification', 17:'CCCF Championship',\n",
    "       18:'NAFU Championship', 19:'Copa Oswaldo Cruz',\n",
    "      20: 'Pan American Championship', 21:'Copa del Pacífico',\n",
    "     22:  \"Copa Bernardo O'Higgins\",23: 'AFC Asian Cup qualification',\n",
    "      24: 'Atlantic Cup', 25:'AFC Asian Cup', 26:'African Cup of Nations',\n",
    "       27:'Copa Paz del Chaco',28: 'Merdeka Tournament',\n",
    "     29:  'UEFA Euro qualification',30: 'UEFA Euro',\n",
    "      31: 'Windward Islands Tournament',\n",
    "      32: 'African Cup of Nations qualification',33: 'Vietnam Independence Cup',\n",
    "      33: 'Copa Carlos Dittborn',34: 'CONCACAF Championship',\n",
    "      35: 'Copa Juan Pinto Durán',36: 'UAFA Cup',37: 'South Pacific Games',\n",
    "      38: 'CONCACAF Championship qualification',39: 'Copa Artigas',40: 'GaNEFo',\n",
    "      41: \"King's Cup\",42: 'Gulf Cup',43: 'Indonesia Tournament',44: 'Korea Cup',\n",
    "      45: 'Brazil Independence Cup',46: 'Copa Ramón Castilla',\n",
    "      47: 'Oceania Nations Cup',48: 'CECAFA Cup',49: 'Copa Félix Bogado',\n",
    "      50: 'Kirin Cup',51: 'CFU Caribbean Cup qualification',\n",
    "      52: 'CFU Caribbean Cup',53: 'Amílcar Cabral Cup',54: 'Mundialito',\n",
    "      55: 'West African Cup',56: 'Nehru Cup',57: 'Merlion Cup',58: 'UDEAC Cup',\n",
    "      59: 'Rous Cup', 60:'Lunar New Year Cup',61: 'Tournoi de France',\n",
    "      62: 'Malta International Tournament',63: 'Island Games',64: 'Dynasty Cup',\n",
    "      65: 'Intercontinental Cup',66: 'AFF Championship qualification',\n",
    "      67: 'UEFA Nations League',68: 'CONCACAF Nations League qualifying',\n",
    "      69: 'African Nations Championship qualifying',70: 'Atlantic Heritage Cup',\n",
    "      71: 'Inter Games Football Tournament',72: 'CONCACAF Nations League'}"
   ]
  },
  {
   "cell_type": "markdown",
   "metadata": {},
   "source": [
    "creamos una nueva columna  donde guardaremos los datos si gano o no 0 es si gano y 1 que perdio\n",
    "\n",
    "convertimos los datos"
   ]
  },
  {
   "cell_type": "code",
   "execution_count": 84,
   "metadata": {},
   "outputs": [],
   "source": [
    "\n",
    "# Convierto las columnas object a valores numéricos\n",
    "df.city = df.city.map({1:'Glasgow' ,2:'London',3: 'Wrexham',4: 'Libya' ,5:'Mali' ,6:'Burkina Faso'})\n",
    "df.tournament = df.tournament.map({1:'Friendly', 2:'British Championship',3: 'Copa Lipton',4: 'Copa Newton',\n",
    "      5: 'Copa Premio Honor Argentino',6: 'Copa Premio Honor Uruguayo',\n",
    "      7: 'Copa Roca', 8:'Copa América', 9:'Copa Chevallier Boutell',\n",
    "      10 :'Nordic Championship', 11:'International Cup', 12:'Baltic Cup',\n",
    "     13 : 'Balkan Cup',14: 'FIFA World Cup', 15:'Copa Rio Branco',\n",
    "      16: 'FIFA World Cup qualification', 17:'CCCF Championship',\n",
    "       18:'NAFU Championship', 19:'Copa Oswaldo Cruz',\n",
    "      20: 'Pan American Championship', 21:'Copa del Pacífico',\n",
    "     22:  \"Copa Bernardo O'Higgins\",23: 'AFC Asian Cup qualification',\n",
    "      24: 'Atlantic Cup', 25:'AFC Asian Cup', 26:'African Cup of Nations',\n",
    "       27:'Copa Paz del Chaco',28: 'Merdeka Tournament',\n",
    "     29:  'UEFA Euro qualification',30: 'UEFA Euro',\n",
    "      31: 'Windward Islands Tournament',\n",
    "      32: 'African Cup of Nations qualification',33: 'Vietnam Independence Cup',\n",
    "      33: 'Copa Carlos Dittborn',34: 'CONCACAF Championship',\n",
    "      35: 'Copa Juan Pinto Durán',36: 'UAFA Cup',37: 'South Pacific Games',\n",
    "      38: 'CONCACAF Championship qualification',39: 'Copa Artigas',40: 'GaNEFo',\n",
    "      41: \"King's Cup\",42: 'Gulf Cup',43: 'Indonesia Tournament',44: 'Korea Cup',\n",
    "      45: 'Brazil Independence Cup',46: 'Copa Ramón Castilla',\n",
    "      47: 'Oceania Nations Cup',48: 'CECAFA Cup',49: 'Copa Félix Bogado',\n",
    "      50: 'Kirin Cup',51: 'CFU Caribbean Cup qualification',\n",
    "      52: 'CFU Caribbean Cup',53: 'Amílcar Cabral Cup',54: 'Mundialito',\n",
    "      55: 'West African Cup',56: 'Nehru Cup',57: 'Merlion Cup',58: 'UDEAC Cup',\n",
    "      59: 'Rous Cup', 60:'Lunar New Year Cup',61: 'Tournoi de France',\n",
    "      62: 'Malta International Tournament',63: 'Island Games',64: 'Dynasty Cup',\n",
    "      65: 'Intercontinental Cup',66: 'AFF Championship qualification',\n",
    "      67: 'UEFA Nations League',68: 'CONCACAF Nations League qualifying',\n",
    "      69: 'African Nations Championship qualifying',70: 'Atlantic Heritage Cup',\n",
    "      71: 'Inter Games Football Tournament',72: 'CONCACAF Nations League'})\n",
    "df.country = df.country.map({0 :'Scotland', 1: 'England', 2:'Wales',3: 'Republic of Ireland',\n",
    "      4: 'United States', 5:'Uruguay',6: 'Austria',7: 'Hungary', 8:'Argentina',\n",
    "       9:'Belgium',10: 'France',11: 'Netherlands',12: 'Bohemia', 13:'Switzerland',\n",
    "      14: 'Sweden',15: 'Germany',16 :'Italy',17: 'Chile',18: 'Norway',19: 'Finland',\n",
    "      20: 'Luxembourg',21: 'Russia',22: 'Denmark',23: 'Spain', 24:'Japan',25: 'Brazil',\n",
    "       26:'Paraguay',27: 'China PR',28: 'Canada',29: 'Estonia',30 :'Guatemala',\n",
    "      31: 'Czechoslovakia',32 :'Poland', 33:'Yugoslavia', 34:'New Zealand',35: 'Romania',\n",
    "      36: 'Latvia',37: 'Portugal',38: 'Northern Ireland',39: 'Australia',40: 'Lithuania',\n",
    "     41 : 'Turkey', 42:'Mexico', 43:'Aruba',44: 'Soviet Union',45: 'Haiti',\n",
    "     46 : 'Philippines',47: 'Bulgaria',48: 'Jamaica', 49:'Kenya', 50:'Czech Republic',\n",
    "      51: 'Peru', 52:'Honduras',53: 'British Guyana',54: 'Uganda', 55:'El Salvador',\n",
    "      56 :'Barbados',57 :'Irish Free State', 58:'Trinidad and Tobago',59 :'Greece',\n",
    "      60 :'Curaçao',61: 'Egypt',62 :'Dominica',63: 'Guadeloupe', 64:'Palestine',\n",
    "       65:'Netherlands Guyana', 66:'French Guiana',67: 'Cuba', 68:'Colombia',\n",
    "       69:'Saint Kitts and Nevis',70: 'Éire',71 :'Panama', 72:'Bohemia and Moravia',\n",
    "      73: 'Slovakia', 74:'Manchuria', 75:'Croatia',76 :'Costa Rica',77:'Afghanistan',\n",
    "      78 :'Martinique',79 :'Southern Rhodesia', 80:'Iceland',80 :'Albania',\n",
    "      81: 'Madagascar',82: 'Northern Rhodesia', 83:'Tanganyika', 84:'Iran',85 :'Ecuador',\n",
    "       86:'French Somaliland',87: 'Belgian Congo',88: 'Mauritius', 89:'Hong Kong',\n",
    "      90:'Vietnam', 91:'Macau', 92:'Ethiopia',93: 'Suriname',94: 'Puerto Rico',\n",
    "      95 :'Réunion', 96:'Israel', 97:'Sierra Leone', 98:'Zanzibar',99: 'Bolivia',\n",
    "     100  :'Gold Coast', 101:'South Africa',102: 'Netherlands Antilles',\n",
    "      103: 'New Caledonia',104: 'Fiji', 105:'Nigeria',106: 'Venezuela',107: 'Ceylon',\n",
    "     108 : 'French Polynesia', 109:'Gambia',110: 'Singapore',111 :'Portuguese Guinea',\n",
    "     112 : 'German DR', 113:'New Hebrides',114: 'Burma',115: 'Saarland', 116:'Cambodia',\n",
    "     117 : 'Maldives',118 :'Laos', 119:'Isle of Man', 120:'Samoa',121 :'Bhutan',\n",
    "     122 : 'Serbia and Montenegro',123: 'Mayotte',124 :'Mongolia',125: 'Northern Cyprus',\n",
    "     126 : 'Serbia',  127:'Northern Mariana Islands',128 :'Comoros',\n",
    "     129 : 'Tuos Islrks and Caicands',130 :'South Sudan', 131:'Kosovo', 132:'East Timor',\n",
    "     133:'Tahiti', 134:'Myanmar',135:'Montenegro'})"
   ]
  },
  {
   "cell_type": "markdown",
   "metadata": {},
   "source": [
    "creamos una nueva columna  donde guardaremos los datos si gano o no 0 es si gano y 1 que perdio"
   ]
  },
  {
   "cell_type": "markdown",
   "metadata": {},
   "source": [
    "preparar los datos para ver que equipo gano un partido"
   ]
  },
  {
   "cell_type": "markdown",
   "metadata": {},
   "source": [
    "creamos una nueva columna  donde guardaremos los datos si gano o no 0 es si gano y 1 que perdio"
   ]
  },
  {
   "cell_type": "code",
   "execution_count": 98,
   "metadata": {},
   "outputs": [],
   "source": [
    "df['Local_Win'] = (df['home_score'] > df['away_score']).astype(int)"
   ]
  },
  {
   "cell_type": "markdown",
   "metadata": {},
   "source": [
    "seleccionar las caracteristicas y la columna objetivo "
   ]
  },
  {
   "cell_type": "code",
   "execution_count": 99,
   "metadata": {},
   "outputs": [],
   "source": [
    "features = ['home_score', 'away_score']\n",
    "X = df[features]\n",
    "y = df['Local_Win']"
   ]
  },
  {
   "cell_type": "markdown",
   "metadata": {},
   "source": [
    "Dividir los datos en conjuntos de entrenamiento y prueba"
   ]
  },
  {
   "cell_type": "code",
   "execution_count": 24,
   "metadata": {},
   "outputs": [],
   "source": [
    "X_train, X_test, y_train, y_test = train_test_split(X, y, test_size=0.2, random_state=42)"
   ]
  },
  {
   "cell_type": "markdown",
   "metadata": {},
   "source": [
    "crear y entrenar el modelo de vecinos \n",
    "Puedes ajustar el valor de k según tus necesidades"
   ]
  },
  {
   "cell_type": "code",
   "execution_count": 31,
   "metadata": {},
   "outputs": [
    {
     "data": {
      "text/html": [
       "<style>#sk-container-id-3 {color: black;}#sk-container-id-3 pre{padding: 0;}#sk-container-id-3 div.sk-toggleable {background-color: white;}#sk-container-id-3 label.sk-toggleable__label {cursor: pointer;display: block;width: 100%;margin-bottom: 0;padding: 0.3em;box-sizing: border-box;text-align: center;}#sk-container-id-3 label.sk-toggleable__label-arrow:before {content: \"▸\";float: left;margin-right: 0.25em;color: #696969;}#sk-container-id-3 label.sk-toggleable__label-arrow:hover:before {color: black;}#sk-container-id-3 div.sk-estimator:hover label.sk-toggleable__label-arrow:before {color: black;}#sk-container-id-3 div.sk-toggleable__content {max-height: 0;max-width: 0;overflow: hidden;text-align: left;background-color: #f0f8ff;}#sk-container-id-3 div.sk-toggleable__content pre {margin: 0.2em;color: black;border-radius: 0.25em;background-color: #f0f8ff;}#sk-container-id-3 input.sk-toggleable__control:checked~div.sk-toggleable__content {max-height: 200px;max-width: 100%;overflow: auto;}#sk-container-id-3 input.sk-toggleable__control:checked~label.sk-toggleable__label-arrow:before {content: \"▾\";}#sk-container-id-3 div.sk-estimator input.sk-toggleable__control:checked~label.sk-toggleable__label {background-color: #d4ebff;}#sk-container-id-3 div.sk-label input.sk-toggleable__control:checked~label.sk-toggleable__label {background-color: #d4ebff;}#sk-container-id-3 input.sk-hidden--visually {border: 0;clip: rect(1px 1px 1px 1px);clip: rect(1px, 1px, 1px, 1px);height: 1px;margin: -1px;overflow: hidden;padding: 0;position: absolute;width: 1px;}#sk-container-id-3 div.sk-estimator {font-family: monospace;background-color: #f0f8ff;border: 1px dotted black;border-radius: 0.25em;box-sizing: border-box;margin-bottom: 0.5em;}#sk-container-id-3 div.sk-estimator:hover {background-color: #d4ebff;}#sk-container-id-3 div.sk-parallel-item::after {content: \"\";width: 100%;border-bottom: 1px solid gray;flex-grow: 1;}#sk-container-id-3 div.sk-label:hover label.sk-toggleable__label {background-color: #d4ebff;}#sk-container-id-3 div.sk-serial::before {content: \"\";position: absolute;border-left: 1px solid gray;box-sizing: border-box;top: 0;bottom: 0;left: 50%;z-index: 0;}#sk-container-id-3 div.sk-serial {display: flex;flex-direction: column;align-items: center;background-color: white;padding-right: 0.2em;padding-left: 0.2em;position: relative;}#sk-container-id-3 div.sk-item {position: relative;z-index: 1;}#sk-container-id-3 div.sk-parallel {display: flex;align-items: stretch;justify-content: center;background-color: white;position: relative;}#sk-container-id-3 div.sk-item::before, #sk-container-id-3 div.sk-parallel-item::before {content: \"\";position: absolute;border-left: 1px solid gray;box-sizing: border-box;top: 0;bottom: 0;left: 50%;z-index: -1;}#sk-container-id-3 div.sk-parallel-item {display: flex;flex-direction: column;z-index: 1;position: relative;background-color: white;}#sk-container-id-3 div.sk-parallel-item:first-child::after {align-self: flex-end;width: 50%;}#sk-container-id-3 div.sk-parallel-item:last-child::after {align-self: flex-start;width: 50%;}#sk-container-id-3 div.sk-parallel-item:only-child::after {width: 0;}#sk-container-id-3 div.sk-dashed-wrapped {border: 1px dashed gray;margin: 0 0.4em 0.5em 0.4em;box-sizing: border-box;padding-bottom: 0.4em;background-color: white;}#sk-container-id-3 div.sk-label label {font-family: monospace;font-weight: bold;display: inline-block;line-height: 1.2em;}#sk-container-id-3 div.sk-label-container {text-align: center;}#sk-container-id-3 div.sk-container {/* jupyter's `normalize.less` sets `[hidden] { display: none; }` but bootstrap.min.css set `[hidden] { display: none !important; }` so we also need the `!important` here to be able to override the default hidden behavior on the sphinx rendered scikit-learn.org. See: https://github.com/scikit-learn/scikit-learn/issues/21755 */display: inline-block !important;position: relative;}#sk-container-id-3 div.sk-text-repr-fallback {display: none;}</style><div id=\"sk-container-id-3\" class=\"sk-top-container\"><div class=\"sk-text-repr-fallback\"><pre>KNeighborsClassifier(n_neighbors=3)</pre><b>In a Jupyter environment, please rerun this cell to show the HTML representation or trust the notebook. <br />On GitHub, the HTML representation is unable to render, please try loading this page with nbviewer.org.</b></div><div class=\"sk-container\" hidden><div class=\"sk-item\"><div class=\"sk-estimator sk-toggleable\"><input class=\"sk-toggleable__control sk-hidden--visually\" id=\"sk-estimator-id-3\" type=\"checkbox\" checked><label for=\"sk-estimator-id-3\" class=\"sk-toggleable__label sk-toggleable__label-arrow\">KNeighborsClassifier</label><div class=\"sk-toggleable__content\"><pre>KNeighborsClassifier(n_neighbors=3)</pre></div></div></div></div></div>"
      ],
      "text/plain": [
       "KNeighborsClassifier(n_neighbors=3)"
      ]
     },
     "execution_count": 31,
     "metadata": {},
     "output_type": "execute_result"
    }
   ],
   "source": [
    "k = 3  \n",
    "model = KNeighborsClassifier(n_neighbors=k)\n",
    "model.fit(X_train, y_train)"
   ]
  },
  {
   "cell_type": "code",
   "execution_count": 32,
   "metadata": {},
   "outputs": [],
   "source": [
    "# Hacer predicciones en el conjunto de prueba\n",
    "y_pred = model.predict(X_test)"
   ]
  },
  {
   "cell_type": "code",
   "execution_count": 33,
   "metadata": {},
   "outputs": [
    {
     "name": "stdout",
     "output_type": "stream",
     "text": [
      "Precisión del modelo: 0.9996363195538853\n"
     ]
    }
   ],
   "source": [
    "# Evaluar el modelo\n",
    "accuracy = accuracy_score(y_test, y_pred)\n",
    "print(f\"Precisión del modelo: {accuracy}\")"
   ]
  },
  {
   "cell_type": "code",
   "execution_count": 34,
   "metadata": {},
   "outputs": [
    {
     "name": "stdout",
     "output_type": "stream",
     "text": [
      "Score: 99.96000000000001%\n"
     ]
    }
   ],
   "source": [
    "print(f'Score: {round(model.score(X_test, y_test), 4) * 100}%')"
   ]
  },
  {
   "cell_type": "markdown",
   "metadata": {},
   "source": [
    "Supongamos que tienes un modelo de KNN previamente entrenado para predecir resultados de partidos de fútbol.\n",
    "Definir las características para la predicción (ajusta estas características según tus datos):"
   ]
  },
  {
   "cell_type": "code",
   "execution_count": 90,
   "metadata": {},
   "outputs": [],
   "source": [
    "\n",
    "home_score = 2  # Puntuación del equipo local\n",
    "away_score = 1  # Puntuación del equipo visitante\n",
    "tournament = 2 # Tipo de torneo\n",
    "city = 1  # Ciudad del partido\n",
    "country = 2  # País del partido\n",
    "neutral = 1  #¿El partido se juega en campo neutral?"
   ]
  },
  {
   "cell_type": "code",
   "execution_count": null,
   "metadata": {},
   "outputs": [],
   "source": [
    "# Utilizar el modelo para hacer una predicción en función de las características proporcionadas\n",
    "predicted_result = model.predict([[home_score, away_score, tournament, city, country, neutral_field]])\n",
    "print(f'el partido en el pais de {country}, hubicado en la ciudad {city}')"
   ]
  }
 ],
 "metadata": {
  "kernelspec": {
   "display_name": "Python 3",
   "language": "python",
   "name": "python3"
  },
  "language_info": {
   "codemirror_mode": {
    "name": "ipython",
    "version": 3
   },
   "file_extension": ".py",
   "mimetype": "text/x-python",
   "name": "python",
   "nbconvert_exporter": "python",
   "pygments_lexer": "ipython3",
   "version": "3.11.6"
  }
 },
 "nbformat": 4,
 "nbformat_minor": 2
}
