{
 "cells": [
  {
   "cell_type": "code",
   "execution_count": 1,
   "id": "268bbae6-c57f-4344-9618-b6736edb86a7",
   "metadata": {},
   "outputs": [],
   "source": [
    "primer_parcial = 30"
   ]
  },
  {
   "cell_type": "code",
   "execution_count": 2,
   "id": "1a59d001-14e6-4f54-abc7-81aa70faf93c",
   "metadata": {},
   "outputs": [],
   "source": [
    "segundo_parcial = 50"
   ]
  },
  {
   "cell_type": "code",
   "execution_count": 3,
   "id": "37379c88-b776-4abb-afdf-5512ecb39db6",
   "metadata": {},
   "outputs": [],
   "source": [
    "total = primer_parcial + segundo_parcial"
   ]
  },
  {
   "cell_type": "code",
   "execution_count": 4,
   "id": "c9868b66-50df-4ffa-9655-adcdfd8b24ce",
   "metadata": {},
   "outputs": [
    {
     "name": "stdout",
     "output_type": "stream",
     "text": [
      "80\n"
     ]
    }
   ],
   "source": [
    "print(total)"
   ]
  },
  {
   "cell_type": "code",
   "execution_count": null,
   "id": "62a58e45-9866-4fd5-ae2e-f1a3a7dcdddd",
   "metadata": {},
   "outputs": [],
   "source": []
  }
 ],
 "metadata": {
  "kernelspec": {
   "display_name": "Python 3 (ipykernel)",
   "language": "python",
   "name": "python3"
  },
  "language_info": {
   "codemirror_mode": {
    "name": "ipython",
    "version": 3
   },
   "file_extension": ".py",
   "mimetype": "text/x-python",
   "name": "python",
   "nbconvert_exporter": "python",
   "pygments_lexer": "ipython3",
   "version": "3.11.6"
  }
 },
 "nbformat": 4,
 "nbformat_minor": 5
}
