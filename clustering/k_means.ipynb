{
 "cells": [
  {
   "cell_type": "code",
   "execution_count": 1,
   "metadata": {},
   "outputs": [],
   "source": [
    "from sklearn.cluster import KMeans\n",
    "from sklearn.datasets import make_blobs\n",
    "\n",
    "import pandas as pd\n",
    "import numpy as np\n",
    "import matplotlib.pyplot as plt"
   ]
  },
  {
   "cell_type": "markdown",
   "metadata": {},
   "source": [
    "### Generamos el dataset a partir del método make blobs"
   ]
  },
  {
   "cell_type": "code",
   "execution_count": 2,
   "metadata": {},
   "outputs": [],
   "source": [
    "x, y = make_blobs(n_samples=500, random_state=0)"
   ]
  },
  {
   "cell_type": "code",
   "execution_count": 5,
   "metadata": {},
   "outputs": [],
   "source": [
    "df = pd.DataFrame(x)"
   ]
  },
  {
   "cell_type": "code",
   "execution_count": 7,
   "metadata": {},
   "outputs": [
    {
     "data": {
      "text/html": [
       "<div>\n",
       "<style scoped>\n",
       "    .dataframe tbody tr th:only-of-type {\n",
       "        vertical-align: middle;\n",
       "    }\n",
       "\n",
       "    .dataframe tbody tr th {\n",
       "        vertical-align: top;\n",
       "    }\n",
       "\n",
       "    .dataframe thead th {\n",
       "        text-align: right;\n",
       "    }\n",
       "</style>\n",
       "<table border=\"1\" class=\"dataframe\">\n",
       "  <thead>\n",
       "    <tr style=\"text-align: right;\">\n",
       "      <th></th>\n",
       "      <th>0</th>\n",
       "      <th>1</th>\n",
       "    </tr>\n",
       "  </thead>\n",
       "  <tbody>\n",
       "    <tr>\n",
       "      <th>count</th>\n",
       "      <td>500.000000</td>\n",
       "      <td>500.000000</td>\n",
       "    </tr>\n",
       "    <tr>\n",
       "      <th>mean</th>\n",
       "      <td>0.431738</td>\n",
       "      <td>2.679944</td>\n",
       "    </tr>\n",
       "    <tr>\n",
       "      <th>std</th>\n",
       "      <td>1.732716</td>\n",
       "      <td>1.799166</td>\n",
       "    </tr>\n",
       "    <tr>\n",
       "      <th>min</th>\n",
       "      <td>-4.109701</td>\n",
       "      <td>-2.148479</td>\n",
       "    </tr>\n",
       "    <tr>\n",
       "      <th>25%</th>\n",
       "      <td>-1.003387</td>\n",
       "      <td>1.253754</td>\n",
       "    </tr>\n",
       "    <tr>\n",
       "      <th>50%</th>\n",
       "      <td>0.574957</td>\n",
       "      <td>2.793273</td>\n",
       "    </tr>\n",
       "    <tr>\n",
       "      <th>75%</th>\n",
       "      <td>1.752792</td>\n",
       "      <td>4.072161</td>\n",
       "    </tr>\n",
       "    <tr>\n",
       "      <th>max</th>\n",
       "      <td>4.751492</td>\n",
       "      <td>6.560511</td>\n",
       "    </tr>\n",
       "  </tbody>\n",
       "</table>\n",
       "</div>"
      ],
      "text/plain": [
       "                0           1\n",
       "count  500.000000  500.000000\n",
       "mean     0.431738    2.679944\n",
       "std      1.732716    1.799166\n",
       "min     -4.109701   -2.148479\n",
       "25%     -1.003387    1.253754\n",
       "50%      0.574957    2.793273\n",
       "75%      1.752792    4.072161\n",
       "max      4.751492    6.560511"
      ]
     },
     "execution_count": 7,
     "metadata": {},
     "output_type": "execute_result"
    }
   ],
   "source": [
    "df.describe()"
   ]
  },
  {
   "cell_type": "code",
   "execution_count": 10,
   "metadata": {},
   "outputs": [],
   "source": [
    "k_means_model = KMeans(n_init=10)"
   ]
  },
  {
   "cell_type": "code",
   "execution_count": 11,
   "metadata": {},
   "outputs": [
    {
     "data": {
      "text/html": [
       "<style>#sk-container-id-2 {color: black;}#sk-container-id-2 pre{padding: 0;}#sk-container-id-2 div.sk-toggleable {background-color: white;}#sk-container-id-2 label.sk-toggleable__label {cursor: pointer;display: block;width: 100%;margin-bottom: 0;padding: 0.3em;box-sizing: border-box;text-align: center;}#sk-container-id-2 label.sk-toggleable__label-arrow:before {content: \"▸\";float: left;margin-right: 0.25em;color: #696969;}#sk-container-id-2 label.sk-toggleable__label-arrow:hover:before {color: black;}#sk-container-id-2 div.sk-estimator:hover label.sk-toggleable__label-arrow:before {color: black;}#sk-container-id-2 div.sk-toggleable__content {max-height: 0;max-width: 0;overflow: hidden;text-align: left;background-color: #f0f8ff;}#sk-container-id-2 div.sk-toggleable__content pre {margin: 0.2em;color: black;border-radius: 0.25em;background-color: #f0f8ff;}#sk-container-id-2 input.sk-toggleable__control:checked~div.sk-toggleable__content {max-height: 200px;max-width: 100%;overflow: auto;}#sk-container-id-2 input.sk-toggleable__control:checked~label.sk-toggleable__label-arrow:before {content: \"▾\";}#sk-container-id-2 div.sk-estimator input.sk-toggleable__control:checked~label.sk-toggleable__label {background-color: #d4ebff;}#sk-container-id-2 div.sk-label input.sk-toggleable__control:checked~label.sk-toggleable__label {background-color: #d4ebff;}#sk-container-id-2 input.sk-hidden--visually {border: 0;clip: rect(1px 1px 1px 1px);clip: rect(1px, 1px, 1px, 1px);height: 1px;margin: -1px;overflow: hidden;padding: 0;position: absolute;width: 1px;}#sk-container-id-2 div.sk-estimator {font-family: monospace;background-color: #f0f8ff;border: 1px dotted black;border-radius: 0.25em;box-sizing: border-box;margin-bottom: 0.5em;}#sk-container-id-2 div.sk-estimator:hover {background-color: #d4ebff;}#sk-container-id-2 div.sk-parallel-item::after {content: \"\";width: 100%;border-bottom: 1px solid gray;flex-grow: 1;}#sk-container-id-2 div.sk-label:hover label.sk-toggleable__label {background-color: #d4ebff;}#sk-container-id-2 div.sk-serial::before {content: \"\";position: absolute;border-left: 1px solid gray;box-sizing: border-box;top: 0;bottom: 0;left: 50%;z-index: 0;}#sk-container-id-2 div.sk-serial {display: flex;flex-direction: column;align-items: center;background-color: white;padding-right: 0.2em;padding-left: 0.2em;position: relative;}#sk-container-id-2 div.sk-item {position: relative;z-index: 1;}#sk-container-id-2 div.sk-parallel {display: flex;align-items: stretch;justify-content: center;background-color: white;position: relative;}#sk-container-id-2 div.sk-item::before, #sk-container-id-2 div.sk-parallel-item::before {content: \"\";position: absolute;border-left: 1px solid gray;box-sizing: border-box;top: 0;bottom: 0;left: 50%;z-index: -1;}#sk-container-id-2 div.sk-parallel-item {display: flex;flex-direction: column;z-index: 1;position: relative;background-color: white;}#sk-container-id-2 div.sk-parallel-item:first-child::after {align-self: flex-end;width: 50%;}#sk-container-id-2 div.sk-parallel-item:last-child::after {align-self: flex-start;width: 50%;}#sk-container-id-2 div.sk-parallel-item:only-child::after {width: 0;}#sk-container-id-2 div.sk-dashed-wrapped {border: 1px dashed gray;margin: 0 0.4em 0.5em 0.4em;box-sizing: border-box;padding-bottom: 0.4em;background-color: white;}#sk-container-id-2 div.sk-label label {font-family: monospace;font-weight: bold;display: inline-block;line-height: 1.2em;}#sk-container-id-2 div.sk-label-container {text-align: center;}#sk-container-id-2 div.sk-container {/* jupyter's `normalize.less` sets `[hidden] { display: none; }` but bootstrap.min.css set `[hidden] { display: none !important; }` so we also need the `!important` here to be able to override the default hidden behavior on the sphinx rendered scikit-learn.org. See: https://github.com/scikit-learn/scikit-learn/issues/21755 */display: inline-block !important;position: relative;}#sk-container-id-2 div.sk-text-repr-fallback {display: none;}</style><div id=\"sk-container-id-2\" class=\"sk-top-container\"><div class=\"sk-text-repr-fallback\"><pre>KMeans(n_init=10)</pre><b>In a Jupyter environment, please rerun this cell to show the HTML representation or trust the notebook. <br />On GitHub, the HTML representation is unable to render, please try loading this page with nbviewer.org.</b></div><div class=\"sk-container\" hidden><div class=\"sk-item\"><div class=\"sk-estimator sk-toggleable\"><input class=\"sk-toggleable__control sk-hidden--visually\" id=\"sk-estimator-id-2\" type=\"checkbox\" checked><label for=\"sk-estimator-id-2\" class=\"sk-toggleable__label sk-toggleable__label-arrow\">KMeans</label><div class=\"sk-toggleable__content\"><pre>KMeans(n_init=10)</pre></div></div></div></div></div>"
      ],
      "text/plain": [
       "KMeans(n_init=10)"
      ]
     },
     "execution_count": 11,
     "metadata": {},
     "output_type": "execute_result"
    }
   ],
   "source": [
    "k_means_model.fit(df)"
   ]
  },
  {
   "cell_type": "code",
   "execution_count": 12,
   "metadata": {},
   "outputs": [
    {
     "data": {
      "text/plain": [
       "array([3, 1, 5, 7, 1, 3, 7, 1, 1, 7, 1, 1, 5, 7, 7, 7, 2, 3, 5, 3, 0, 6,\n",
       "       0, 1, 7, 5, 6, 7, 7, 1, 5, 3, 4, 1, 6, 6, 0, 0, 6, 6, 5, 3, 3, 0,\n",
       "       0, 4, 6, 3, 5, 5, 7, 3, 4, 4, 1, 5, 2, 6, 3, 6, 0, 7, 6, 2, 0, 5,\n",
       "       6, 2, 7, 4, 5, 4, 4, 1, 0, 1, 0, 2, 6, 3, 3, 4, 5, 7, 5, 2, 5, 5,\n",
       "       7, 5, 7, 3, 0, 4, 7, 0, 5, 7, 7, 7, 0, 5, 5, 3, 4, 6, 3, 0, 3, 6,\n",
       "       4, 4, 6, 7, 5, 2, 1, 0, 6, 5, 5, 0, 7, 1, 5, 3, 5, 3, 7, 4, 0, 3,\n",
       "       1, 2, 7, 0, 5, 1, 7, 7, 3, 4, 5, 2, 7, 4, 7, 2, 0, 4, 0, 7, 4, 3,\n",
       "       0, 4, 7, 6, 7, 7, 0, 7, 5, 5, 5, 0, 7, 0, 4, 0, 1, 1, 0, 3, 3, 1,\n",
       "       1, 6, 6, 2, 0, 6, 5, 5, 6, 0, 3, 0, 7, 1, 5, 7, 6, 0, 3, 1, 2, 7,\n",
       "       5, 2, 1, 2, 7, 4, 5, 6, 6, 6, 5, 5, 3, 6, 6, 5, 7, 3, 5, 3, 5, 5,\n",
       "       0, 1, 0, 2, 3, 3, 4, 0, 1, 4, 7, 5, 7, 2, 1, 5, 7, 2, 3, 3, 4, 0,\n",
       "       6, 2, 3, 1, 5, 1, 5, 5, 2, 1, 7, 7, 1, 5, 4, 2, 1, 6, 0, 7, 7, 0,\n",
       "       6, 7, 7, 0, 5, 0, 0, 5, 0, 3, 7, 0, 3, 0, 6, 6, 6, 5, 0, 7, 3, 4,\n",
       "       4, 5, 5, 6, 2, 5, 1, 4, 7, 0, 5, 3, 1, 0, 3, 0, 7, 2, 4, 1, 4, 6,\n",
       "       3, 1, 6, 5, 1, 3, 7, 3, 0, 1, 5, 7, 7, 2, 7, 2, 4, 4, 7, 0, 7, 5,\n",
       "       0, 0, 6, 5, 2, 6, 4, 7, 7, 1, 6, 1, 0, 7, 3, 3, 6, 4, 1, 5, 6, 4,\n",
       "       5, 5, 1, 0, 0, 2, 2, 1, 4, 2, 1, 4, 4, 3, 6, 3, 1, 3, 5, 1, 3, 5,\n",
       "       5, 7, 1, 2, 2, 5, 0, 4, 5, 1, 1, 3, 4, 7, 2, 1, 7, 6, 3, 0, 4, 0,\n",
       "       1, 1, 7, 7, 0, 7, 2, 6, 5, 3, 0, 5, 0, 7, 4, 4, 1, 2, 6, 4, 4, 2,\n",
       "       5, 5, 4, 1, 0, 3, 5, 7, 0, 7, 1, 4, 3, 2, 7, 3, 3, 4, 6, 3, 6, 5,\n",
       "       2, 7, 4, 5, 0, 1, 0, 5, 2, 3, 5, 0, 2, 7, 6, 0, 7, 1, 0, 5, 3, 3,\n",
       "       6, 1, 5, 7, 5, 2, 7, 4, 0, 6, 7, 0, 1, 2, 2, 6, 2, 1, 7, 2, 6, 4,\n",
       "       6, 1, 1, 3, 6, 6, 5, 3, 1, 4, 0, 0, 0, 0, 4, 0])"
      ]
     },
     "execution_count": 12,
     "metadata": {},
     "output_type": "execute_result"
    }
   ],
   "source": [
    "# Un modelo no supervisado se basa en la agrupación de elementos, para esto genera un conjunto de etiquetas\n",
    "k_means_model.labels_"
   ]
  },
  {
   "cell_type": "markdown",
   "metadata": {},
   "source": [
    "### Ahora explicaremos de forma gráfica que significa esto"
   ]
  },
  {
   "cell_type": "code",
   "execution_count": 13,
   "metadata": {},
   "outputs": [
    {
     "data": {
      "text/plain": [
       "array([[ 2.71671991,  1.42707101],\n",
       "       [-1.63506553,  3.95846267],\n",
       "       [ 1.98156127, -0.4745989 ],\n",
       "       [ 1.72426871,  4.58018405],\n",
       "       [ 0.13523046,  5.21890254],\n",
       "       [-1.92834886,  2.29047361],\n",
       "       [ 0.8917707 ,  0.79110823],\n",
       "       [ 0.31936769,  3.14827033]])"
      ]
     },
     "execution_count": 13,
     "metadata": {},
     "output_type": "execute_result"
    }
   ],
   "source": [
    "# Para entender un poco funciona, conozcamos a los centroides\n",
    "k_means_model.cluster_centers_"
   ]
  },
  {
   "cell_type": "code",
   "execution_count": 15,
   "metadata": {},
   "outputs": [
    {
     "data": {
      "image/png": "[encoded data removed]",
      "text/plain": [
       "<Figure size 640x480 with 1 Axes>"
      ]
     },
     "metadata": {},
     "output_type": "display_data"
    }
   ],
   "source": [
    "plt.scatter(df.to_numpy()[:, 0], df.to_numpy()[:, 1], marker='.')\n",
    "plt.scatter(k_means_model.cluster_centers_[:, 0], k_means_model.cluster_centers_[:, 1], marker='v', c='red', s=80)\n",
    "plt.show()"
   ]
  },
  {
   "cell_type": "markdown",
   "metadata": {},
   "source": [
    "## La técnica de Elbow"
   ]
  },
  {
   "cell_type": "code",
   "execution_count": 16,
   "metadata": {},
   "outputs": [],
   "source": [
    "centers = range(1, 14)"
   ]
  },
  {
   "cell_type": "code",
   "execution_count": 20,
   "metadata": {},
   "outputs": [],
   "source": [
    "\"\"\"\n",
    "clusters = []\n",
    "for center in centers:\n",
    "    cluster.append(KMeans(n_clusters= center))\n",
    "\"\"\"\n",
    "clusters = [KMeans(n_clusters=center, n_init=10) for center in centers]"
   ]
  },
  {
   "cell_type": "code",
   "execution_count": 21,
   "metadata": {},
   "outputs": [],
   "source": [
    "scores = [clusters[index].fit(df).score(df) for index in range(len(clusters))]"
   ]
  },
  {
   "cell_type": "code",
   "execution_count": 24,
   "metadata": {},
   "outputs": [
    {
     "data": {
      "image/png": "[encoded data removed]",
      "text/plain": [
       "<Figure size 640x480 with 1 Axes>"
      ]
     },
     "metadata": {},
     "output_type": "display_data"
    }
   ],
   "source": [
    "# Procedemos a graficar la curva del codo\n",
    "plt.plot(centers, scores)\n",
    "plt.xlabel('Número de grupos')\n",
    "plt.ylabel('Precisión')\n",
    "plt.show()"
   ]
  },
  {
   "cell_type": "code",
   "execution_count": 25,
   "metadata": {},
   "outputs": [
    {
     "data": {
      "text/plain": [
       "array([0, 2, 2, 0, 0, 0, 0, 2, 2, 0, 2, 2, 2, 2, 0, 0, 1, 0, 2, 0, 1, 1,\n",
       "       1, 2, 0, 2, 1, 2, 0, 2, 2, 0, 0, 0, 1, 1, 1, 1, 1, 1, 2, 0, 0, 1,\n",
       "       1, 0, 1, 0, 2, 2, 0, 0, 0, 0, 2, 2, 1, 1, 0, 2, 1, 2, 1, 1, 1, 2,\n",
       "       0, 1, 2, 0, 2, 0, 0, 2, 1, 2, 1, 1, 1, 0, 0, 0, 2, 0, 2, 1, 2, 2,\n",
       "       2, 2, 0, 0, 1, 0, 2, 1, 2, 2, 2, 0, 1, 2, 2, 0, 0, 1, 0, 1, 0, 1,\n",
       "       0, 0, 1, 2, 2, 1, 2, 1, 1, 2, 2, 0, 2, 2, 2, 0, 2, 0, 2, 0, 1, 0,\n",
       "       2, 1, 0, 1, 2, 2, 1, 0, 0, 2, 2, 1, 0, 0, 0, 1, 1, 0, 1, 0, 0, 0,\n",
       "       1, 0, 2, 1, 2, 0, 1, 1, 2, 2, 2, 1, 0, 1, 0, 1, 2, 2, 1, 0, 0, 2,\n",
       "       2, 1, 1, 1, 1, 1, 2, 2, 1, 1, 0, 1, 0, 2, 2, 0, 1, 1, 0, 2, 1, 0,\n",
       "       2, 1, 2, 1, 0, 0, 2, 1, 1, 1, 2, 2, 0, 1, 1, 2, 2, 0, 2, 0, 2, 2,\n",
       "       1, 2, 1, 1, 0, 0, 0, 1, 2, 0, 0, 2, 2, 1, 2, 2, 0, 1, 0, 0, 0, 1,\n",
       "       1, 1, 0, 2, 2, 2, 2, 2, 1, 2, 2, 0, 2, 2, 0, 1, 2, 1, 1, 0, 0, 1,\n",
       "       1, 0, 2, 1, 2, 1, 1, 2, 1, 0, 0, 1, 0, 1, 1, 1, 1, 2, 1, 0, 0, 0,\n",
       "       0, 2, 2, 1, 1, 2, 2, 0, 0, 1, 2, 0, 2, 1, 0, 1, 2, 1, 0, 2, 0, 1,\n",
       "       0, 2, 1, 2, 2, 0, 0, 0, 1, 2, 2, 0, 0, 1, 2, 1, 0, 0, 1, 1, 0, 2,\n",
       "       1, 0, 1, 2, 1, 1, 0, 2, 0, 2, 1, 2, 1, 0, 0, 0, 1, 0, 0, 2, 1, 0,\n",
       "       2, 2, 2, 0, 1, 1, 1, 2, 0, 1, 2, 0, 0, 0, 2, 0, 2, 0, 2, 2, 0, 2,\n",
       "       2, 2, 2, 1, 1, 2, 1, 2, 2, 2, 2, 0, 0, 0, 1, 2, 0, 1, 0, 1, 0, 1,\n",
       "       2, 2, 0, 2, 1, 0, 1, 2, 2, 0, 1, 2, 1, 2, 0, 0, 0, 1, 2, 0, 0, 1,\n",
       "       2, 2, 0, 2, 1, 0, 2, 0, 1, 0, 2, 0, 0, 1, 0, 0, 0, 0, 1, 0, 1, 2,\n",
       "       1, 1, 0, 2, 1, 2, 1, 2, 1, 0, 2, 1, 1, 1, 1, 1, 0, 2, 1, 2, 0, 0,\n",
       "       1, 2, 2, 0, 2, 1, 0, 0, 1, 1, 2, 1, 2, 1, 1, 1, 1, 2, 0, 1, 1, 0,\n",
       "       1, 2, 2, 0, 1, 1, 2, 0, 2, 0, 0, 1, 1, 1, 0, 1])"
      ]
     },
     "execution_count": 25,
     "metadata": {},
     "output_type": "execute_result"
    }
   ],
   "source": [
    "y"
   ]
  }
 ],
 "metadata": {
  "kernelspec": {
   "display_name": "pandas_env",
   "language": "python",
   "name": "python3"
  },
  "language_info": {
   "codemirror_mode": {
    "name": "ipython",
    "version": 3
   },
   "file_extension": ".py",
   "mimetype": "text/x-python",
   "name": "python",
   "nbconvert_exporter": "python",
   "pygments_lexer": "ipython3",
   "version": "3.11.4"
  }
 },
 "nbformat": 4,
 "nbformat_minor": 2
}
