{
 "cells": [
  {
   "cell_type": "code",
   "execution_count": null,
   "metadata": {},
   "outputs": [],
   "source": [
    "import pandas as pd\n",
    "from sklearn.model_selection import train_test_split\n",
    "from sklearn.linear_model import LinearRegression\n",
    "import numpy as np\n",
    "import matplotlib.pyplot as plt"
   ]
  },
  {
   "cell_type": "code",
   "execution_count": null,
   "metadata": {},
   "outputs": [],
   "source": [
    "# Importa el excel y cargar los datos\n",
    "data = pd.read_csv('dataset_fish.csv')\n",
    "\n",
    "data_array = np.array(data) #Convierte el DataFrame a un array NumPy\n",
    "\n",
    "# One-Hot Encoding\n",
    "#Convierte las variables categóricas en variables numéricas binarias\n",
    "data = pd.get_dummies(data, columns=['Species'], drop_first=True)\n",
    "\n",
    " # X contiene las características sin la variable de destino (peso)\n",
    "X = data.drop('Weight', axis=1)\n",
    "y = data['Weight']\n",
    "# Divide el conjunto de datos en entrenamiento (train) y prueba (test)\n",
    "X_train, X_test, y_train, y_test = train_test_split(X, y, test_size=0.15, random_state=42)\n",
    "\n",
    "# Crea una instancia del modelo de regresión lineal\n",
    "model = LinearRegression()\n",
    "# Aqui lo entrenamos el modelo utilizando los datos de entrenamiento\n",
    "model.fit(X_train, y_train)\n",
    "\n",
    "# Evaluar el modelo\n",
    "y_pred = model.predict(X_test)\n",
    "r2 = model.score(X_test, y_test)\n",
    "\n",
    "# Calcula el porcentaje\n",
    "porcentaje = r2 * 100\n",
    "print(f\"Porcentaje de precisión: {porcentaje}%\") #predice del peso del pez basandose en las otras caracteristicas\n",
    "\n",
    "# Matplotlib para visualizaciones\n",
    "plt.scatter(y_test, y_pred)\n",
    "plt.xlabel(\"Valores reales\")\n",
    "plt.ylabel(\"Predicciones\")\n",
    "plt.title(\"Predicciones vs. Valores reales\")\n",
    "plt.show() #muestra el grafico"
   ]
  }
 ],
 "metadata": {
  "language_info": {
   "name": "python"
  }
 },
 "nbformat": 4,
 "nbformat_minor": 2
}
