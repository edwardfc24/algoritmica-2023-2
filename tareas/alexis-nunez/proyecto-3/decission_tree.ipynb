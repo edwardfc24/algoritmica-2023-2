{
 "cells": [
  {
   "cell_type": "code",
   "execution_count": 437,
   "metadata": {},
   "outputs": [],
   "source": [
    "from sklearn.model_selection import train_test_split\n",
    "from sklearn.tree import DecisionTreeClassifier\n",
    "from sklearn import tree\n",
    "\n",
    "import pandas as pd\n",
    "import numpy as np\n",
    "import matplotlib.pyplot as plt"
   ]
  },
  {
   "cell_type": "code",
   "execution_count": 438,
   "metadata": {},
   "outputs": [],
   "source": [
    "df = pd.read_csv('Car_Insurance_Claim.csv')"
   ]
  },
  {
   "cell_type": "code",
   "execution_count": 439,
   "metadata": {},
   "outputs": [],
   "source": [
    "df['OUTCOME'] = df['OUTCOME'].astype(int)"
   ]
  },
  {
   "cell_type": "code",
   "execution_count": 440,
   "metadata": {},
   "outputs": [
    {
     "data": {
      "text/plain": [
       "ID                       int64\n",
       "AGE                     object\n",
       "GENDER                  object\n",
       "RACE                    object\n",
       "DRIVING_EXPERIENCE      object\n",
       "EDUCATION               object\n",
       "INCOME                  object\n",
       "CREDIT_SCORE           float64\n",
       "VEHICLE_OWNERSHIP      float64\n",
       "VEHICLE_YEAR            object\n",
       "MARRIED                float64\n",
       "CHILDREN               float64\n",
       "POSTAL_CODE              int64\n",
       "ANNUAL_MILEAGE         float64\n",
       "VEHICLE_TYPE            object\n",
       "SPEEDING_VIOLATIONS      int64\n",
       "DUIS                     int64\n",
       "PAST_ACCIDENTS           int64\n",
       "OUTCOME                  int32\n",
       "dtype: object"
      ]
     },
     "execution_count": 440,
     "metadata": {},
     "output_type": "execute_result"
    }
   ],
   "source": [
    "df.dtypes"
   ]
  },
  {
   "cell_type": "code",
   "execution_count": 441,
   "metadata": {},
   "outputs": [],
   "source": [
    "df.drop(['ID', 'RACE','EDUCATION','INCOME','VEHICLE_OWNERSHIP', 'MARRIED', 'CHILDREN', 'POSTAL_CODE','ANNUAL_MILEAGE','VEHICLE_YEAR','SPEEDING_VIOLATIONS','DUIS'],axis=1, inplace=True)"
   ]
  },
  {
   "cell_type": "code",
   "execution_count": 442,
   "metadata": {},
   "outputs": [
    {
     "data": {
      "text/plain": [
       "AGE                    object\n",
       "GENDER                 object\n",
       "DRIVING_EXPERIENCE     object\n",
       "CREDIT_SCORE          float64\n",
       "VEHICLE_TYPE           object\n",
       "PAST_ACCIDENTS          int64\n",
       "OUTCOME                 int32\n",
       "dtype: object"
      ]
     },
     "execution_count": 442,
     "metadata": {},
     "output_type": "execute_result"
    }
   ],
   "source": [
    "df.dtypes"
   ]
  },
  {
   "cell_type": "code",
   "execution_count": 443,
   "metadata": {},
   "outputs": [],
   "source": [
    "df['AGE'] = df['AGE'].map({'65+':4, '16-25':1, '26-39':2, '40-64':3})\n",
    "df['GENDER'] = df['GENDER'].map({'female':2,'male':1})\n",
    "df['DRIVING_EXPERIENCE'] = df['DRIVING_EXPERIENCE'].map({'0-9y':1, '10-19y':2, '20-29y':3, '30y+':4})\n",
    "df['VEHICLE_TYPE'] = df['VEHICLE_TYPE'].map({'sedan':1,'sports car':2})"
   ]
  },
  {
   "cell_type": "code",
   "execution_count": 444,
   "metadata": {},
   "outputs": [],
   "source": [
    "df['CREDIT_SCORE'] = df['CREDIT_SCORE'].fillna(df['CREDIT_SCORE'].mean())"
   ]
  },
  {
   "cell_type": "code",
   "execution_count": 445,
   "metadata": {},
   "outputs": [
    {
     "data": {
      "text/html": [
       "<div>\n",
       "<style scoped>\n",
       "    .dataframe tbody tr th:only-of-type {\n",
       "        vertical-align: middle;\n",
       "    }\n",
       "\n",
       "    .dataframe tbody tr th {\n",
       "        vertical-align: top;\n",
       "    }\n",
       "\n",
       "    .dataframe thead th {\n",
       "        text-align: right;\n",
       "    }\n",
       "</style>\n",
       "<table border=\"1\" class=\"dataframe\">\n",
       "  <thead>\n",
       "    <tr style=\"text-align: right;\">\n",
       "      <th></th>\n",
       "      <th>AGE</th>\n",
       "      <th>GENDER</th>\n",
       "      <th>DRIVING_EXPERIENCE</th>\n",
       "      <th>CREDIT_SCORE</th>\n",
       "      <th>VEHICLE_TYPE</th>\n",
       "      <th>PAST_ACCIDENTS</th>\n",
       "      <th>OUTCOME</th>\n",
       "    </tr>\n",
       "  </thead>\n",
       "  <tbody>\n",
       "    <tr>\n",
       "      <th>count</th>\n",
       "      <td>10000.000000</td>\n",
       "      <td>10000.000000</td>\n",
       "      <td>10000.000000</td>\n",
       "      <td>10000.000000</td>\n",
       "      <td>10000.000000</td>\n",
       "      <td>10000.000000</td>\n",
       "      <td>10000.000000</td>\n",
       "    </tr>\n",
       "    <tr>\n",
       "      <th>mean</th>\n",
       "      <td>2.489500</td>\n",
       "      <td>1.501000</td>\n",
       "      <td>2.069300</td>\n",
       "      <td>0.515813</td>\n",
       "      <td>1.047700</td>\n",
       "      <td>1.056300</td>\n",
       "      <td>0.313300</td>\n",
       "    </tr>\n",
       "    <tr>\n",
       "      <th>std</th>\n",
       "      <td>1.025278</td>\n",
       "      <td>0.500024</td>\n",
       "      <td>0.990452</td>\n",
       "      <td>0.130752</td>\n",
       "      <td>0.213141</td>\n",
       "      <td>1.652454</td>\n",
       "      <td>0.463858</td>\n",
       "    </tr>\n",
       "    <tr>\n",
       "      <th>min</th>\n",
       "      <td>1.000000</td>\n",
       "      <td>1.000000</td>\n",
       "      <td>1.000000</td>\n",
       "      <td>0.053358</td>\n",
       "      <td>1.000000</td>\n",
       "      <td>0.000000</td>\n",
       "      <td>0.000000</td>\n",
       "    </tr>\n",
       "    <tr>\n",
       "      <th>25%</th>\n",
       "      <td>2.000000</td>\n",
       "      <td>1.000000</td>\n",
       "      <td>1.000000</td>\n",
       "      <td>0.431509</td>\n",
       "      <td>1.000000</td>\n",
       "      <td>0.000000</td>\n",
       "      <td>0.000000</td>\n",
       "    </tr>\n",
       "    <tr>\n",
       "      <th>50%</th>\n",
       "      <td>2.000000</td>\n",
       "      <td>2.000000</td>\n",
       "      <td>2.000000</td>\n",
       "      <td>0.515813</td>\n",
       "      <td>1.000000</td>\n",
       "      <td>0.000000</td>\n",
       "      <td>0.000000</td>\n",
       "    </tr>\n",
       "    <tr>\n",
       "      <th>75%</th>\n",
       "      <td>3.000000</td>\n",
       "      <td>2.000000</td>\n",
       "      <td>3.000000</td>\n",
       "      <td>0.607607</td>\n",
       "      <td>1.000000</td>\n",
       "      <td>2.000000</td>\n",
       "      <td>1.000000</td>\n",
       "    </tr>\n",
       "    <tr>\n",
       "      <th>max</th>\n",
       "      <td>4.000000</td>\n",
       "      <td>2.000000</td>\n",
       "      <td>4.000000</td>\n",
       "      <td>0.960819</td>\n",
       "      <td>2.000000</td>\n",
       "      <td>15.000000</td>\n",
       "      <td>1.000000</td>\n",
       "    </tr>\n",
       "  </tbody>\n",
       "</table>\n",
       "</div>"
      ],
      "text/plain": [
       "                AGE        GENDER  DRIVING_EXPERIENCE  CREDIT_SCORE  \\\n",
       "count  10000.000000  10000.000000        10000.000000  10000.000000   \n",
       "mean       2.489500      1.501000            2.069300      0.515813   \n",
       "std        1.025278      0.500024            0.990452      0.130752   \n",
       "min        1.000000      1.000000            1.000000      0.053358   \n",
       "25%        2.000000      1.000000            1.000000      0.431509   \n",
       "50%        2.000000      2.000000            2.000000      0.515813   \n",
       "75%        3.000000      2.000000            3.000000      0.607607   \n",
       "max        4.000000      2.000000            4.000000      0.960819   \n",
       "\n",
       "       VEHICLE_TYPE  PAST_ACCIDENTS       OUTCOME  \n",
       "count  10000.000000    10000.000000  10000.000000  \n",
       "mean       1.047700        1.056300      0.313300  \n",
       "std        0.213141        1.652454      0.463858  \n",
       "min        1.000000        0.000000      0.000000  \n",
       "25%        1.000000        0.000000      0.000000  \n",
       "50%        1.000000        0.000000      0.000000  \n",
       "75%        1.000000        2.000000      1.000000  \n",
       "max        2.000000       15.000000      1.000000  "
      ]
     },
     "execution_count": 445,
     "metadata": {},
     "output_type": "execute_result"
    }
   ],
   "source": [
    "df.describe()"
   ]
  },
  {
   "cell_type": "code",
   "execution_count": 446,
   "metadata": {},
   "outputs": [
    {
     "data": {
      "text/plain": [
       "AGE                     int64\n",
       "GENDER                  int64\n",
       "DRIVING_EXPERIENCE      int64\n",
       "CREDIT_SCORE          float64\n",
       "VEHICLE_TYPE            int64\n",
       "PAST_ACCIDENTS          int64\n",
       "OUTCOME                 int32\n",
       "dtype: object"
      ]
     },
     "execution_count": 446,
     "metadata": {},
     "output_type": "execute_result"
    }
   ],
   "source": [
    "df.dtypes"
   ]
  },
  {
   "cell_type": "code",
   "execution_count": 447,
   "metadata": {},
   "outputs": [
    {
     "data": {
      "text/html": [
       "<style type=\"text/css\">\n",
       "#T_0e669_row0_col0, #T_0e669_row1_col1, #T_0e669_row2_col2, #T_0e669_row3_col3, #T_0e669_row4_col4, #T_0e669_row5_col5, #T_0e669_row6_col6 {\n",
       "  background-color: #023858;\n",
       "  color: #f1f1f1;\n",
       "}\n",
       "#T_0e669_row0_col1, #T_0e669_row2_col1 {\n",
       "  background-color: #e0deed;\n",
       "  color: #000000;\n",
       "}\n",
       "#T_0e669_row0_col2 {\n",
       "  background-color: #0567a1;\n",
       "  color: #f1f1f1;\n",
       "}\n",
       "#T_0e669_row0_col3 {\n",
       "  background-color: #4496c3;\n",
       "  color: #f1f1f1;\n",
       "}\n",
       "#T_0e669_row0_col4, #T_0e669_row2_col4 {\n",
       "  background-color: #fef6fb;\n",
       "  color: #000000;\n",
       "}\n",
       "#T_0e669_row0_col5 {\n",
       "  background-color: #549cc7;\n",
       "  color: #f1f1f1;\n",
       "}\n",
       "#T_0e669_row0_col6 {\n",
       "  background-color: #faf3f9;\n",
       "  color: #000000;\n",
       "}\n",
       "#T_0e669_row1_col0 {\n",
       "  background-color: #bdc8e1;\n",
       "  color: #000000;\n",
       "}\n",
       "#T_0e669_row1_col2, #T_0e669_row4_col2 {\n",
       "  background-color: #b7c5df;\n",
       "  color: #000000;\n",
       "}\n",
       "#T_0e669_row1_col3 {\n",
       "  background-color: #c1cae2;\n",
       "  color: #000000;\n",
       "}\n",
       "#T_0e669_row1_col4, #T_0e669_row6_col4 {\n",
       "  background-color: #fdf5fa;\n",
       "  color: #000000;\n",
       "}\n",
       "#T_0e669_row1_col5 {\n",
       "  background-color: #f5eef6;\n",
       "  color: #000000;\n",
       "}\n",
       "#T_0e669_row1_col6 {\n",
       "  background-color: #cdd0e5;\n",
       "  color: #000000;\n",
       "}\n",
       "#T_0e669_row2_col0 {\n",
       "  background-color: #0567a2;\n",
       "  color: #f1f1f1;\n",
       "}\n",
       "#T_0e669_row2_col3 {\n",
       "  background-color: #79abd0;\n",
       "  color: #f1f1f1;\n",
       "}\n",
       "#T_0e669_row2_col5 {\n",
       "  background-color: #197db7;\n",
       "  color: #f1f1f1;\n",
       "}\n",
       "#T_0e669_row2_col6, #T_0e669_row3_col4, #T_0e669_row5_col1, #T_0e669_row5_col4, #T_0e669_row6_col0, #T_0e669_row6_col2, #T_0e669_row6_col3, #T_0e669_row6_col5 {\n",
       "  background-color: #fff7fb;\n",
       "  color: #000000;\n",
       "}\n",
       "#T_0e669_row3_col0 {\n",
       "  background-color: #328dbf;\n",
       "  color: #f1f1f1;\n",
       "}\n",
       "#T_0e669_row3_col1 {\n",
       "  background-color: #d2d2e7;\n",
       "  color: #000000;\n",
       "}\n",
       "#T_0e669_row3_col2 {\n",
       "  background-color: #5a9ec9;\n",
       "  color: #f1f1f1;\n",
       "}\n",
       "#T_0e669_row3_col5, #T_0e669_row5_col3 {\n",
       "  background-color: #a8bedc;\n",
       "  color: #000000;\n",
       "}\n",
       "#T_0e669_row3_col6 {\n",
       "  background-color: #ece7f2;\n",
       "  color: #000000;\n",
       "}\n",
       "#T_0e669_row4_col0 {\n",
       "  background-color: #bfc9e1;\n",
       "  color: #000000;\n",
       "}\n",
       "#T_0e669_row4_col1 {\n",
       "  background-color: #e0dded;\n",
       "  color: #000000;\n",
       "}\n",
       "#T_0e669_row4_col3 {\n",
       "  background-color: #d6d6e9;\n",
       "  color: #000000;\n",
       "}\n",
       "#T_0e669_row4_col5 {\n",
       "  background-color: #d5d5e8;\n",
       "  color: #000000;\n",
       "}\n",
       "#T_0e669_row4_col6 {\n",
       "  background-color: #b4c4df;\n",
       "  color: #000000;\n",
       "}\n",
       "#T_0e669_row5_col0 {\n",
       "  background-color: #3f93c2;\n",
       "  color: #f1f1f1;\n",
       "}\n",
       "#T_0e669_row5_col2 {\n",
       "  background-color: #0a73b2;\n",
       "  color: #f1f1f1;\n",
       "}\n",
       "#T_0e669_row5_col6 {\n",
       "  background-color: #ede7f2;\n",
       "  color: #000000;\n",
       "}\n",
       "#T_0e669_row6_col1 {\n",
       "  background-color: #f1ebf4;\n",
       "  color: #000000;\n",
       "}\n",
       "</style>\n",
       "<table id=\"T_0e669\">\n",
       "  <thead>\n",
       "    <tr>\n",
       "      <th class=\"blank level0\" >&nbsp;</th>\n",
       "      <th id=\"T_0e669_level0_col0\" class=\"col_heading level0 col0\" >AGE</th>\n",
       "      <th id=\"T_0e669_level0_col1\" class=\"col_heading level0 col1\" >GENDER</th>\n",
       "      <th id=\"T_0e669_level0_col2\" class=\"col_heading level0 col2\" >DRIVING_EXPERIENCE</th>\n",
       "      <th id=\"T_0e669_level0_col3\" class=\"col_heading level0 col3\" >CREDIT_SCORE</th>\n",
       "      <th id=\"T_0e669_level0_col4\" class=\"col_heading level0 col4\" >VEHICLE_TYPE</th>\n",
       "      <th id=\"T_0e669_level0_col5\" class=\"col_heading level0 col5\" >PAST_ACCIDENTS</th>\n",
       "      <th id=\"T_0e669_level0_col6\" class=\"col_heading level0 col6\" >OUTCOME</th>\n",
       "    </tr>\n",
       "  </thead>\n",
       "  <tbody>\n",
       "    <tr>\n",
       "      <th id=\"T_0e669_level0_row0\" class=\"row_heading level0 row0\" >AGE</th>\n",
       "      <td id=\"T_0e669_row0_col0\" class=\"data row0 col0\" >1.000000</td>\n",
       "      <td id=\"T_0e669_row0_col1\" class=\"data row0 col1\" >-0.005900</td>\n",
       "      <td id=\"T_0e669_row0_col2\" class=\"data row0 col2\" >0.707400</td>\n",
       "      <td id=\"T_0e669_row0_col3\" class=\"data row0 col3\" >0.471400</td>\n",
       "      <td id=\"T_0e669_row0_col4\" class=\"data row0 col4\" >-0.008500</td>\n",
       "      <td id=\"T_0e669_row0_col5\" class=\"data row0 col5\" >0.431100</td>\n",
       "      <td id=\"T_0e669_row0_col6\" class=\"data row0 col6\" >-0.448500</td>\n",
       "    </tr>\n",
       "    <tr>\n",
       "      <th id=\"T_0e669_level0_row1\" class=\"row_heading level0 row1\" >GENDER</th>\n",
       "      <td id=\"T_0e669_row1_col0\" class=\"data row1 col0\" >-0.005900</td>\n",
       "      <td id=\"T_0e669_row1_col1\" class=\"data row1 col1\" >1.000000</td>\n",
       "      <td id=\"T_0e669_row1_col2\" class=\"data row1 col2\" >-0.007500</td>\n",
       "      <td id=\"T_0e669_row1_col3\" class=\"data row1 col3\" >0.077500</td>\n",
       "      <td id=\"T_0e669_row1_col4\" class=\"data row1 col4\" >0.000000</td>\n",
       "      <td id=\"T_0e669_row1_col5\" class=\"data row1 col5\" >-0.223200</td>\n",
       "      <td id=\"T_0e669_row1_col6\" class=\"data row1 col6\" >-0.107200</td>\n",
       "    </tr>\n",
       "    <tr>\n",
       "      <th id=\"T_0e669_level0_row2\" class=\"row_heading level0 row2\" >DRIVING_EXPERIENCE</th>\n",
       "      <td id=\"T_0e669_row2_col0\" class=\"data row2 col0\" >0.707400</td>\n",
       "      <td id=\"T_0e669_row2_col1\" class=\"data row2 col1\" >-0.007500</td>\n",
       "      <td id=\"T_0e669_row2_col2\" class=\"data row2 col2\" >1.000000</td>\n",
       "      <td id=\"T_0e669_row2_col3\" class=\"data row2 col3\" >0.327700</td>\n",
       "      <td id=\"T_0e669_row2_col4\" class=\"data row2 col4\" >-0.008600</td>\n",
       "      <td id=\"T_0e669_row2_col5\" class=\"data row2 col5\" >0.604700</td>\n",
       "      <td id=\"T_0e669_row2_col6\" class=\"data row2 col6\" >-0.497400</td>\n",
       "    </tr>\n",
       "    <tr>\n",
       "      <th id=\"T_0e669_level0_row3\" class=\"row_heading level0 row3\" >CREDIT_SCORE</th>\n",
       "      <td id=\"T_0e669_row3_col0\" class=\"data row3 col0\" >0.471400</td>\n",
       "      <td id=\"T_0e669_row3_col1\" class=\"data row3 col1\" >0.077500</td>\n",
       "      <td id=\"T_0e669_row3_col2\" class=\"data row3 col2\" >0.327700</td>\n",
       "      <td id=\"T_0e669_row3_col3\" class=\"data row3 col3\" >1.000000</td>\n",
       "      <td id=\"T_0e669_row3_col4\" class=\"data row3 col4\" >-0.013100</td>\n",
       "      <td id=\"T_0e669_row3_col5\" class=\"data row3 col5\" >0.172100</td>\n",
       "      <td id=\"T_0e669_row3_col6\" class=\"data row3 col6\" >-0.309000</td>\n",
       "    </tr>\n",
       "    <tr>\n",
       "      <th id=\"T_0e669_level0_row4\" class=\"row_heading level0 row4\" >VEHICLE_TYPE</th>\n",
       "      <td id=\"T_0e669_row4_col0\" class=\"data row4 col0\" >-0.008500</td>\n",
       "      <td id=\"T_0e669_row4_col1\" class=\"data row4 col1\" >0.000000</td>\n",
       "      <td id=\"T_0e669_row4_col2\" class=\"data row4 col2\" >-0.008600</td>\n",
       "      <td id=\"T_0e669_row4_col3\" class=\"data row4 col3\" >-0.013100</td>\n",
       "      <td id=\"T_0e669_row4_col4\" class=\"data row4 col4\" >1.000000</td>\n",
       "      <td id=\"T_0e669_row4_col5\" class=\"data row4 col5\" >-0.013300</td>\n",
       "      <td id=\"T_0e669_row4_col6\" class=\"data row4 col6\" >0.005600</td>\n",
       "    </tr>\n",
       "    <tr>\n",
       "      <th id=\"T_0e669_level0_row5\" class=\"row_heading level0 row5\" >PAST_ACCIDENTS</th>\n",
       "      <td id=\"T_0e669_row5_col0\" class=\"data row5 col0\" >0.431100</td>\n",
       "      <td id=\"T_0e669_row5_col1\" class=\"data row5 col1\" >-0.223200</td>\n",
       "      <td id=\"T_0e669_row5_col2\" class=\"data row5 col2\" >0.604700</td>\n",
       "      <td id=\"T_0e669_row5_col3\" class=\"data row5 col3\" >0.172100</td>\n",
       "      <td id=\"T_0e669_row5_col4\" class=\"data row5 col4\" >-0.013300</td>\n",
       "      <td id=\"T_0e669_row5_col5\" class=\"data row5 col5\" >1.000000</td>\n",
       "      <td id=\"T_0e669_row5_col6\" class=\"data row5 col6\" >-0.311500</td>\n",
       "    </tr>\n",
       "    <tr>\n",
       "      <th id=\"T_0e669_level0_row6\" class=\"row_heading level0 row6\" >OUTCOME</th>\n",
       "      <td id=\"T_0e669_row6_col0\" class=\"data row6 col0\" >-0.448500</td>\n",
       "      <td id=\"T_0e669_row6_col1\" class=\"data row6 col1\" >-0.107200</td>\n",
       "      <td id=\"T_0e669_row6_col2\" class=\"data row6 col2\" >-0.497400</td>\n",
       "      <td id=\"T_0e669_row6_col3\" class=\"data row6 col3\" >-0.309000</td>\n",
       "      <td id=\"T_0e669_row6_col4\" class=\"data row6 col4\" >0.005600</td>\n",
       "      <td id=\"T_0e669_row6_col5\" class=\"data row6 col5\" >-0.311500</td>\n",
       "      <td id=\"T_0e669_row6_col6\" class=\"data row6 col6\" >1.000000</td>\n",
       "    </tr>\n",
       "  </tbody>\n",
       "</table>\n"
      ],
      "text/plain": [
       "<pandas.io.formats.style.Styler at 0x164e12a8690>"
      ]
     },
     "execution_count": 447,
     "metadata": {},
     "output_type": "execute_result"
    }
   ],
   "source": [
    "corr = round(df.corr(),4)\n",
    "corr.style.background_gradient()"
   ]
  },
  {
   "cell_type": "code",
   "execution_count": 448,
   "metadata": {},
   "outputs": [],
   "source": [
    "data_x = df.drop('OUTCOME', axis=1)\n",
    "data_y = df['OUTCOME']"
   ]
  },
  {
   "cell_type": "code",
   "execution_count": 449,
   "metadata": {},
   "outputs": [
    {
     "data": {
      "text/html": [
       "<div>\n",
       "<style scoped>\n",
       "    .dataframe tbody tr th:only-of-type {\n",
       "        vertical-align: middle;\n",
       "    }\n",
       "\n",
       "    .dataframe tbody tr th {\n",
       "        vertical-align: top;\n",
       "    }\n",
       "\n",
       "    .dataframe thead th {\n",
       "        text-align: right;\n",
       "    }\n",
       "</style>\n",
       "<table border=\"1\" class=\"dataframe\">\n",
       "  <thead>\n",
       "    <tr style=\"text-align: right;\">\n",
       "      <th></th>\n",
       "      <th>AGE</th>\n",
       "      <th>GENDER</th>\n",
       "      <th>DRIVING_EXPERIENCE</th>\n",
       "      <th>CREDIT_SCORE</th>\n",
       "      <th>VEHICLE_TYPE</th>\n",
       "      <th>PAST_ACCIDENTS</th>\n",
       "    </tr>\n",
       "  </thead>\n",
       "  <tbody>\n",
       "    <tr>\n",
       "      <th>0</th>\n",
       "      <td>4</td>\n",
       "      <td>2</td>\n",
       "      <td>1</td>\n",
       "      <td>0.629027</td>\n",
       "      <td>1</td>\n",
       "      <td>0</td>\n",
       "    </tr>\n",
       "    <tr>\n",
       "      <th>1</th>\n",
       "      <td>1</td>\n",
       "      <td>1</td>\n",
       "      <td>1</td>\n",
       "      <td>0.357757</td>\n",
       "      <td>1</td>\n",
       "      <td>0</td>\n",
       "    </tr>\n",
       "    <tr>\n",
       "      <th>2</th>\n",
       "      <td>1</td>\n",
       "      <td>2</td>\n",
       "      <td>1</td>\n",
       "      <td>0.493146</td>\n",
       "      <td>1</td>\n",
       "      <td>0</td>\n",
       "    </tr>\n",
       "    <tr>\n",
       "      <th>3</th>\n",
       "      <td>1</td>\n",
       "      <td>1</td>\n",
       "      <td>1</td>\n",
       "      <td>0.206013</td>\n",
       "      <td>1</td>\n",
       "      <td>0</td>\n",
       "    </tr>\n",
       "    <tr>\n",
       "      <th>4</th>\n",
       "      <td>2</td>\n",
       "      <td>1</td>\n",
       "      <td>2</td>\n",
       "      <td>0.388366</td>\n",
       "      <td>1</td>\n",
       "      <td>1</td>\n",
       "    </tr>\n",
       "    <tr>\n",
       "      <th>...</th>\n",
       "      <td>...</td>\n",
       "      <td>...</td>\n",
       "      <td>...</td>\n",
       "      <td>...</td>\n",
       "      <td>...</td>\n",
       "      <td>...</td>\n",
       "    </tr>\n",
       "    <tr>\n",
       "      <th>9995</th>\n",
       "      <td>2</td>\n",
       "      <td>2</td>\n",
       "      <td>2</td>\n",
       "      <td>0.582787</td>\n",
       "      <td>1</td>\n",
       "      <td>1</td>\n",
       "    </tr>\n",
       "    <tr>\n",
       "      <th>9996</th>\n",
       "      <td>2</td>\n",
       "      <td>2</td>\n",
       "      <td>2</td>\n",
       "      <td>0.522231</td>\n",
       "      <td>1</td>\n",
       "      <td>0</td>\n",
       "    </tr>\n",
       "    <tr>\n",
       "      <th>9997</th>\n",
       "      <td>2</td>\n",
       "      <td>1</td>\n",
       "      <td>1</td>\n",
       "      <td>0.470940</td>\n",
       "      <td>1</td>\n",
       "      <td>0</td>\n",
       "    </tr>\n",
       "    <tr>\n",
       "      <th>9998</th>\n",
       "      <td>2</td>\n",
       "      <td>2</td>\n",
       "      <td>2</td>\n",
       "      <td>0.364185</td>\n",
       "      <td>1</td>\n",
       "      <td>1</td>\n",
       "    </tr>\n",
       "    <tr>\n",
       "      <th>9999</th>\n",
       "      <td>2</td>\n",
       "      <td>2</td>\n",
       "      <td>1</td>\n",
       "      <td>0.435225</td>\n",
       "      <td>1</td>\n",
       "      <td>0</td>\n",
       "    </tr>\n",
       "  </tbody>\n",
       "</table>\n",
       "<p>10000 rows × 6 columns</p>\n",
       "</div>"
      ],
      "text/plain": [
       "      AGE  GENDER  DRIVING_EXPERIENCE  CREDIT_SCORE  VEHICLE_TYPE  \\\n",
       "0       4       2                   1      0.629027             1   \n",
       "1       1       1                   1      0.357757             1   \n",
       "2       1       2                   1      0.493146             1   \n",
       "3       1       1                   1      0.206013             1   \n",
       "4       2       1                   2      0.388366             1   \n",
       "...   ...     ...                 ...           ...           ...   \n",
       "9995    2       2                   2      0.582787             1   \n",
       "9996    2       2                   2      0.522231             1   \n",
       "9997    2       1                   1      0.470940             1   \n",
       "9998    2       2                   2      0.364185             1   \n",
       "9999    2       2                   1      0.435225             1   \n",
       "\n",
       "      PAST_ACCIDENTS  \n",
       "0                  0  \n",
       "1                  0  \n",
       "2                  0  \n",
       "3                  0  \n",
       "4                  1  \n",
       "...              ...  \n",
       "9995               1  \n",
       "9996               0  \n",
       "9997               0  \n",
       "9998               1  \n",
       "9999               0  \n",
       "\n",
       "[10000 rows x 6 columns]"
      ]
     },
     "execution_count": 449,
     "metadata": {},
     "output_type": "execute_result"
    }
   ],
   "source": [
    "data_x"
   ]
  },
  {
   "cell_type": "code",
   "execution_count": 450,
   "metadata": {},
   "outputs": [],
   "source": [
    "decission_model = DecisionTreeClassifier()"
   ]
  },
  {
   "cell_type": "code",
   "execution_count": 451,
   "metadata": {},
   "outputs": [],
   "source": [
    "train_x, test_x, train_y, test_y = train_test_split(data_x, data_y, train_size=0.9)"
   ]
  },
  {
   "cell_type": "code",
   "execution_count": 452,
   "metadata": {},
   "outputs": [
    {
     "data": {
      "text/html": [
       "<style>#sk-container-id-36 {color: black;}#sk-container-id-36 pre{padding: 0;}#sk-container-id-36 div.sk-toggleable {background-color: white;}#sk-container-id-36 label.sk-toggleable__label {cursor: pointer;display: block;width: 100%;margin-bottom: 0;padding: 0.3em;box-sizing: border-box;text-align: center;}#sk-container-id-36 label.sk-toggleable__label-arrow:before {content: \"▸\";float: left;margin-right: 0.25em;color: #696969;}#sk-container-id-36 label.sk-toggleable__label-arrow:hover:before {color: black;}#sk-container-id-36 div.sk-estimator:hover label.sk-toggleable__label-arrow:before {color: black;}#sk-container-id-36 div.sk-toggleable__content {max-height: 0;max-width: 0;overflow: hidden;text-align: left;background-color: #f0f8ff;}#sk-container-id-36 div.sk-toggleable__content pre {margin: 0.2em;color: black;border-radius: 0.25em;background-color: #f0f8ff;}#sk-container-id-36 input.sk-toggleable__control:checked~div.sk-toggleable__content {max-height: 200px;max-width: 100%;overflow: auto;}#sk-container-id-36 input.sk-toggleable__control:checked~label.sk-toggleable__label-arrow:before {content: \"▾\";}#sk-container-id-36 div.sk-estimator input.sk-toggleable__control:checked~label.sk-toggleable__label {background-color: #d4ebff;}#sk-container-id-36 div.sk-label input.sk-toggleable__control:checked~label.sk-toggleable__label {background-color: #d4ebff;}#sk-container-id-36 input.sk-hidden--visually {border: 0;clip: rect(1px 1px 1px 1px);clip: rect(1px, 1px, 1px, 1px);height: 1px;margin: -1px;overflow: hidden;padding: 0;position: absolute;width: 1px;}#sk-container-id-36 div.sk-estimator {font-family: monospace;background-color: #f0f8ff;border: 1px dotted black;border-radius: 0.25em;box-sizing: border-box;margin-bottom: 0.5em;}#sk-container-id-36 div.sk-estimator:hover {background-color: #d4ebff;}#sk-container-id-36 div.sk-parallel-item::after {content: \"\";width: 100%;border-bottom: 1px solid gray;flex-grow: 1;}#sk-container-id-36 div.sk-label:hover label.sk-toggleable__label {background-color: #d4ebff;}#sk-container-id-36 div.sk-serial::before {content: \"\";position: absolute;border-left: 1px solid gray;box-sizing: border-box;top: 0;bottom: 0;left: 50%;z-index: 0;}#sk-container-id-36 div.sk-serial {display: flex;flex-direction: column;align-items: center;background-color: white;padding-right: 0.2em;padding-left: 0.2em;position: relative;}#sk-container-id-36 div.sk-item {position: relative;z-index: 1;}#sk-container-id-36 div.sk-parallel {display: flex;align-items: stretch;justify-content: center;background-color: white;position: relative;}#sk-container-id-36 div.sk-item::before, #sk-container-id-36 div.sk-parallel-item::before {content: \"\";position: absolute;border-left: 1px solid gray;box-sizing: border-box;top: 0;bottom: 0;left: 50%;z-index: -1;}#sk-container-id-36 div.sk-parallel-item {display: flex;flex-direction: column;z-index: 1;position: relative;background-color: white;}#sk-container-id-36 div.sk-parallel-item:first-child::after {align-self: flex-end;width: 50%;}#sk-container-id-36 div.sk-parallel-item:last-child::after {align-self: flex-start;width: 50%;}#sk-container-id-36 div.sk-parallel-item:only-child::after {width: 0;}#sk-container-id-36 div.sk-dashed-wrapped {border: 1px dashed gray;margin: 0 0.4em 0.5em 0.4em;box-sizing: border-box;padding-bottom: 0.4em;background-color: white;}#sk-container-id-36 div.sk-label label {font-family: monospace;font-weight: bold;display: inline-block;line-height: 1.2em;}#sk-container-id-36 div.sk-label-container {text-align: center;}#sk-container-id-36 div.sk-container {/* jupyter's `normalize.less` sets `[hidden] { display: none; }` but bootstrap.min.css set `[hidden] { display: none !important; }` so we also need the `!important` here to be able to override the default hidden behavior on the sphinx rendered scikit-learn.org. See: https://github.com/scikit-learn/scikit-learn/issues/21755 */display: inline-block !important;position: relative;}#sk-container-id-36 div.sk-text-repr-fallback {display: none;}</style><div id=\"sk-container-id-36\" class=\"sk-top-container\"><div class=\"sk-text-repr-fallback\"><pre>DecisionTreeClassifier()</pre><b>In a Jupyter environment, please rerun this cell to show the HTML representation or trust the notebook. <br />On GitHub, the HTML representation is unable to render, please try loading this page with nbviewer.org.</b></div><div class=\"sk-container\" hidden><div class=\"sk-item\"><div class=\"sk-estimator sk-toggleable\"><input class=\"sk-toggleable__control sk-hidden--visually\" id=\"sk-estimator-id-36\" type=\"checkbox\" checked><label for=\"sk-estimator-id-36\" class=\"sk-toggleable__label sk-toggleable__label-arrow\">DecisionTreeClassifier</label><div class=\"sk-toggleable__content\"><pre>DecisionTreeClassifier()</pre></div></div></div></div></div>"
      ],
      "text/plain": [
       "DecisionTreeClassifier()"
      ]
     },
     "execution_count": 452,
     "metadata": {},
     "output_type": "execute_result"
    }
   ],
   "source": [
    "decission_model.fit(train_x, train_y)"
   ]
  },
  {
   "cell_type": "code",
   "execution_count": 453,
   "metadata": {},
   "outputs": [],
   "source": [
    "y_predicted = decission_model.predict(test_x)"
   ]
  },
  {
   "cell_type": "code",
   "execution_count": 454,
   "metadata": {},
   "outputs": [
    {
     "name": "stdout",
     "output_type": "stream",
     "text": [
      "Score del modelo: 71.5 %\n"
     ]
    }
   ],
   "source": [
    "print(f'Score del modelo: {round(decission_model.score(test_x, test_y), 4)*100} %')"
   ]
  },
  {
   "cell_type": "code",
   "execution_count": 455,
   "metadata": {},
   "outputs": [],
   "source": [
    "ages = ['16-25', '26-39', '40-64', '65+']\n",
    "sex = ['masculino','femenino']\n",
    "year_experience = ['0-9','10-19','20-29','30+']\n",
    "vehicule = ['sedan', 'sports car']\n",
    "state = ['si reclamo', 'no reclamo']\n",
    "\n",
    "\n",
    "def auto_insurance_claims(model, age, gender, driving_experience, credit_score, vehicule_type, past_accident):\n",
    "    predicted = model.predict([[age, gender, driving_experience, credit_score, vehicule_type, past_accident]])\n",
    "    print(f'La persona con edad entre {ages[age]} de sexo {sex[gender]} de {year_experience[driving_experience]} años de experiencia conduciendo un {vehicule[vehicule_type]} que tiene un puntaje de credito de {credit_score} y accidentes pasadas de {past_accident}, {state[predicted[0]]} el seguro de su vehiculo.')"
   ]
  },
  {
   "cell_type": "code",
   "execution_count": 456,
   "metadata": {},
   "outputs": [
    {
     "name": "stdout",
     "output_type": "stream",
     "text": [
      "La persona con edad entre 16-25 de sexo masculino de 0-9 años de experiencia conduciendo un sports car que tiene un puntaje de credito de 0.629027313918201 y accidentes pasadas de 3, si reclamo el seguro de su vehiculo.\n"
     ]
    },
    {
     "name": "stderr",
     "output_type": "stream",
     "text": [
      "c:\\Users\\Alexis\\Desktop\\apuntes en clase de algoritmica\\apuntesAlgoritmica\\venv\\Lib\\site-packages\\sklearn\\base.py:465: UserWarning: X does not have valid feature names, but DecisionTreeClassifier was fitted with feature names\n",
      "  warnings.warn(\n"
     ]
    }
   ],
   "source": [
    "auto_insurance_claims(decission_model, 0, 0, 0, 0.629027313918201, 1, 3)"
   ]
  }
 ],
 "metadata": {
  "kernelspec": {
   "display_name": "venv",
   "language": "python",
   "name": "python3"
  },
  "language_info": {
   "codemirror_mode": {
    "name": "ipython",
    "version": 3
   },
   "file_extension": ".py",
   "mimetype": "text/x-python",
   "name": "python",
   "nbconvert_exporter": "python",
   "pygments_lexer": "ipython3",
   "version": "3.11.5"
  }
 },
 "nbformat": 4,
 "nbformat_minor": 2
}
