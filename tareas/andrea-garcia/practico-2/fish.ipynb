{
 "cells": [
  {
   "cell_type": "markdown",
   "metadata": {},
   "source": [
    "### Regresion lineal "
   ]
  },
  {
   "cell_type": "code",
   "execution_count": 1038,
   "metadata": {},
   "outputs": [],
   "source": [
    "from sklearn.model_selection import train_test_split\n",
    "from sklearn.linear_model import LinearRegression\n",
    "\n",
    "import pandas as pd\n",
    "import numpy as np\n",
    "import matplotlib.pyplot as plt"
   ]
  },
  {
   "cell_type": "code",
   "execution_count": 1039,
   "metadata": {},
   "outputs": [],
   "source": [
    "df = pd.read_csv('dataset_fish.csv')"
   ]
  },
  {
   "cell_type": "code",
   "execution_count": 1040,
   "metadata": {},
   "outputs": [
    {
     "data": {
      "text/plain": [
       "Species     object\n",
       "Weight     float64\n",
       "Length1    float64\n",
       "Length2    float64\n",
       "Length3    float64\n",
       "Height     float64\n",
       "Width      float64\n",
       "dtype: object"
      ]
     },
     "execution_count": 1040,
     "metadata": {},
     "output_type": "execute_result"
    }
   ],
   "source": [
    "df.dtypes"
   ]
  },
  {
   "cell_type": "code",
   "execution_count": 1041,
   "metadata": {},
   "outputs": [
    {
     "data": {
      "text/plain": [
       "array(['Bream', 'Roach', 'Whitefish', 'Parkki', 'Perch', 'Pike', 'Smelt'],\n",
       "      dtype=object)"
      ]
     },
     "execution_count": 1041,
     "metadata": {},
     "output_type": "execute_result"
    }
   ],
   "source": [
    "df.Species.unique()"
   ]
  },
  {
   "cell_type": "code",
   "execution_count": 1042,
   "metadata": {},
   "outputs": [],
   "source": [
    "df.Species = df.Species.map({'Bream': 1, 'Roach': 2, 'Whitefish': 3, 'Parkki': 4, 'Perch': 5, 'Pike': 6, 'Smelt': 7})"
   ]
  },
  {
   "cell_type": "code",
   "execution_count": 1043,
   "metadata": {},
   "outputs": [
    {
     "data": {
      "text/plain": [
       "Species      int64\n",
       "Weight     float64\n",
       "Length1    float64\n",
       "Length2    float64\n",
       "Length3    float64\n",
       "Height     float64\n",
       "Width      float64\n",
       "dtype: object"
      ]
     },
     "execution_count": 1043,
     "metadata": {},
     "output_type": "execute_result"
    }
   ],
   "source": [
    "df.dtypes"
   ]
  },
  {
   "cell_type": "code",
   "execution_count": 1044,
   "metadata": {},
   "outputs": [
    {
     "data": {
      "text/html": [
       "<div>\n",
       "<style scoped>\n",
       "    .dataframe tbody tr th:only-of-type {\n",
       "        vertical-align: middle;\n",
       "    }\n",
       "\n",
       "    .dataframe tbody tr th {\n",
       "        vertical-align: top;\n",
       "    }\n",
       "\n",
       "    .dataframe thead th {\n",
       "        text-align: right;\n",
       "    }\n",
       "</style>\n",
       "<table border=\"1\" class=\"dataframe\">\n",
       "  <thead>\n",
       "    <tr style=\"text-align: right;\">\n",
       "      <th></th>\n",
       "      <th>Species</th>\n",
       "      <th>Weight</th>\n",
       "      <th>Length1</th>\n",
       "      <th>Length2</th>\n",
       "      <th>Length3</th>\n",
       "      <th>Height</th>\n",
       "      <th>Width</th>\n",
       "    </tr>\n",
       "  </thead>\n",
       "  <tbody>\n",
       "    <tr>\n",
       "      <th>154</th>\n",
       "      <td>7</td>\n",
       "      <td>12.2</td>\n",
       "      <td>11.5</td>\n",
       "      <td>12.2</td>\n",
       "      <td>13.4</td>\n",
       "      <td>2.0904</td>\n",
       "      <td>1.3936</td>\n",
       "    </tr>\n",
       "    <tr>\n",
       "      <th>155</th>\n",
       "      <td>7</td>\n",
       "      <td>13.4</td>\n",
       "      <td>11.7</td>\n",
       "      <td>12.4</td>\n",
       "      <td>13.5</td>\n",
       "      <td>2.4300</td>\n",
       "      <td>1.2690</td>\n",
       "    </tr>\n",
       "    <tr>\n",
       "      <th>156</th>\n",
       "      <td>7</td>\n",
       "      <td>12.2</td>\n",
       "      <td>12.1</td>\n",
       "      <td>13.0</td>\n",
       "      <td>13.8</td>\n",
       "      <td>2.2770</td>\n",
       "      <td>1.2558</td>\n",
       "    </tr>\n",
       "    <tr>\n",
       "      <th>157</th>\n",
       "      <td>7</td>\n",
       "      <td>19.7</td>\n",
       "      <td>13.2</td>\n",
       "      <td>14.3</td>\n",
       "      <td>15.2</td>\n",
       "      <td>2.8728</td>\n",
       "      <td>2.0672</td>\n",
       "    </tr>\n",
       "    <tr>\n",
       "      <th>158</th>\n",
       "      <td>7</td>\n",
       "      <td>19.9</td>\n",
       "      <td>13.8</td>\n",
       "      <td>15.0</td>\n",
       "      <td>16.2</td>\n",
       "      <td>2.9322</td>\n",
       "      <td>1.8792</td>\n",
       "    </tr>\n",
       "  </tbody>\n",
       "</table>\n",
       "</div>"
      ],
      "text/plain": [
       "     Species  Weight  Length1  Length2  Length3  Height   Width\n",
       "154        7    12.2     11.5     12.2     13.4  2.0904  1.3936\n",
       "155        7    13.4     11.7     12.4     13.5  2.4300  1.2690\n",
       "156        7    12.2     12.1     13.0     13.8  2.2770  1.2558\n",
       "157        7    19.7     13.2     14.3     15.2  2.8728  2.0672\n",
       "158        7    19.9     13.8     15.0     16.2  2.9322  1.8792"
      ]
     },
     "execution_count": 1044,
     "metadata": {},
     "output_type": "execute_result"
    }
   ],
   "source": [
    "df.tail()"
   ]
  },
  {
   "cell_type": "code",
   "execution_count": 1045,
   "metadata": {},
   "outputs": [
    {
     "data": {
      "text/html": [
       "<div>\n",
       "<style scoped>\n",
       "    .dataframe tbody tr th:only-of-type {\n",
       "        vertical-align: middle;\n",
       "    }\n",
       "\n",
       "    .dataframe tbody tr th {\n",
       "        vertical-align: top;\n",
       "    }\n",
       "\n",
       "    .dataframe thead th {\n",
       "        text-align: right;\n",
       "    }\n",
       "</style>\n",
       "<table border=\"1\" class=\"dataframe\">\n",
       "  <thead>\n",
       "    <tr style=\"text-align: right;\">\n",
       "      <th></th>\n",
       "      <th>Species</th>\n",
       "      <th>Weight</th>\n",
       "      <th>Length1</th>\n",
       "      <th>Length2</th>\n",
       "      <th>Length3</th>\n",
       "      <th>Height</th>\n",
       "      <th>Width</th>\n",
       "    </tr>\n",
       "  </thead>\n",
       "  <tbody>\n",
       "    <tr>\n",
       "      <th>count</th>\n",
       "      <td>159.000000</td>\n",
       "      <td>159.000000</td>\n",
       "      <td>159.000000</td>\n",
       "      <td>159.000000</td>\n",
       "      <td>159.000000</td>\n",
       "      <td>159.000000</td>\n",
       "      <td>159.000000</td>\n",
       "    </tr>\n",
       "    <tr>\n",
       "      <th>mean</th>\n",
       "      <td>3.880503</td>\n",
       "      <td>398.326415</td>\n",
       "      <td>26.247170</td>\n",
       "      <td>28.415723</td>\n",
       "      <td>31.227044</td>\n",
       "      <td>8.970994</td>\n",
       "      <td>4.417486</td>\n",
       "    </tr>\n",
       "    <tr>\n",
       "      <th>std</th>\n",
       "      <td>2.026298</td>\n",
       "      <td>357.978317</td>\n",
       "      <td>9.996441</td>\n",
       "      <td>10.716328</td>\n",
       "      <td>11.610246</td>\n",
       "      <td>4.286208</td>\n",
       "      <td>1.685804</td>\n",
       "    </tr>\n",
       "    <tr>\n",
       "      <th>min</th>\n",
       "      <td>1.000000</td>\n",
       "      <td>0.000000</td>\n",
       "      <td>7.500000</td>\n",
       "      <td>8.400000</td>\n",
       "      <td>8.800000</td>\n",
       "      <td>1.728400</td>\n",
       "      <td>1.047600</td>\n",
       "    </tr>\n",
       "    <tr>\n",
       "      <th>25%</th>\n",
       "      <td>2.000000</td>\n",
       "      <td>120.000000</td>\n",
       "      <td>19.050000</td>\n",
       "      <td>21.000000</td>\n",
       "      <td>23.150000</td>\n",
       "      <td>5.944800</td>\n",
       "      <td>3.385650</td>\n",
       "    </tr>\n",
       "    <tr>\n",
       "      <th>50%</th>\n",
       "      <td>5.000000</td>\n",
       "      <td>273.000000</td>\n",
       "      <td>25.200000</td>\n",
       "      <td>27.300000</td>\n",
       "      <td>29.400000</td>\n",
       "      <td>7.786000</td>\n",
       "      <td>4.248500</td>\n",
       "    </tr>\n",
       "    <tr>\n",
       "      <th>75%</th>\n",
       "      <td>5.000000</td>\n",
       "      <td>650.000000</td>\n",
       "      <td>32.700000</td>\n",
       "      <td>35.500000</td>\n",
       "      <td>39.650000</td>\n",
       "      <td>12.365900</td>\n",
       "      <td>5.584500</td>\n",
       "    </tr>\n",
       "    <tr>\n",
       "      <th>max</th>\n",
       "      <td>7.000000</td>\n",
       "      <td>1650.000000</td>\n",
       "      <td>59.000000</td>\n",
       "      <td>63.400000</td>\n",
       "      <td>68.000000</td>\n",
       "      <td>18.957000</td>\n",
       "      <td>8.142000</td>\n",
       "    </tr>\n",
       "  </tbody>\n",
       "</table>\n",
       "</div>"
      ],
      "text/plain": [
       "          Species       Weight     Length1     Length2     Length3  \\\n",
       "count  159.000000   159.000000  159.000000  159.000000  159.000000   \n",
       "mean     3.880503   398.326415   26.247170   28.415723   31.227044   \n",
       "std      2.026298   357.978317    9.996441   10.716328   11.610246   \n",
       "min      1.000000     0.000000    7.500000    8.400000    8.800000   \n",
       "25%      2.000000   120.000000   19.050000   21.000000   23.150000   \n",
       "50%      5.000000   273.000000   25.200000   27.300000   29.400000   \n",
       "75%      5.000000   650.000000   32.700000   35.500000   39.650000   \n",
       "max      7.000000  1650.000000   59.000000   63.400000   68.000000   \n",
       "\n",
       "           Height       Width  \n",
       "count  159.000000  159.000000  \n",
       "mean     8.970994    4.417486  \n",
       "std      4.286208    1.685804  \n",
       "min      1.728400    1.047600  \n",
       "25%      5.944800    3.385650  \n",
       "50%      7.786000    4.248500  \n",
       "75%     12.365900    5.584500  \n",
       "max     18.957000    8.142000  "
      ]
     },
     "execution_count": 1045,
     "metadata": {},
     "output_type": "execute_result"
    }
   ],
   "source": [
    "df.describe()"
   ]
  },
  {
   "cell_type": "code",
   "execution_count": 1046,
   "metadata": {},
   "outputs": [
    {
     "data": {
      "text/html": [
       "<style type=\"text/css\">\n",
       "#T_462fa_row0_col0, #T_462fa_row1_col1, #T_462fa_row2_col2, #T_462fa_row2_col3, #T_462fa_row3_col2, #T_462fa_row3_col3, #T_462fa_row4_col4, #T_462fa_row5_col5, #T_462fa_row6_col6 {\n",
       "  background-color: #023858;\n",
       "  color: #f1f1f1;\n",
       "}\n",
       "#T_462fa_row0_col1, #T_462fa_row0_col2, #T_462fa_row0_col3, #T_462fa_row0_col4, #T_462fa_row0_col5, #T_462fa_row0_col6, #T_462fa_row5_col0 {\n",
       "  background-color: #fff7fb;\n",
       "  color: #000000;\n",
       "}\n",
       "#T_462fa_row1_col0 {\n",
       "  background-color: #bdc8e1;\n",
       "  color: #000000;\n",
       "}\n",
       "#T_462fa_row1_col2 {\n",
       "  background-color: #034c78;\n",
       "  color: #f1f1f1;\n",
       "}\n",
       "#T_462fa_row1_col3, #T_462fa_row2_col1 {\n",
       "  background-color: #034b76;\n",
       "  color: #f1f1f1;\n",
       "}\n",
       "#T_462fa_row1_col4, #T_462fa_row4_col1 {\n",
       "  background-color: #034973;\n",
       "  color: #f1f1f1;\n",
       "}\n",
       "#T_462fa_row1_col5 {\n",
       "  background-color: #046097;\n",
       "  color: #f1f1f1;\n",
       "}\n",
       "#T_462fa_row1_col6 {\n",
       "  background-color: #034f7d;\n",
       "  color: #f1f1f1;\n",
       "}\n",
       "#T_462fa_row2_col0 {\n",
       "  background-color: #afc1dd;\n",
       "  color: #000000;\n",
       "}\n",
       "#T_462fa_row2_col4, #T_462fa_row3_col4, #T_462fa_row4_col2, #T_462fa_row4_col3 {\n",
       "  background-color: #02395a;\n",
       "  color: #f1f1f1;\n",
       "}\n",
       "#T_462fa_row2_col5 {\n",
       "  background-color: #056ba7;\n",
       "  color: #f1f1f1;\n",
       "}\n",
       "#T_462fa_row2_col6, #T_462fa_row6_col4 {\n",
       "  background-color: #045382;\n",
       "  color: #f1f1f1;\n",
       "}\n",
       "#T_462fa_row3_col0 {\n",
       "  background-color: #b1c2de;\n",
       "  color: #000000;\n",
       "}\n",
       "#T_462fa_row3_col1 {\n",
       "  background-color: #034a74;\n",
       "  color: #f1f1f1;\n",
       "}\n",
       "#T_462fa_row3_col5 {\n",
       "  background-color: #0569a5;\n",
       "  color: #f1f1f1;\n",
       "}\n",
       "#T_462fa_row3_col6, #T_462fa_row6_col1 {\n",
       "  background-color: #045280;\n",
       "  color: #f1f1f1;\n",
       "}\n",
       "#T_462fa_row4_col0 {\n",
       "  background-color: #c4cbe3;\n",
       "  color: #000000;\n",
       "}\n",
       "#T_462fa_row4_col5 {\n",
       "  background-color: #04629a;\n",
       "  color: #f1f1f1;\n",
       "}\n",
       "#T_462fa_row4_col6 {\n",
       "  background-color: #03517e;\n",
       "  color: #f1f1f1;\n",
       "}\n",
       "#T_462fa_row5_col1 {\n",
       "  background-color: #056dab;\n",
       "  color: #f1f1f1;\n",
       "}\n",
       "#T_462fa_row5_col2 {\n",
       "  background-color: #2987bc;\n",
       "  color: #f1f1f1;\n",
       "}\n",
       "#T_462fa_row5_col3 {\n",
       "  background-color: #2182b9;\n",
       "  color: #f1f1f1;\n",
       "}\n",
       "#T_462fa_row5_col4 {\n",
       "  background-color: #056fae;\n",
       "  color: #f1f1f1;\n",
       "}\n",
       "#T_462fa_row5_col6 {\n",
       "  background-color: #046096;\n",
       "  color: #f1f1f1;\n",
       "}\n",
       "#T_462fa_row6_col0 {\n",
       "  background-color: #d6d6e9;\n",
       "  color: #000000;\n",
       "}\n",
       "#T_462fa_row6_col2 {\n",
       "  background-color: #04588a;\n",
       "  color: #f1f1f1;\n",
       "}\n",
       "#T_462fa_row6_col3 {\n",
       "  background-color: #045687;\n",
       "  color: #f1f1f1;\n",
       "}\n",
       "#T_462fa_row6_col5 {\n",
       "  background-color: #04598c;\n",
       "  color: #f1f1f1;\n",
       "}\n",
       "</style>\n",
       "<table id=\"T_462fa\">\n",
       "  <thead>\n",
       "    <tr>\n",
       "      <th class=\"blank level0\" >&nbsp;</th>\n",
       "      <th id=\"T_462fa_level0_col0\" class=\"col_heading level0 col0\" >Species</th>\n",
       "      <th id=\"T_462fa_level0_col1\" class=\"col_heading level0 col1\" >Weight</th>\n",
       "      <th id=\"T_462fa_level0_col2\" class=\"col_heading level0 col2\" >Length1</th>\n",
       "      <th id=\"T_462fa_level0_col3\" class=\"col_heading level0 col3\" >Length2</th>\n",
       "      <th id=\"T_462fa_level0_col4\" class=\"col_heading level0 col4\" >Length3</th>\n",
       "      <th id=\"T_462fa_level0_col5\" class=\"col_heading level0 col5\" >Height</th>\n",
       "      <th id=\"T_462fa_level0_col6\" class=\"col_heading level0 col6\" >Width</th>\n",
       "    </tr>\n",
       "  </thead>\n",
       "  <tbody>\n",
       "    <tr>\n",
       "      <th id=\"T_462fa_level0_row0\" class=\"row_heading level0 row0\" >Species</th>\n",
       "      <td id=\"T_462fa_row0_col0\" class=\"data row0 col0\" >1.000000</td>\n",
       "      <td id=\"T_462fa_row0_col1\" class=\"data row0 col1\" >-0.176800</td>\n",
       "      <td id=\"T_462fa_row0_col2\" class=\"data row0 col2\" >-0.101200</td>\n",
       "      <td id=\"T_462fa_row0_col3\" class=\"data row0 col3\" >-0.118400</td>\n",
       "      <td id=\"T_462fa_row0_col4\" class=\"data row0 col4\" >-0.209500</td>\n",
       "      <td id=\"T_462fa_row0_col5\" class=\"data row0 col5\" >-0.697000</td>\n",
       "      <td id=\"T_462fa_row0_col6\" class=\"data row0 col6\" >-0.315200</td>\n",
       "    </tr>\n",
       "    <tr>\n",
       "      <th id=\"T_462fa_level0_row1\" class=\"row_heading level0 row1\" >Weight</th>\n",
       "      <td id=\"T_462fa_row1_col0\" class=\"data row1 col0\" >-0.176800</td>\n",
       "      <td id=\"T_462fa_row1_col1\" class=\"data row1 col1\" >1.000000</td>\n",
       "      <td id=\"T_462fa_row1_col2\" class=\"data row1 col2\" >0.915700</td>\n",
       "      <td id=\"T_462fa_row1_col3\" class=\"data row1 col3\" >0.918600</td>\n",
       "      <td id=\"T_462fa_row1_col4\" class=\"data row1 col4\" >0.923000</td>\n",
       "      <td id=\"T_462fa_row1_col5\" class=\"data row1 col5\" >0.724300</td>\n",
       "      <td id=\"T_462fa_row1_col6\" class=\"data row1 col6\" >0.886500</td>\n",
       "    </tr>\n",
       "    <tr>\n",
       "      <th id=\"T_462fa_level0_row2\" class=\"row_heading level0 row2\" >Length1</th>\n",
       "      <td id=\"T_462fa_row2_col0\" class=\"data row2 col0\" >-0.101200</td>\n",
       "      <td id=\"T_462fa_row2_col1\" class=\"data row2 col1\" >0.915700</td>\n",
       "      <td id=\"T_462fa_row2_col2\" class=\"data row2 col2\" >1.000000</td>\n",
       "      <td id=\"T_462fa_row2_col3\" class=\"data row2 col3\" >0.999500</td>\n",
       "      <td id=\"T_462fa_row2_col4\" class=\"data row2 col4\" >0.992000</td>\n",
       "      <td id=\"T_462fa_row2_col5\" class=\"data row2 col5\" >0.625400</td>\n",
       "      <td id=\"T_462fa_row2_col6\" class=\"data row2 col6\" >0.867000</td>\n",
       "    </tr>\n",
       "    <tr>\n",
       "      <th id=\"T_462fa_level0_row3\" class=\"row_heading level0 row3\" >Length2</th>\n",
       "      <td id=\"T_462fa_row3_col0\" class=\"data row3 col0\" >-0.118400</td>\n",
       "      <td id=\"T_462fa_row3_col1\" class=\"data row3 col1\" >0.918600</td>\n",
       "      <td id=\"T_462fa_row3_col2\" class=\"data row3 col2\" >0.999500</td>\n",
       "      <td id=\"T_462fa_row3_col3\" class=\"data row3 col3\" >1.000000</td>\n",
       "      <td id=\"T_462fa_row3_col4\" class=\"data row3 col4\" >0.994100</td>\n",
       "      <td id=\"T_462fa_row3_col5\" class=\"data row3 col5\" >0.640400</td>\n",
       "      <td id=\"T_462fa_row3_col6\" class=\"data row3 col6\" >0.873500</td>\n",
       "    </tr>\n",
       "    <tr>\n",
       "      <th id=\"T_462fa_level0_row4\" class=\"row_heading level0 row4\" >Length3</th>\n",
       "      <td id=\"T_462fa_row4_col0\" class=\"data row4 col0\" >-0.209500</td>\n",
       "      <td id=\"T_462fa_row4_col1\" class=\"data row4 col1\" >0.923000</td>\n",
       "      <td id=\"T_462fa_row4_col2\" class=\"data row4 col2\" >0.992000</td>\n",
       "      <td id=\"T_462fa_row4_col3\" class=\"data row4 col3\" >0.994100</td>\n",
       "      <td id=\"T_462fa_row4_col4\" class=\"data row4 col4\" >1.000000</td>\n",
       "      <td id=\"T_462fa_row4_col5\" class=\"data row4 col5\" >0.703400</td>\n",
       "      <td id=\"T_462fa_row4_col6\" class=\"data row4 col6\" >0.878500</td>\n",
       "    </tr>\n",
       "    <tr>\n",
       "      <th id=\"T_462fa_level0_row5\" class=\"row_heading level0 row5\" >Height</th>\n",
       "      <td id=\"T_462fa_row5_col0\" class=\"data row5 col0\" >-0.697000</td>\n",
       "      <td id=\"T_462fa_row5_col1\" class=\"data row5 col1\" >0.724300</td>\n",
       "      <td id=\"T_462fa_row5_col2\" class=\"data row5 col2\" >0.625400</td>\n",
       "      <td id=\"T_462fa_row5_col3\" class=\"data row5 col3\" >0.640400</td>\n",
       "      <td id=\"T_462fa_row5_col4\" class=\"data row5 col4\" >0.703400</td>\n",
       "      <td id=\"T_462fa_row5_col5\" class=\"data row5 col5\" >1.000000</td>\n",
       "      <td id=\"T_462fa_row5_col6\" class=\"data row5 col6\" >0.792900</td>\n",
       "    </tr>\n",
       "    <tr>\n",
       "      <th id=\"T_462fa_level0_row6\" class=\"row_heading level0 row6\" >Width</th>\n",
       "      <td id=\"T_462fa_row6_col0\" class=\"data row6 col0\" >-0.315200</td>\n",
       "      <td id=\"T_462fa_row6_col1\" class=\"data row6 col1\" >0.886500</td>\n",
       "      <td id=\"T_462fa_row6_col2\" class=\"data row6 col2\" >0.867000</td>\n",
       "      <td id=\"T_462fa_row6_col3\" class=\"data row6 col3\" >0.873500</td>\n",
       "      <td id=\"T_462fa_row6_col4\" class=\"data row6 col4\" >0.878500</td>\n",
       "      <td id=\"T_462fa_row6_col5\" class=\"data row6 col5\" >0.792900</td>\n",
       "      <td id=\"T_462fa_row6_col6\" class=\"data row6 col6\" >1.000000</td>\n",
       "    </tr>\n",
       "  </tbody>\n",
       "</table>\n"
      ],
      "text/plain": [
       "<pandas.io.formats.style.Styler at 0x1d804105250>"
      ]
     },
     "execution_count": 1046,
     "metadata": {},
     "output_type": "execute_result"
    }
   ],
   "source": [
    "corr = round(df.corr(), 4)\n",
    "corr.style.background_gradient()"
   ]
  },
  {
   "cell_type": "code",
   "execution_count": 1166,
   "metadata": {},
   "outputs": [],
   "source": [
    "data_x = df.drop(['Weight', 'Species'], axis=1)\n",
    "data_y = df.Weight"
   ]
  },
  {
   "cell_type": "code",
   "execution_count": 1167,
   "metadata": {},
   "outputs": [],
   "source": [
    "train_x, test_x, train_y, test_y = train_test_split(data_x, data_y, test_size=0.2)"
   ]
  },
  {
   "cell_type": "code",
   "execution_count": 1168,
   "metadata": {},
   "outputs": [],
   "source": [
    "linear_reg = LinearRegression()"
   ]
  },
  {
   "cell_type": "code",
   "execution_count": 1169,
   "metadata": {},
   "outputs": [
    {
     "data": {
      "text/html": [
       "<style>#sk-container-id-195 {color: black;}#sk-container-id-195 pre{padding: 0;}#sk-container-id-195 div.sk-toggleable {background-color: white;}#sk-container-id-195 label.sk-toggleable__label {cursor: pointer;display: block;width: 100%;margin-bottom: 0;padding: 0.3em;box-sizing: border-box;text-align: center;}#sk-container-id-195 label.sk-toggleable__label-arrow:before {content: \"▸\";float: left;margin-right: 0.25em;color: #696969;}#sk-container-id-195 label.sk-toggleable__label-arrow:hover:before {color: black;}#sk-container-id-195 div.sk-estimator:hover label.sk-toggleable__label-arrow:before {color: black;}#sk-container-id-195 div.sk-toggleable__content {max-height: 0;max-width: 0;overflow: hidden;text-align: left;background-color: #f0f8ff;}#sk-container-id-195 div.sk-toggleable__content pre {margin: 0.2em;color: black;border-radius: 0.25em;background-color: #f0f8ff;}#sk-container-id-195 input.sk-toggleable__control:checked~div.sk-toggleable__content {max-height: 200px;max-width: 100%;overflow: auto;}#sk-container-id-195 input.sk-toggleable__control:checked~label.sk-toggleable__label-arrow:before {content: \"▾\";}#sk-container-id-195 div.sk-estimator input.sk-toggleable__control:checked~label.sk-toggleable__label {background-color: #d4ebff;}#sk-container-id-195 div.sk-label input.sk-toggleable__control:checked~label.sk-toggleable__label {background-color: #d4ebff;}#sk-container-id-195 input.sk-hidden--visually {border: 0;clip: rect(1px 1px 1px 1px);clip: rect(1px, 1px, 1px, 1px);height: 1px;margin: -1px;overflow: hidden;padding: 0;position: absolute;width: 1px;}#sk-container-id-195 div.sk-estimator {font-family: monospace;background-color: #f0f8ff;border: 1px dotted black;border-radius: 0.25em;box-sizing: border-box;margin-bottom: 0.5em;}#sk-container-id-195 div.sk-estimator:hover {background-color: #d4ebff;}#sk-container-id-195 div.sk-parallel-item::after {content: \"\";width: 100%;border-bottom: 1px solid gray;flex-grow: 1;}#sk-container-id-195 div.sk-label:hover label.sk-toggleable__label {background-color: #d4ebff;}#sk-container-id-195 div.sk-serial::before {content: \"\";position: absolute;border-left: 1px solid gray;box-sizing: border-box;top: 0;bottom: 0;left: 50%;z-index: 0;}#sk-container-id-195 div.sk-serial {display: flex;flex-direction: column;align-items: center;background-color: white;padding-right: 0.2em;padding-left: 0.2em;position: relative;}#sk-container-id-195 div.sk-item {position: relative;z-index: 1;}#sk-container-id-195 div.sk-parallel {display: flex;align-items: stretch;justify-content: center;background-color: white;position: relative;}#sk-container-id-195 div.sk-item::before, #sk-container-id-195 div.sk-parallel-item::before {content: \"\";position: absolute;border-left: 1px solid gray;box-sizing: border-box;top: 0;bottom: 0;left: 50%;z-index: -1;}#sk-container-id-195 div.sk-parallel-item {display: flex;flex-direction: column;z-index: 1;position: relative;background-color: white;}#sk-container-id-195 div.sk-parallel-item:first-child::after {align-self: flex-end;width: 50%;}#sk-container-id-195 div.sk-parallel-item:last-child::after {align-self: flex-start;width: 50%;}#sk-container-id-195 div.sk-parallel-item:only-child::after {width: 0;}#sk-container-id-195 div.sk-dashed-wrapped {border: 1px dashed gray;margin: 0 0.4em 0.5em 0.4em;box-sizing: border-box;padding-bottom: 0.4em;background-color: white;}#sk-container-id-195 div.sk-label label {font-family: monospace;font-weight: bold;display: inline-block;line-height: 1.2em;}#sk-container-id-195 div.sk-label-container {text-align: center;}#sk-container-id-195 div.sk-container {/* jupyter's `normalize.less` sets `[hidden] { display: none; }` but bootstrap.min.css set `[hidden] { display: none !important; }` so we also need the `!important` here to be able to override the default hidden behavior on the sphinx rendered scikit-learn.org. See: https://github.com/scikit-learn/scikit-learn/issues/21755 */display: inline-block !important;position: relative;}#sk-container-id-195 div.sk-text-repr-fallback {display: none;}</style><div id=\"sk-container-id-195\" class=\"sk-top-container\"><div class=\"sk-text-repr-fallback\"><pre>LinearRegression()</pre><b>In a Jupyter environment, please rerun this cell to show the HTML representation or trust the notebook. <br />On GitHub, the HTML representation is unable to render, please try loading this page with nbviewer.org.</b></div><div class=\"sk-container\" hidden><div class=\"sk-item\"><div class=\"sk-estimator sk-toggleable\"><input class=\"sk-toggleable__control sk-hidden--visually\" id=\"sk-estimator-id-195\" type=\"checkbox\" checked><label for=\"sk-estimator-id-195\" class=\"sk-toggleable__label sk-toggleable__label-arrow\">LinearRegression</label><div class=\"sk-toggleable__content\"><pre>LinearRegression()</pre></div></div></div></div></div>"
      ],
      "text/plain": [
       "LinearRegression()"
      ]
     },
     "execution_count": 1169,
     "metadata": {},
     "output_type": "execute_result"
    }
   ],
   "source": [
    "linear_reg.fit(train_x, train_y)"
   ]
  },
  {
   "cell_type": "code",
   "execution_count": 1170,
   "metadata": {},
   "outputs": [],
   "source": [
    "y_predicted = linear_reg.predict(test_x)"
   ]
  },
  {
   "cell_type": "code",
   "execution_count": 1171,
   "metadata": {},
   "outputs": [
    {
     "name": "stdout",
     "output_type": "stream",
     "text": [
      "Calificacion de prediccion: 90.85 %\n"
     ]
    }
   ],
   "source": [
    "print(f'Calificacion de prediccion: {round(linear_reg.score(test_x,test_y), 4) * 100} %')"
   ]
  },
  {
   "cell_type": "code",
   "execution_count": 1187,
   "metadata": {},
   "outputs": [],
   "source": [
    "len1 = 24\n",
    "len2 = 26\t\n",
    "len3 = 29\n",
    "height = 11.368\n",
    "width = 4.234"
   ]
  },
  {
   "cell_type": "code",
   "execution_count": 1188,
   "metadata": {},
   "outputs": [],
   "source": [
    "def predict_fish_weight(len1, len2, len3, height, width, model):\n",
    "    result = model.predict([[len1, len2, len3, height, width]])\n",
    "    print(f\"El pez con longitud 1: {len1} , longitud 2: {len2}, longitud 3: {len3}, con ancho: {width} y altura: {height} pesa: {result[0]}\")\n"
   ]
  },
  {
   "cell_type": "code",
   "execution_count": 1189,
   "metadata": {},
   "outputs": [
    {
     "name": "stdout",
     "output_type": "stream",
     "text": [
      "El pez con longitud 1: 24 , longitud 2: 26, longitud 3: 29, con ancho: 4.234 y altura: 11.368 pesa: 390.8014205485465\n"
     ]
    },
    {
     "name": "stderr",
     "output_type": "stream",
     "text": [
      "c:\\NurVI\\Algoritmica Avanzada\\pandas_intro\\pandas_env\\Lib\\site-packages\\sklearn\\base.py:464: UserWarning: X does not have valid feature names, but LinearRegression was fitted with feature names\n",
      "  warnings.warn(\n"
     ]
    }
   ],
   "source": [
    "predict_fish_weight(len1, len2, len3, height, width, linear_reg)"
   ]
  }
 ],
 "metadata": {
  "kernelspec": {
   "display_name": "pandas_env",
   "language": "python",
   "name": "python3"
  },
  "language_info": {
   "codemirror_mode": {
    "name": "ipython",
    "version": 3
   },
   "file_extension": ".py",
   "mimetype": "text/x-python",
   "name": "python",
   "nbconvert_exporter": "python",
   "pygments_lexer": "ipython3",
   "version": "3.11.5"
  }
 },
 "nbformat": 4,
 "nbformat_minor": 2
}
