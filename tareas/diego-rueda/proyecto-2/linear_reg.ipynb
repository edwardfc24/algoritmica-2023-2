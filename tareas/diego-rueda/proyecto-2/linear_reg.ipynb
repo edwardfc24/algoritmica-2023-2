{
 "cells": [
  {
   "cell_type": "code",
   "execution_count": 18,
   "metadata": {},
   "outputs": [],
   "source": [
    "from sklearn.model_selection import train_test_split\n",
    "from sklearn.linear_model import LinearRegression\n",
    "\n",
    "import pandas as pd\n",
    "import numpy as np\n",
    "import matplotlib.pyplot as plt"
   ]
  },
  {
   "cell_type": "code",
   "execution_count": 19,
   "metadata": {},
   "outputs": [],
   "source": [
    "df = pd.read_csv('dataset_fish.csv')"
   ]
  },
  {
   "cell_type": "code",
   "execution_count": 20,
   "metadata": {},
   "outputs": [
    {
     "data": {
      "text/html": [
       "<div>\n",
       "<style scoped>\n",
       "    .dataframe tbody tr th:only-of-type {\n",
       "        vertical-align: middle;\n",
       "    }\n",
       "\n",
       "    .dataframe tbody tr th {\n",
       "        vertical-align: top;\n",
       "    }\n",
       "\n",
       "    .dataframe thead th {\n",
       "        text-align: right;\n",
       "    }\n",
       "</style>\n",
       "<table border=\"1\" class=\"dataframe\">\n",
       "  <thead>\n",
       "    <tr style=\"text-align: right;\">\n",
       "      <th></th>\n",
       "      <th>Species</th>\n",
       "      <th>Weight</th>\n",
       "      <th>Length1</th>\n",
       "      <th>Length2</th>\n",
       "      <th>Length3</th>\n",
       "      <th>Height</th>\n",
       "      <th>Width</th>\n",
       "    </tr>\n",
       "  </thead>\n",
       "  <tbody>\n",
       "    <tr>\n",
       "      <th>0</th>\n",
       "      <td>Bream</td>\n",
       "      <td>242.0</td>\n",
       "      <td>23.2</td>\n",
       "      <td>25.4</td>\n",
       "      <td>30.0</td>\n",
       "      <td>11.5200</td>\n",
       "      <td>4.0200</td>\n",
       "    </tr>\n",
       "    <tr>\n",
       "      <th>1</th>\n",
       "      <td>Bream</td>\n",
       "      <td>290.0</td>\n",
       "      <td>24.0</td>\n",
       "      <td>26.3</td>\n",
       "      <td>31.2</td>\n",
       "      <td>12.4800</td>\n",
       "      <td>4.3056</td>\n",
       "    </tr>\n",
       "    <tr>\n",
       "      <th>2</th>\n",
       "      <td>Bream</td>\n",
       "      <td>340.0</td>\n",
       "      <td>23.9</td>\n",
       "      <td>26.5</td>\n",
       "      <td>31.1</td>\n",
       "      <td>12.3778</td>\n",
       "      <td>4.6961</td>\n",
       "    </tr>\n",
       "    <tr>\n",
       "      <th>3</th>\n",
       "      <td>Bream</td>\n",
       "      <td>363.0</td>\n",
       "      <td>26.3</td>\n",
       "      <td>29.0</td>\n",
       "      <td>33.5</td>\n",
       "      <td>12.7300</td>\n",
       "      <td>4.4555</td>\n",
       "    </tr>\n",
       "    <tr>\n",
       "      <th>4</th>\n",
       "      <td>Bream</td>\n",
       "      <td>430.0</td>\n",
       "      <td>26.5</td>\n",
       "      <td>29.0</td>\n",
       "      <td>34.0</td>\n",
       "      <td>12.4440</td>\n",
       "      <td>5.1340</td>\n",
       "    </tr>\n",
       "  </tbody>\n",
       "</table>\n",
       "</div>"
      ],
      "text/plain": [
       "  Species  Weight  Length1  Length2  Length3   Height   Width\n",
       "0   Bream   242.0     23.2     25.4     30.0  11.5200  4.0200\n",
       "1   Bream   290.0     24.0     26.3     31.2  12.4800  4.3056\n",
       "2   Bream   340.0     23.9     26.5     31.1  12.3778  4.6961\n",
       "3   Bream   363.0     26.3     29.0     33.5  12.7300  4.4555\n",
       "4   Bream   430.0     26.5     29.0     34.0  12.4440  5.1340"
      ]
     },
     "execution_count": 20,
     "metadata": {},
     "output_type": "execute_result"
    }
   ],
   "source": [
    "df.head()"
   ]
  },
  {
   "cell_type": "code",
   "execution_count": 21,
   "metadata": {},
   "outputs": [
    {
     "data": {
      "text/plain": [
       "array(['Bream', 'Roach', 'Whitefish', 'Parkki', 'Perch', 'Pike', 'Smelt'],\n",
       "      dtype=object)"
      ]
     },
     "execution_count": 21,
     "metadata": {},
     "output_type": "execute_result"
    }
   ],
   "source": [
    "df.Species.unique()"
   ]
  },
  {
   "cell_type": "code",
   "execution_count": 22,
   "metadata": {},
   "outputs": [],
   "source": [
    "df.Species = df.Species.map({'Bream' : 1, 'Roach' : 2, 'Whitefish' : 3, 'Parkki' : 4, 'Perch' : 5, 'Pike' : 6, 'Smelt' : 7})"
   ]
  },
  {
   "cell_type": "code",
   "execution_count": 23,
   "metadata": {},
   "outputs": [
    {
     "data": {
      "text/plain": [
       "Species      int64\n",
       "Weight     float64\n",
       "Length1    float64\n",
       "Length2    float64\n",
       "Length3    float64\n",
       "Height     float64\n",
       "Width      float64\n",
       "dtype: object"
      ]
     },
     "execution_count": 23,
     "metadata": {},
     "output_type": "execute_result"
    }
   ],
   "source": [
    "df.dtypes"
   ]
  },
  {
   "cell_type": "code",
   "execution_count": 24,
   "metadata": {},
   "outputs": [
    {
     "data": {
      "text/html": [
       "<style type=\"text/css\">\n",
       "#T_81671_row0_col0, #T_81671_row1_col1, #T_81671_row2_col2, #T_81671_row2_col3, #T_81671_row3_col2, #T_81671_row3_col3, #T_81671_row4_col4, #T_81671_row5_col5, #T_81671_row6_col6 {\n",
       "  background-color: #023858;\n",
       "  color: #f1f1f1;\n",
       "}\n",
       "#T_81671_row0_col1, #T_81671_row0_col2, #T_81671_row0_col3, #T_81671_row0_col4, #T_81671_row0_col5, #T_81671_row0_col6, #T_81671_row5_col0 {\n",
       "  background-color: #fff7fb;\n",
       "  color: #000000;\n",
       "}\n",
       "#T_81671_row1_col0 {\n",
       "  background-color: #bdc8e1;\n",
       "  color: #000000;\n",
       "}\n",
       "#T_81671_row1_col2 {\n",
       "  background-color: #034c78;\n",
       "  color: #f1f1f1;\n",
       "}\n",
       "#T_81671_row1_col3, #T_81671_row2_col1 {\n",
       "  background-color: #034b76;\n",
       "  color: #f1f1f1;\n",
       "}\n",
       "#T_81671_row1_col4, #T_81671_row4_col1 {\n",
       "  background-color: #034973;\n",
       "  color: #f1f1f1;\n",
       "}\n",
       "#T_81671_row1_col5 {\n",
       "  background-color: #046097;\n",
       "  color: #f1f1f1;\n",
       "}\n",
       "#T_81671_row1_col6 {\n",
       "  background-color: #034f7d;\n",
       "  color: #f1f1f1;\n",
       "}\n",
       "#T_81671_row2_col0 {\n",
       "  background-color: #afc1dd;\n",
       "  color: #000000;\n",
       "}\n",
       "#T_81671_row2_col4, #T_81671_row3_col4, #T_81671_row4_col2, #T_81671_row4_col3 {\n",
       "  background-color: #02395a;\n",
       "  color: #f1f1f1;\n",
       "}\n",
       "#T_81671_row2_col5 {\n",
       "  background-color: #056ba7;\n",
       "  color: #f1f1f1;\n",
       "}\n",
       "#T_81671_row2_col6, #T_81671_row6_col4 {\n",
       "  background-color: #045382;\n",
       "  color: #f1f1f1;\n",
       "}\n",
       "#T_81671_row3_col0 {\n",
       "  background-color: #b1c2de;\n",
       "  color: #000000;\n",
       "}\n",
       "#T_81671_row3_col1 {\n",
       "  background-color: #034a74;\n",
       "  color: #f1f1f1;\n",
       "}\n",
       "#T_81671_row3_col5 {\n",
       "  background-color: #0569a5;\n",
       "  color: #f1f1f1;\n",
       "}\n",
       "#T_81671_row3_col6, #T_81671_row6_col1 {\n",
       "  background-color: #045280;\n",
       "  color: #f1f1f1;\n",
       "}\n",
       "#T_81671_row4_col0 {\n",
       "  background-color: #c4cbe3;\n",
       "  color: #000000;\n",
       "}\n",
       "#T_81671_row4_col5 {\n",
       "  background-color: #04629a;\n",
       "  color: #f1f1f1;\n",
       "}\n",
       "#T_81671_row4_col6 {\n",
       "  background-color: #03517e;\n",
       "  color: #f1f1f1;\n",
       "}\n",
       "#T_81671_row5_col1 {\n",
       "  background-color: #056dab;\n",
       "  color: #f1f1f1;\n",
       "}\n",
       "#T_81671_row5_col2 {\n",
       "  background-color: #2987bc;\n",
       "  color: #f1f1f1;\n",
       "}\n",
       "#T_81671_row5_col3 {\n",
       "  background-color: #2182b9;\n",
       "  color: #f1f1f1;\n",
       "}\n",
       "#T_81671_row5_col4 {\n",
       "  background-color: #056fae;\n",
       "  color: #f1f1f1;\n",
       "}\n",
       "#T_81671_row5_col6 {\n",
       "  background-color: #046096;\n",
       "  color: #f1f1f1;\n",
       "}\n",
       "#T_81671_row6_col0 {\n",
       "  background-color: #d6d6e9;\n",
       "  color: #000000;\n",
       "}\n",
       "#T_81671_row6_col2 {\n",
       "  background-color: #04588a;\n",
       "  color: #f1f1f1;\n",
       "}\n",
       "#T_81671_row6_col3 {\n",
       "  background-color: #045687;\n",
       "  color: #f1f1f1;\n",
       "}\n",
       "#T_81671_row6_col5 {\n",
       "  background-color: #04598c;\n",
       "  color: #f1f1f1;\n",
       "}\n",
       "</style>\n",
       "<table id=\"T_81671\">\n",
       "  <thead>\n",
       "    <tr>\n",
       "      <th class=\"blank level0\" >&nbsp;</th>\n",
       "      <th id=\"T_81671_level0_col0\" class=\"col_heading level0 col0\" >Species</th>\n",
       "      <th id=\"T_81671_level0_col1\" class=\"col_heading level0 col1\" >Weight</th>\n",
       "      <th id=\"T_81671_level0_col2\" class=\"col_heading level0 col2\" >Length1</th>\n",
       "      <th id=\"T_81671_level0_col3\" class=\"col_heading level0 col3\" >Length2</th>\n",
       "      <th id=\"T_81671_level0_col4\" class=\"col_heading level0 col4\" >Length3</th>\n",
       "      <th id=\"T_81671_level0_col5\" class=\"col_heading level0 col5\" >Height</th>\n",
       "      <th id=\"T_81671_level0_col6\" class=\"col_heading level0 col6\" >Width</th>\n",
       "    </tr>\n",
       "  </thead>\n",
       "  <tbody>\n",
       "    <tr>\n",
       "      <th id=\"T_81671_level0_row0\" class=\"row_heading level0 row0\" >Species</th>\n",
       "      <td id=\"T_81671_row0_col0\" class=\"data row0 col0\" >1.000000</td>\n",
       "      <td id=\"T_81671_row0_col1\" class=\"data row0 col1\" >-0.176800</td>\n",
       "      <td id=\"T_81671_row0_col2\" class=\"data row0 col2\" >-0.101200</td>\n",
       "      <td id=\"T_81671_row0_col3\" class=\"data row0 col3\" >-0.118400</td>\n",
       "      <td id=\"T_81671_row0_col4\" class=\"data row0 col4\" >-0.209500</td>\n",
       "      <td id=\"T_81671_row0_col5\" class=\"data row0 col5\" >-0.697000</td>\n",
       "      <td id=\"T_81671_row0_col6\" class=\"data row0 col6\" >-0.315200</td>\n",
       "    </tr>\n",
       "    <tr>\n",
       "      <th id=\"T_81671_level0_row1\" class=\"row_heading level0 row1\" >Weight</th>\n",
       "      <td id=\"T_81671_row1_col0\" class=\"data row1 col0\" >-0.176800</td>\n",
       "      <td id=\"T_81671_row1_col1\" class=\"data row1 col1\" >1.000000</td>\n",
       "      <td id=\"T_81671_row1_col2\" class=\"data row1 col2\" >0.915700</td>\n",
       "      <td id=\"T_81671_row1_col3\" class=\"data row1 col3\" >0.918600</td>\n",
       "      <td id=\"T_81671_row1_col4\" class=\"data row1 col4\" >0.923000</td>\n",
       "      <td id=\"T_81671_row1_col5\" class=\"data row1 col5\" >0.724300</td>\n",
       "      <td id=\"T_81671_row1_col6\" class=\"data row1 col6\" >0.886500</td>\n",
       "    </tr>\n",
       "    <tr>\n",
       "      <th id=\"T_81671_level0_row2\" class=\"row_heading level0 row2\" >Length1</th>\n",
       "      <td id=\"T_81671_row2_col0\" class=\"data row2 col0\" >-0.101200</td>\n",
       "      <td id=\"T_81671_row2_col1\" class=\"data row2 col1\" >0.915700</td>\n",
       "      <td id=\"T_81671_row2_col2\" class=\"data row2 col2\" >1.000000</td>\n",
       "      <td id=\"T_81671_row2_col3\" class=\"data row2 col3\" >0.999500</td>\n",
       "      <td id=\"T_81671_row2_col4\" class=\"data row2 col4\" >0.992000</td>\n",
       "      <td id=\"T_81671_row2_col5\" class=\"data row2 col5\" >0.625400</td>\n",
       "      <td id=\"T_81671_row2_col6\" class=\"data row2 col6\" >0.867000</td>\n",
       "    </tr>\n",
       "    <tr>\n",
       "      <th id=\"T_81671_level0_row3\" class=\"row_heading level0 row3\" >Length2</th>\n",
       "      <td id=\"T_81671_row3_col0\" class=\"data row3 col0\" >-0.118400</td>\n",
       "      <td id=\"T_81671_row3_col1\" class=\"data row3 col1\" >0.918600</td>\n",
       "      <td id=\"T_81671_row3_col2\" class=\"data row3 col2\" >0.999500</td>\n",
       "      <td id=\"T_81671_row3_col3\" class=\"data row3 col3\" >1.000000</td>\n",
       "      <td id=\"T_81671_row3_col4\" class=\"data row3 col4\" >0.994100</td>\n",
       "      <td id=\"T_81671_row3_col5\" class=\"data row3 col5\" >0.640400</td>\n",
       "      <td id=\"T_81671_row3_col6\" class=\"data row3 col6\" >0.873500</td>\n",
       "    </tr>\n",
       "    <tr>\n",
       "      <th id=\"T_81671_level0_row4\" class=\"row_heading level0 row4\" >Length3</th>\n",
       "      <td id=\"T_81671_row4_col0\" class=\"data row4 col0\" >-0.209500</td>\n",
       "      <td id=\"T_81671_row4_col1\" class=\"data row4 col1\" >0.923000</td>\n",
       "      <td id=\"T_81671_row4_col2\" class=\"data row4 col2\" >0.992000</td>\n",
       "      <td id=\"T_81671_row4_col3\" class=\"data row4 col3\" >0.994100</td>\n",
       "      <td id=\"T_81671_row4_col4\" class=\"data row4 col4\" >1.000000</td>\n",
       "      <td id=\"T_81671_row4_col5\" class=\"data row4 col5\" >0.703400</td>\n",
       "      <td id=\"T_81671_row4_col6\" class=\"data row4 col6\" >0.878500</td>\n",
       "    </tr>\n",
       "    <tr>\n",
       "      <th id=\"T_81671_level0_row5\" class=\"row_heading level0 row5\" >Height</th>\n",
       "      <td id=\"T_81671_row5_col0\" class=\"data row5 col0\" >-0.697000</td>\n",
       "      <td id=\"T_81671_row5_col1\" class=\"data row5 col1\" >0.724300</td>\n",
       "      <td id=\"T_81671_row5_col2\" class=\"data row5 col2\" >0.625400</td>\n",
       "      <td id=\"T_81671_row5_col3\" class=\"data row5 col3\" >0.640400</td>\n",
       "      <td id=\"T_81671_row5_col4\" class=\"data row5 col4\" >0.703400</td>\n",
       "      <td id=\"T_81671_row5_col5\" class=\"data row5 col5\" >1.000000</td>\n",
       "      <td id=\"T_81671_row5_col6\" class=\"data row5 col6\" >0.792900</td>\n",
       "    </tr>\n",
       "    <tr>\n",
       "      <th id=\"T_81671_level0_row6\" class=\"row_heading level0 row6\" >Width</th>\n",
       "      <td id=\"T_81671_row6_col0\" class=\"data row6 col0\" >-0.315200</td>\n",
       "      <td id=\"T_81671_row6_col1\" class=\"data row6 col1\" >0.886500</td>\n",
       "      <td id=\"T_81671_row6_col2\" class=\"data row6 col2\" >0.867000</td>\n",
       "      <td id=\"T_81671_row6_col3\" class=\"data row6 col3\" >0.873500</td>\n",
       "      <td id=\"T_81671_row6_col4\" class=\"data row6 col4\" >0.878500</td>\n",
       "      <td id=\"T_81671_row6_col5\" class=\"data row6 col5\" >0.792900</td>\n",
       "      <td id=\"T_81671_row6_col6\" class=\"data row6 col6\" >1.000000</td>\n",
       "    </tr>\n",
       "  </tbody>\n",
       "</table>\n"
      ],
      "text/plain": [
       "<pandas.io.formats.style.Styler at 0x269f37b3790>"
      ]
     },
     "execution_count": 24,
     "metadata": {},
     "output_type": "execute_result"
    }
   ],
   "source": [
    "corr = round(df.corr(), 4)\n",
    "corr.style.background_gradient()"
   ]
  },
  {
   "cell_type": "code",
   "execution_count": 25,
   "metadata": {},
   "outputs": [],
   "source": [
    "data_x = df.drop(['Species', 'Weight'], axis = 1)\n",
    "data_y = df.Weight"
   ]
  },
  {
   "cell_type": "code",
   "execution_count": 26,
   "metadata": {},
   "outputs": [],
   "source": [
    "train_x, test_x, train_y, test_y = train_test_split(data_x, data_y, test_size = 0.2)"
   ]
  },
  {
   "cell_type": "code",
   "execution_count": 27,
   "metadata": {},
   "outputs": [],
   "source": [
    "linear_reg = LinearRegression()"
   ]
  },
  {
   "cell_type": "code",
   "execution_count": 28,
   "metadata": {},
   "outputs": [
    {
     "data": {
      "text/html": [
       "<style>#sk-container-id-2 {color: black;}#sk-container-id-2 pre{padding: 0;}#sk-container-id-2 div.sk-toggleable {background-color: white;}#sk-container-id-2 label.sk-toggleable__label {cursor: pointer;display: block;width: 100%;margin-bottom: 0;padding: 0.3em;box-sizing: border-box;text-align: center;}#sk-container-id-2 label.sk-toggleable__label-arrow:before {content: \"▸\";float: left;margin-right: 0.25em;color: #696969;}#sk-container-id-2 label.sk-toggleable__label-arrow:hover:before {color: black;}#sk-container-id-2 div.sk-estimator:hover label.sk-toggleable__label-arrow:before {color: black;}#sk-container-id-2 div.sk-toggleable__content {max-height: 0;max-width: 0;overflow: hidden;text-align: left;background-color: #f0f8ff;}#sk-container-id-2 div.sk-toggleable__content pre {margin: 0.2em;color: black;border-radius: 0.25em;background-color: #f0f8ff;}#sk-container-id-2 input.sk-toggleable__control:checked~div.sk-toggleable__content {max-height: 200px;max-width: 100%;overflow: auto;}#sk-container-id-2 input.sk-toggleable__control:checked~label.sk-toggleable__label-arrow:before {content: \"▾\";}#sk-container-id-2 div.sk-estimator input.sk-toggleable__control:checked~label.sk-toggleable__label {background-color: #d4ebff;}#sk-container-id-2 div.sk-label input.sk-toggleable__control:checked~label.sk-toggleable__label {background-color: #d4ebff;}#sk-container-id-2 input.sk-hidden--visually {border: 0;clip: rect(1px 1px 1px 1px);clip: rect(1px, 1px, 1px, 1px);height: 1px;margin: -1px;overflow: hidden;padding: 0;position: absolute;width: 1px;}#sk-container-id-2 div.sk-estimator {font-family: monospace;background-color: #f0f8ff;border: 1px dotted black;border-radius: 0.25em;box-sizing: border-box;margin-bottom: 0.5em;}#sk-container-id-2 div.sk-estimator:hover {background-color: #d4ebff;}#sk-container-id-2 div.sk-parallel-item::after {content: \"\";width: 100%;border-bottom: 1px solid gray;flex-grow: 1;}#sk-container-id-2 div.sk-label:hover label.sk-toggleable__label {background-color: #d4ebff;}#sk-container-id-2 div.sk-serial::before {content: \"\";position: absolute;border-left: 1px solid gray;box-sizing: border-box;top: 0;bottom: 0;left: 50%;z-index: 0;}#sk-container-id-2 div.sk-serial {display: flex;flex-direction: column;align-items: center;background-color: white;padding-right: 0.2em;padding-left: 0.2em;position: relative;}#sk-container-id-2 div.sk-item {position: relative;z-index: 1;}#sk-container-id-2 div.sk-parallel {display: flex;align-items: stretch;justify-content: center;background-color: white;position: relative;}#sk-container-id-2 div.sk-item::before, #sk-container-id-2 div.sk-parallel-item::before {content: \"\";position: absolute;border-left: 1px solid gray;box-sizing: border-box;top: 0;bottom: 0;left: 50%;z-index: -1;}#sk-container-id-2 div.sk-parallel-item {display: flex;flex-direction: column;z-index: 1;position: relative;background-color: white;}#sk-container-id-2 div.sk-parallel-item:first-child::after {align-self: flex-end;width: 50%;}#sk-container-id-2 div.sk-parallel-item:last-child::after {align-self: flex-start;width: 50%;}#sk-container-id-2 div.sk-parallel-item:only-child::after {width: 0;}#sk-container-id-2 div.sk-dashed-wrapped {border: 1px dashed gray;margin: 0 0.4em 0.5em 0.4em;box-sizing: border-box;padding-bottom: 0.4em;background-color: white;}#sk-container-id-2 div.sk-label label {font-family: monospace;font-weight: bold;display: inline-block;line-height: 1.2em;}#sk-container-id-2 div.sk-label-container {text-align: center;}#sk-container-id-2 div.sk-container {/* jupyter's `normalize.less` sets `[hidden] { display: none; }` but bootstrap.min.css set `[hidden] { display: none !important; }` so we also need the `!important` here to be able to override the default hidden behavior on the sphinx rendered scikit-learn.org. See: https://github.com/scikit-learn/scikit-learn/issues/21755 */display: inline-block !important;position: relative;}#sk-container-id-2 div.sk-text-repr-fallback {display: none;}</style><div id=\"sk-container-id-2\" class=\"sk-top-container\"><div class=\"sk-text-repr-fallback\"><pre>LinearRegression()</pre><b>In a Jupyter environment, please rerun this cell to show the HTML representation or trust the notebook. <br />On GitHub, the HTML representation is unable to render, please try loading this page with nbviewer.org.</b></div><div class=\"sk-container\" hidden><div class=\"sk-item\"><div class=\"sk-estimator sk-toggleable\"><input class=\"sk-toggleable__control sk-hidden--visually\" id=\"sk-estimator-id-2\" type=\"checkbox\" checked><label for=\"sk-estimator-id-2\" class=\"sk-toggleable__label sk-toggleable__label-arrow\">LinearRegression</label><div class=\"sk-toggleable__content\"><pre>LinearRegression()</pre></div></div></div></div></div>"
      ],
      "text/plain": [
       "LinearRegression()"
      ]
     },
     "execution_count": 28,
     "metadata": {},
     "output_type": "execute_result"
    }
   ],
   "source": [
    "linear_reg.fit(train_x, train_y)"
   ]
  },
  {
   "cell_type": "code",
   "execution_count": 29,
   "metadata": {},
   "outputs": [],
   "source": [
    "y_predicted = linear_reg.predict(test_x)"
   ]
  },
  {
   "cell_type": "code",
   "execution_count": 30,
   "metadata": {},
   "outputs": [
    {
     "name": "stdout",
     "output_type": "stream",
     "text": [
      "Score: 88.94999999999999%\n"
     ]
    }
   ],
   "source": [
    "print(f'Score: {round(linear_reg.score(test_x, test_y), 4) * 100}%')"
   ]
  },
  {
   "cell_type": "code",
   "execution_count": 31,
   "metadata": {},
   "outputs": [],
   "source": [
    "Length1 = 20.4\t\n",
    "Length2 = 24.2\t\n",
    "Length3 = 27.2\n",
    "Height = 11.452\n",
    "Width = 5.951"
   ]
  },
  {
   "cell_type": "code",
   "execution_count": 32,
   "metadata": {},
   "outputs": [],
   "source": [
    "def predicted(model, Length1, Length2, Length3, Height, Width):\n",
    "    result = model.predict([[Length1, Length2, Length3, Height, Width]])\n",
    "    print(f'El pescado tiene de Longitud 1: {Length1}, Longitud 2: {Length2}, Longitud 3: {Length3}, con una altura de: {Height} y un ancho de: {Width}, entonces deberia pesar: {result[0]}')"
   ]
  },
  {
   "cell_type": "code",
   "execution_count": 33,
   "metadata": {},
   "outputs": [
    {
     "name": "stdout",
     "output_type": "stream",
     "text": [
      "El pescado tiene de Longitud 1: 20.4, Longitud 2: 24.2, Longitud 3: 27.2, con una altura de: 11.452 y un ancho de: 5.951, entonces deberia pesar: 242.1673361569123\n"
     ]
    },
    {
     "name": "stderr",
     "output_type": "stream",
     "text": [
      "c:\\Users\\Personal\\OneDrive\\Escritorio\\Algoritmica Avanzada\\pandas_intro\\pandas_env\\Lib\\site-packages\\sklearn\\base.py:464: UserWarning: X does not have valid feature names, but LinearRegression was fitted with feature names\n",
      "  warnings.warn(\n"
     ]
    }
   ],
   "source": [
    "predicted(linear_reg, Length1, Length2, Length3, Height, Width)"
   ]
  }
 ],
 "metadata": {
  "kernelspec": {
   "display_name": "pandas_env",
   "language": "python",
   "name": "python3"
  },
  "language_info": {
   "codemirror_mode": {
    "name": "ipython",
    "version": 3
   },
   "file_extension": ".py",
   "mimetype": "text/x-python",
   "name": "python",
   "nbconvert_exporter": "python",
   "pygments_lexer": "ipython3",
   "version": "3.11.6"
  }
 },
 "nbformat": 4,
 "nbformat_minor": 2
}
