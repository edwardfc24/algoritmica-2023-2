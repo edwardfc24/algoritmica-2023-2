{
 "cells": [
  {
   "cell_type": "code",
   "execution_count": 3,
   "metadata": {},
   "outputs": [],
   "source": [
    "from sklearn import neighbors\n",
    "from sklearn.model_selection import train_test_split\n",
    "from sklearn.ensemble import RandomForestClassifier\n",
    "from sklearn.tree import DecisionTreeClassifier\n",
    "import matplotlib.pyplot as plt\n",
    "\n",
    "import pandas as pd\n",
    "import numpy as np"
   ]
  },
  {
   "cell_type": "code",
   "execution_count": 6,
   "metadata": {},
   "outputs": [],
   "source": [
    "df = pd.read_csv('train.csv')"
   ]
  },
  {
   "cell_type": "code",
   "execution_count": 52,
   "metadata": {},
   "outputs": [
    {
     "data": {
      "text/html": [
       "<div>\n",
       "<style scoped>\n",
       "    .dataframe tbody tr th:only-of-type {\n",
       "        vertical-align: middle;\n",
       "    }\n",
       "\n",
       "    .dataframe tbody tr th {\n",
       "        vertical-align: top;\n",
       "    }\n",
       "\n",
       "    .dataframe thead th {\n",
       "        text-align: right;\n",
       "    }\n",
       "</style>\n",
       "<table border=\"1\" class=\"dataframe\">\n",
       "  <thead>\n",
       "    <tr style=\"text-align: right;\">\n",
       "      <th></th>\n",
       "      <th>AccountAge</th>\n",
       "      <th>MonthlyCharges</th>\n",
       "      <th>TotalCharges</th>\n",
       "      <th>SubscriptionType</th>\n",
       "      <th>PaymentMethod</th>\n",
       "      <th>PaperlessBilling</th>\n",
       "      <th>ContentType</th>\n",
       "      <th>MultiDeviceAccess</th>\n",
       "      <th>DeviceRegistered</th>\n",
       "      <th>ViewingHoursPerWeek</th>\n",
       "      <th>AverageViewingDuration</th>\n",
       "      <th>ContentDownloadsPerMonth</th>\n",
       "      <th>GenrePreference</th>\n",
       "      <th>UserRating</th>\n",
       "      <th>SupportTicketsPerMonth</th>\n",
       "      <th>Gender</th>\n",
       "      <th>WatchlistSize</th>\n",
       "      <th>ParentalControl</th>\n",
       "      <th>SubtitlesEnabled</th>\n",
       "      <th>Churn</th>\n",
       "    </tr>\n",
       "  </thead>\n",
       "  <tbody>\n",
       "    <tr>\n",
       "      <th>count</th>\n",
       "      <td>243787.000000</td>\n",
       "      <td>243787.000000</td>\n",
       "      <td>243787.000000</td>\n",
       "      <td>243787.000000</td>\n",
       "      <td>243787.000000</td>\n",
       "      <td>243787.000000</td>\n",
       "      <td>243787.000000</td>\n",
       "      <td>243787.000000</td>\n",
       "      <td>243787.000000</td>\n",
       "      <td>243787.000000</td>\n",
       "      <td>243787.000000</td>\n",
       "      <td>243787.000000</td>\n",
       "      <td>243787.000000</td>\n",
       "      <td>243787.000000</td>\n",
       "      <td>243787.000000</td>\n",
       "      <td>243787.000000</td>\n",
       "      <td>243787.000000</td>\n",
       "      <td>243787.000000</td>\n",
       "      <td>243787.000000</td>\n",
       "      <td>243787.000000</td>\n",
       "    </tr>\n",
       "    <tr>\n",
       "      <th>mean</th>\n",
       "      <td>60.083758</td>\n",
       "      <td>12.490695</td>\n",
       "      <td>750.741017</td>\n",
       "      <td>1.004524</td>\n",
       "      <td>1.501069</td>\n",
       "      <td>0.499645</td>\n",
       "      <td>0.997572</td>\n",
       "      <td>0.499420</td>\n",
       "      <td>1.497972</td>\n",
       "      <td>20.502179</td>\n",
       "      <td>92.264061</td>\n",
       "      <td>24.503513</td>\n",
       "      <td>2.006145</td>\n",
       "      <td>3.002713</td>\n",
       "      <td>4.504186</td>\n",
       "      <td>0.500150</td>\n",
       "      <td>12.018508</td>\n",
       "      <td>0.500786</td>\n",
       "      <td>0.501175</td>\n",
       "      <td>0.181232</td>\n",
       "    </tr>\n",
       "    <tr>\n",
       "      <th>std</th>\n",
       "      <td>34.285143</td>\n",
       "      <td>4.327615</td>\n",
       "      <td>523.073273</td>\n",
       "      <td>0.817019</td>\n",
       "      <td>1.116775</td>\n",
       "      <td>0.500001</td>\n",
       "      <td>0.817392</td>\n",
       "      <td>0.500001</td>\n",
       "      <td>1.116579</td>\n",
       "      <td>11.243753</td>\n",
       "      <td>50.505243</td>\n",
       "      <td>14.421174</td>\n",
       "      <td>1.413408</td>\n",
       "      <td>1.155259</td>\n",
       "      <td>2.872548</td>\n",
       "      <td>0.500001</td>\n",
       "      <td>7.193034</td>\n",
       "      <td>0.500000</td>\n",
       "      <td>0.500000</td>\n",
       "      <td>0.385211</td>\n",
       "    </tr>\n",
       "    <tr>\n",
       "      <th>min</th>\n",
       "      <td>1.000000</td>\n",
       "      <td>4.990062</td>\n",
       "      <td>4.991154</td>\n",
       "      <td>0.000000</td>\n",
       "      <td>0.000000</td>\n",
       "      <td>0.000000</td>\n",
       "      <td>0.000000</td>\n",
       "      <td>0.000000</td>\n",
       "      <td>0.000000</td>\n",
       "      <td>1.000065</td>\n",
       "      <td>5.000547</td>\n",
       "      <td>0.000000</td>\n",
       "      <td>0.000000</td>\n",
       "      <td>1.000007</td>\n",
       "      <td>0.000000</td>\n",
       "      <td>0.000000</td>\n",
       "      <td>0.000000</td>\n",
       "      <td>0.000000</td>\n",
       "      <td>0.000000</td>\n",
       "      <td>0.000000</td>\n",
       "    </tr>\n",
       "    <tr>\n",
       "      <th>25%</th>\n",
       "      <td>30.000000</td>\n",
       "      <td>8.738543</td>\n",
       "      <td>329.147027</td>\n",
       "      <td>0.000000</td>\n",
       "      <td>1.000000</td>\n",
       "      <td>0.000000</td>\n",
       "      <td>0.000000</td>\n",
       "      <td>0.000000</td>\n",
       "      <td>1.000000</td>\n",
       "      <td>10.763953</td>\n",
       "      <td>48.382395</td>\n",
       "      <td>12.000000</td>\n",
       "      <td>1.000000</td>\n",
       "      <td>2.000853</td>\n",
       "      <td>2.000000</td>\n",
       "      <td>0.000000</td>\n",
       "      <td>6.000000</td>\n",
       "      <td>0.000000</td>\n",
       "      <td>0.000000</td>\n",
       "      <td>0.000000</td>\n",
       "    </tr>\n",
       "    <tr>\n",
       "      <th>50%</th>\n",
       "      <td>60.000000</td>\n",
       "      <td>12.495555</td>\n",
       "      <td>649.878487</td>\n",
       "      <td>1.000000</td>\n",
       "      <td>2.000000</td>\n",
       "      <td>0.000000</td>\n",
       "      <td>1.000000</td>\n",
       "      <td>0.000000</td>\n",
       "      <td>1.000000</td>\n",
       "      <td>20.523116</td>\n",
       "      <td>92.249992</td>\n",
       "      <td>24.000000</td>\n",
       "      <td>2.000000</td>\n",
       "      <td>3.002261</td>\n",
       "      <td>4.000000</td>\n",
       "      <td>1.000000</td>\n",
       "      <td>12.000000</td>\n",
       "      <td>1.000000</td>\n",
       "      <td>1.000000</td>\n",
       "      <td>0.000000</td>\n",
       "    </tr>\n",
       "    <tr>\n",
       "      <th>75%</th>\n",
       "      <td>90.000000</td>\n",
       "      <td>16.238160</td>\n",
       "      <td>1089.317362</td>\n",
       "      <td>2.000000</td>\n",
       "      <td>2.000000</td>\n",
       "      <td>1.000000</td>\n",
       "      <td>2.000000</td>\n",
       "      <td>1.000000</td>\n",
       "      <td>2.000000</td>\n",
       "      <td>30.219396</td>\n",
       "      <td>135.908048</td>\n",
       "      <td>37.000000</td>\n",
       "      <td>3.000000</td>\n",
       "      <td>4.002157</td>\n",
       "      <td>7.000000</td>\n",
       "      <td>1.000000</td>\n",
       "      <td>18.000000</td>\n",
       "      <td>1.000000</td>\n",
       "      <td>1.000000</td>\n",
       "      <td>0.000000</td>\n",
       "    </tr>\n",
       "    <tr>\n",
       "      <th>max</th>\n",
       "      <td>119.000000</td>\n",
       "      <td>19.989957</td>\n",
       "      <td>2378.723844</td>\n",
       "      <td>2.000000</td>\n",
       "      <td>3.000000</td>\n",
       "      <td>1.000000</td>\n",
       "      <td>2.000000</td>\n",
       "      <td>1.000000</td>\n",
       "      <td>3.000000</td>\n",
       "      <td>39.999723</td>\n",
       "      <td>179.999275</td>\n",
       "      <td>49.000000</td>\n",
       "      <td>4.000000</td>\n",
       "      <td>4.999989</td>\n",
       "      <td>9.000000</td>\n",
       "      <td>1.000000</td>\n",
       "      <td>24.000000</td>\n",
       "      <td>1.000000</td>\n",
       "      <td>1.000000</td>\n",
       "      <td>1.000000</td>\n",
       "    </tr>\n",
       "  </tbody>\n",
       "</table>\n",
       "</div>"
      ],
      "text/plain": [
       "          AccountAge  MonthlyCharges   TotalCharges  SubscriptionType  \\\n",
       "count  243787.000000   243787.000000  243787.000000     243787.000000   \n",
       "mean       60.083758       12.490695     750.741017          1.004524   \n",
       "std        34.285143        4.327615     523.073273          0.817019   \n",
       "min         1.000000        4.990062       4.991154          0.000000   \n",
       "25%        30.000000        8.738543     329.147027          0.000000   \n",
       "50%        60.000000       12.495555     649.878487          1.000000   \n",
       "75%        90.000000       16.238160    1089.317362          2.000000   \n",
       "max       119.000000       19.989957    2378.723844          2.000000   \n",
       "\n",
       "       PaymentMethod  PaperlessBilling    ContentType  MultiDeviceAccess  \\\n",
       "count  243787.000000     243787.000000  243787.000000      243787.000000   \n",
       "mean        1.501069          0.499645       0.997572           0.499420   \n",
       "std         1.116775          0.500001       0.817392           0.500001   \n",
       "min         0.000000          0.000000       0.000000           0.000000   \n",
       "25%         1.000000          0.000000       0.000000           0.000000   \n",
       "50%         2.000000          0.000000       1.000000           0.000000   \n",
       "75%         2.000000          1.000000       2.000000           1.000000   \n",
       "max         3.000000          1.000000       2.000000           1.000000   \n",
       "\n",
       "       DeviceRegistered  ViewingHoursPerWeek  AverageViewingDuration  \\\n",
       "count     243787.000000        243787.000000           243787.000000   \n",
       "mean           1.497972            20.502179               92.264061   \n",
       "std            1.116579            11.243753               50.505243   \n",
       "min            0.000000             1.000065                5.000547   \n",
       "25%            1.000000            10.763953               48.382395   \n",
       "50%            1.000000            20.523116               92.249992   \n",
       "75%            2.000000            30.219396              135.908048   \n",
       "max            3.000000            39.999723              179.999275   \n",
       "\n",
       "       ContentDownloadsPerMonth  GenrePreference     UserRating  \\\n",
       "count             243787.000000    243787.000000  243787.000000   \n",
       "mean                  24.503513         2.006145       3.002713   \n",
       "std                   14.421174         1.413408       1.155259   \n",
       "min                    0.000000         0.000000       1.000007   \n",
       "25%                   12.000000         1.000000       2.000853   \n",
       "50%                   24.000000         2.000000       3.002261   \n",
       "75%                   37.000000         3.000000       4.002157   \n",
       "max                   49.000000         4.000000       4.999989   \n",
       "\n",
       "       SupportTicketsPerMonth         Gender  WatchlistSize  ParentalControl  \\\n",
       "count           243787.000000  243787.000000  243787.000000    243787.000000   \n",
       "mean                 4.504186       0.500150      12.018508         0.500786   \n",
       "std                  2.872548       0.500001       7.193034         0.500000   \n",
       "min                  0.000000       0.000000       0.000000         0.000000   \n",
       "25%                  2.000000       0.000000       6.000000         0.000000   \n",
       "50%                  4.000000       1.000000      12.000000         1.000000   \n",
       "75%                  7.000000       1.000000      18.000000         1.000000   \n",
       "max                  9.000000       1.000000      24.000000         1.000000   \n",
       "\n",
       "       SubtitlesEnabled          Churn  \n",
       "count     243787.000000  243787.000000  \n",
       "mean           0.501175       0.181232  \n",
       "std            0.500000       0.385211  \n",
       "min            0.000000       0.000000  \n",
       "25%            0.000000       0.000000  \n",
       "50%            1.000000       0.000000  \n",
       "75%            1.000000       0.000000  \n",
       "max            1.000000       1.000000  "
      ]
     },
     "execution_count": 52,
     "metadata": {},
     "output_type": "execute_result"
    }
   ],
   "source": [
    "df.describe()"
   ]
  },
  {
   "cell_type": "code",
   "execution_count": 9,
   "metadata": {},
   "outputs": [
    {
     "data": {
      "text/plain": [
       "AccountAge                    int64\n",
       "MonthlyCharges              float64\n",
       "TotalCharges                float64\n",
       "SubscriptionType              int64\n",
       "PaymentMethod                object\n",
       "PaperlessBilling             object\n",
       "ContentType                  object\n",
       "MultiDeviceAccess            object\n",
       "DeviceRegistered             object\n",
       "ViewingHoursPerWeek         float64\n",
       "AverageViewingDuration      float64\n",
       "ContentDownloadsPerMonth      int64\n",
       "GenrePreference              object\n",
       "UserRating                  float64\n",
       "SupportTicketsPerMonth        int64\n",
       "Gender                       object\n",
       "WatchlistSize                 int64\n",
       "ParentalControl              object\n",
       "SubtitlesEnabled             object\n",
       "CustomerID                   object\n",
       "Churn                         int64\n",
       "dtype: object"
      ]
     },
     "execution_count": 9,
     "metadata": {},
     "output_type": "execute_result"
    }
   ],
   "source": [
    "df.dtypes"
   ]
  },
  {
   "cell_type": "code",
   "execution_count": 8,
   "metadata": {},
   "outputs": [],
   "source": [
    "df['SubscriptionType'] = df.SubscriptionType.map({'Premium':0, 'Basic':1, 'Standard':2})\n"
   ]
  },
  {
   "cell_type": "code",
   "execution_count": 8,
   "metadata": {},
   "outputs": [
    {
     "data": {
      "text/plain": [
       "array([0, 1, 2], dtype=int64)"
      ]
     },
     "execution_count": 8,
     "metadata": {},
     "output_type": "execute_result"
    }
   ],
   "source": [
    "df['SubscriptionType'].unique()\n"
   ]
  },
  {
   "cell_type": "code",
   "execution_count": 10,
   "metadata": {},
   "outputs": [],
   "source": [
    "df['PaymentMethod'] = df.PaymentMethod.map({'Mailed check':0, 'Credit card':1, 'Electronic check':2,'Bank transfer':3})\n"
   ]
  },
  {
   "cell_type": "code",
   "execution_count": 12,
   "metadata": {},
   "outputs": [
    {
     "data": {
      "text/plain": [
       "array([0, 1, 2, 3], dtype=int64)"
      ]
     },
     "execution_count": 12,
     "metadata": {},
     "output_type": "execute_result"
    }
   ],
   "source": [
    "df['PaymentMethod'].unique()"
   ]
  },
  {
   "cell_type": "code",
   "execution_count": 11,
   "metadata": {},
   "outputs": [],
   "source": [
    "df['PaperlessBilling'] = df.PaperlessBilling.map({'No':0, 'Yes':1})"
   ]
  },
  {
   "cell_type": "code",
   "execution_count": 16,
   "metadata": {},
   "outputs": [
    {
     "data": {
      "text/plain": [
       "array([0, 1], dtype=int64)"
      ]
     },
     "execution_count": 16,
     "metadata": {},
     "output_type": "execute_result"
    }
   ],
   "source": [
    "df['PaperlessBilling'].unique()"
   ]
  },
  {
   "cell_type": "code",
   "execution_count": 12,
   "metadata": {},
   "outputs": [],
   "source": [
    "df['ContentType'] = df.ContentType.map({'Both':0, 'Movies':1, 'TV Shows':2})"
   ]
  },
  {
   "cell_type": "code",
   "execution_count": 20,
   "metadata": {},
   "outputs": [
    {
     "data": {
      "text/plain": [
       "array([0, 1, 2], dtype=int64)"
      ]
     },
     "execution_count": 20,
     "metadata": {},
     "output_type": "execute_result"
    }
   ],
   "source": [
    "df['ContentType'].unique()"
   ]
  },
  {
   "cell_type": "code",
   "execution_count": 24,
   "metadata": {},
   "outputs": [
    {
     "data": {
      "text/plain": [
       "array([0, 1], dtype=int64)"
      ]
     },
     "execution_count": 24,
     "metadata": {},
     "output_type": "execute_result"
    }
   ],
   "source": [
    "df['MultiDeviceAccess'].unique()"
   ]
  },
  {
   "cell_type": "code",
   "execution_count": 13,
   "metadata": {},
   "outputs": [],
   "source": [
    "df['MultiDeviceAccess'] = df.MultiDeviceAccess.map({'No':0, 'Yes':1})"
   ]
  },
  {
   "cell_type": "code",
   "execution_count": 28,
   "metadata": {},
   "outputs": [
    {
     "data": {
      "text/plain": [
       "array([0, 1, 2, 3], dtype=int64)"
      ]
     },
     "execution_count": 28,
     "metadata": {},
     "output_type": "execute_result"
    }
   ],
   "source": [
    "df['DeviceRegistered'].unique()"
   ]
  },
  {
   "cell_type": "code",
   "execution_count": 14,
   "metadata": {},
   "outputs": [],
   "source": [
    "df['DeviceRegistered'] = df.DeviceRegistered.map({'Mobile':0, 'Tablet':1, 'Computer':2, 'TV':3})"
   ]
  },
  {
   "cell_type": "code",
   "execution_count": 15,
   "metadata": {},
   "outputs": [],
   "source": [
    "df = df.drop('ContentDownloadsPerMonth', axis=1)"
   ]
  },
  {
   "cell_type": "code",
   "execution_count": 33,
   "metadata": {},
   "outputs": [
    {
     "data": {
      "text/plain": [
       "array([0, 1, 2, 3, 4], dtype=int64)"
      ]
     },
     "execution_count": 33,
     "metadata": {},
     "output_type": "execute_result"
    }
   ],
   "source": [
    "df['GenrePreference'].unique()"
   ]
  },
  {
   "cell_type": "code",
   "execution_count": 16,
   "metadata": {},
   "outputs": [],
   "source": [
    "df['GenrePreference'] = df.GenrePreference.map({'Sci-Fi':0, 'Action':1, 'Fantasy':2, 'Drama':3, 'Comedy':4})"
   ]
  },
  {
   "cell_type": "code",
   "execution_count": 55,
   "metadata": {},
   "outputs": [
    {
     "data": {
      "text/plain": [
       "array([2.17649751, 3.47863229, 4.23882362, ..., 4.01221731, 2.13578882,\n",
       "       1.42889572])"
      ]
     },
     "execution_count": 55,
     "metadata": {},
     "output_type": "execute_result"
    }
   ],
   "source": [
    "df['UserRating'].unique()"
   ]
  },
  {
   "cell_type": "code",
   "execution_count": 56,
   "metadata": {},
   "outputs": [
    {
     "data": {
      "text/plain": [
       "array([4, 8, 6, 2, 9, 0, 1, 7, 3, 5], dtype=int64)"
      ]
     },
     "execution_count": 56,
     "metadata": {},
     "output_type": "execute_result"
    }
   ],
   "source": [
    "df['SupportTicketsPerMonth'].unique()"
   ]
  },
  {
   "cell_type": "code",
   "execution_count": 38,
   "metadata": {},
   "outputs": [
    {
     "data": {
      "text/plain": [
       "array([0, 1], dtype=int64)"
      ]
     },
     "execution_count": 38,
     "metadata": {},
     "output_type": "execute_result"
    }
   ],
   "source": [
    "df['Gender'].unique()"
   ]
  },
  {
   "cell_type": "code",
   "execution_count": 17,
   "metadata": {},
   "outputs": [],
   "source": [
    "df['Gender'] = df.Gender.map({'Male':0, 'Female':1})"
   ]
  },
  {
   "cell_type": "code",
   "execution_count": 43,
   "metadata": {},
   "outputs": [
    {
     "data": {
      "text/plain": [
       "array([0, 1], dtype=int64)"
      ]
     },
     "execution_count": 43,
     "metadata": {},
     "output_type": "execute_result"
    }
   ],
   "source": [
    "df['ParentalControl'].unique()"
   ]
  },
  {
   "cell_type": "code",
   "execution_count": 18,
   "metadata": {},
   "outputs": [],
   "source": [
    "df['ParentalControl'] = df.ParentalControl.map({'No':0, 'Yes':1})"
   ]
  },
  {
   "cell_type": "code",
   "execution_count": 47,
   "metadata": {},
   "outputs": [
    {
     "data": {
      "text/plain": [
       "array([0, 1], dtype=int64)"
      ]
     },
     "execution_count": 47,
     "metadata": {},
     "output_type": "execute_result"
    }
   ],
   "source": [
    "df['SubtitlesEnabled'].unique()"
   ]
  },
  {
   "cell_type": "code",
   "execution_count": 19,
   "metadata": {},
   "outputs": [],
   "source": [
    "df['SubtitlesEnabled'] = df.SubtitlesEnabled.map({'No':0, 'Yes':1})"
   ]
  },
  {
   "cell_type": "code",
   "execution_count": 20,
   "metadata": {},
   "outputs": [],
   "source": [
    "\n",
    "df = df.drop('CustomerID', axis=1)"
   ]
  },
  {
   "cell_type": "code",
   "execution_count": 51,
   "metadata": {},
   "outputs": [],
   "source": [
    "k_neighbors = neighbors.KNeighborsClassifier()"
   ]
  },
  {
   "cell_type": "code",
   "execution_count": 175,
   "metadata": {},
   "outputs": [],
   "source": [
    "data_x = df.drop([ 'Gender', 'MonthlyCharges', 'ContentType', \n",
    "'MultiDeviceAccess', 'DeviceRegistered',\n",
    " 'ViewingHoursPerWeek'\n",
    " , 'AverageViewingDuration', \n",
    "'ContentDownloadsPerMonth', \n",
    "'GenrePreference', 'UserRating',\n",
    " 'WatchlistSize'\n",
    ", 'Churn'], axis='columns')\n",
    "data_y = df.SubtitlesEnabled"
   ]
  },
  {
   "cell_type": "code",
   "execution_count": 130,
   "metadata": {},
   "outputs": [
    {
     "data": {
      "text/html": [
       "<div>\n",
       "<style scoped>\n",
       "    .dataframe tbody tr th:only-of-type {\n",
       "        vertical-align: middle;\n",
       "    }\n",
       "\n",
       "    .dataframe tbody tr th {\n",
       "        vertical-align: top;\n",
       "    }\n",
       "\n",
       "    .dataframe thead th {\n",
       "        text-align: right;\n",
       "    }\n",
       "</style>\n",
       "<table border=\"1\" class=\"dataframe\">\n",
       "  <thead>\n",
       "    <tr style=\"text-align: right;\">\n",
       "      <th></th>\n",
       "      <th>AccountAge</th>\n",
       "      <th>MonthlyCharges</th>\n",
       "      <th>TotalCharges</th>\n",
       "      <th>SubscriptionType</th>\n",
       "      <th>PaymentMethod</th>\n",
       "      <th>PaperlessBilling</th>\n",
       "      <th>ContentType</th>\n",
       "      <th>MultiDeviceAccess</th>\n",
       "      <th>DeviceRegistered</th>\n",
       "      <th>ViewingHoursPerWeek</th>\n",
       "      <th>AverageViewingDuration</th>\n",
       "      <th>ContentDownloadsPerMonth</th>\n",
       "      <th>GenrePreference</th>\n",
       "      <th>UserRating</th>\n",
       "      <th>SupportTicketsPerMonth</th>\n",
       "      <th>Gender</th>\n",
       "      <th>WatchlistSize</th>\n",
       "      <th>ParentalControl</th>\n",
       "      <th>SubtitlesEnabled</th>\n",
       "      <th>Churn</th>\n",
       "    </tr>\n",
       "  </thead>\n",
       "  <tbody>\n",
       "    <tr>\n",
       "      <th>count</th>\n",
       "      <td>243787.000000</td>\n",
       "      <td>243787.000000</td>\n",
       "      <td>243787.000000</td>\n",
       "      <td>243787.000000</td>\n",
       "      <td>243787.000000</td>\n",
       "      <td>243787.000000</td>\n",
       "      <td>243787.000000</td>\n",
       "      <td>243787.000000</td>\n",
       "      <td>243787.000000</td>\n",
       "      <td>243787.000000</td>\n",
       "      <td>243787.000000</td>\n",
       "      <td>243787.000000</td>\n",
       "      <td>243787.000000</td>\n",
       "      <td>243787.000000</td>\n",
       "      <td>243787.000000</td>\n",
       "      <td>243787.000000</td>\n",
       "      <td>243787.000000</td>\n",
       "      <td>243787.000000</td>\n",
       "      <td>243787.000000</td>\n",
       "      <td>243787.000000</td>\n",
       "    </tr>\n",
       "    <tr>\n",
       "      <th>mean</th>\n",
       "      <td>60.083758</td>\n",
       "      <td>12.490695</td>\n",
       "      <td>750.741017</td>\n",
       "      <td>1.004524</td>\n",
       "      <td>1.501069</td>\n",
       "      <td>0.499645</td>\n",
       "      <td>0.997572</td>\n",
       "      <td>0.499420</td>\n",
       "      <td>1.497972</td>\n",
       "      <td>20.502179</td>\n",
       "      <td>92.264061</td>\n",
       "      <td>24.503513</td>\n",
       "      <td>2.006145</td>\n",
       "      <td>3.002713</td>\n",
       "      <td>4.504186</td>\n",
       "      <td>0.500150</td>\n",
       "      <td>12.018508</td>\n",
       "      <td>0.500786</td>\n",
       "      <td>0.501175</td>\n",
       "      <td>0.181232</td>\n",
       "    </tr>\n",
       "    <tr>\n",
       "      <th>std</th>\n",
       "      <td>34.285143</td>\n",
       "      <td>4.327615</td>\n",
       "      <td>523.073273</td>\n",
       "      <td>0.817019</td>\n",
       "      <td>1.116775</td>\n",
       "      <td>0.500001</td>\n",
       "      <td>0.817392</td>\n",
       "      <td>0.500001</td>\n",
       "      <td>1.116579</td>\n",
       "      <td>11.243753</td>\n",
       "      <td>50.505243</td>\n",
       "      <td>14.421174</td>\n",
       "      <td>1.413408</td>\n",
       "      <td>1.155259</td>\n",
       "      <td>2.872548</td>\n",
       "      <td>0.500001</td>\n",
       "      <td>7.193034</td>\n",
       "      <td>0.500000</td>\n",
       "      <td>0.500000</td>\n",
       "      <td>0.385211</td>\n",
       "    </tr>\n",
       "    <tr>\n",
       "      <th>min</th>\n",
       "      <td>1.000000</td>\n",
       "      <td>4.990062</td>\n",
       "      <td>4.991154</td>\n",
       "      <td>0.000000</td>\n",
       "      <td>0.000000</td>\n",
       "      <td>0.000000</td>\n",
       "      <td>0.000000</td>\n",
       "      <td>0.000000</td>\n",
       "      <td>0.000000</td>\n",
       "      <td>1.000065</td>\n",
       "      <td>5.000547</td>\n",
       "      <td>0.000000</td>\n",
       "      <td>0.000000</td>\n",
       "      <td>1.000007</td>\n",
       "      <td>0.000000</td>\n",
       "      <td>0.000000</td>\n",
       "      <td>0.000000</td>\n",
       "      <td>0.000000</td>\n",
       "      <td>0.000000</td>\n",
       "      <td>0.000000</td>\n",
       "    </tr>\n",
       "    <tr>\n",
       "      <th>25%</th>\n",
       "      <td>30.000000</td>\n",
       "      <td>8.738543</td>\n",
       "      <td>329.147027</td>\n",
       "      <td>0.000000</td>\n",
       "      <td>1.000000</td>\n",
       "      <td>0.000000</td>\n",
       "      <td>0.000000</td>\n",
       "      <td>0.000000</td>\n",
       "      <td>1.000000</td>\n",
       "      <td>10.763953</td>\n",
       "      <td>48.382395</td>\n",
       "      <td>12.000000</td>\n",
       "      <td>1.000000</td>\n",
       "      <td>2.000853</td>\n",
       "      <td>2.000000</td>\n",
       "      <td>0.000000</td>\n",
       "      <td>6.000000</td>\n",
       "      <td>0.000000</td>\n",
       "      <td>0.000000</td>\n",
       "      <td>0.000000</td>\n",
       "    </tr>\n",
       "    <tr>\n",
       "      <th>50%</th>\n",
       "      <td>60.000000</td>\n",
       "      <td>12.495555</td>\n",
       "      <td>649.878487</td>\n",
       "      <td>1.000000</td>\n",
       "      <td>2.000000</td>\n",
       "      <td>0.000000</td>\n",
       "      <td>1.000000</td>\n",
       "      <td>0.000000</td>\n",
       "      <td>1.000000</td>\n",
       "      <td>20.523116</td>\n",
       "      <td>92.249992</td>\n",
       "      <td>24.000000</td>\n",
       "      <td>2.000000</td>\n",
       "      <td>3.002261</td>\n",
       "      <td>4.000000</td>\n",
       "      <td>1.000000</td>\n",
       "      <td>12.000000</td>\n",
       "      <td>1.000000</td>\n",
       "      <td>1.000000</td>\n",
       "      <td>0.000000</td>\n",
       "    </tr>\n",
       "    <tr>\n",
       "      <th>75%</th>\n",
       "      <td>90.000000</td>\n",
       "      <td>16.238160</td>\n",
       "      <td>1089.317362</td>\n",
       "      <td>2.000000</td>\n",
       "      <td>2.000000</td>\n",
       "      <td>1.000000</td>\n",
       "      <td>2.000000</td>\n",
       "      <td>1.000000</td>\n",
       "      <td>2.000000</td>\n",
       "      <td>30.219396</td>\n",
       "      <td>135.908048</td>\n",
       "      <td>37.000000</td>\n",
       "      <td>3.000000</td>\n",
       "      <td>4.002157</td>\n",
       "      <td>7.000000</td>\n",
       "      <td>1.000000</td>\n",
       "      <td>18.000000</td>\n",
       "      <td>1.000000</td>\n",
       "      <td>1.000000</td>\n",
       "      <td>0.000000</td>\n",
       "    </tr>\n",
       "    <tr>\n",
       "      <th>max</th>\n",
       "      <td>119.000000</td>\n",
       "      <td>19.989957</td>\n",
       "      <td>2378.723844</td>\n",
       "      <td>2.000000</td>\n",
       "      <td>3.000000</td>\n",
       "      <td>1.000000</td>\n",
       "      <td>2.000000</td>\n",
       "      <td>1.000000</td>\n",
       "      <td>3.000000</td>\n",
       "      <td>39.999723</td>\n",
       "      <td>179.999275</td>\n",
       "      <td>49.000000</td>\n",
       "      <td>4.000000</td>\n",
       "      <td>4.999989</td>\n",
       "      <td>9.000000</td>\n",
       "      <td>1.000000</td>\n",
       "      <td>24.000000</td>\n",
       "      <td>1.000000</td>\n",
       "      <td>1.000000</td>\n",
       "      <td>1.000000</td>\n",
       "    </tr>\n",
       "  </tbody>\n",
       "</table>\n",
       "</div>"
      ],
      "text/plain": [
       "          AccountAge  MonthlyCharges   TotalCharges  SubscriptionType  \\\n",
       "count  243787.000000   243787.000000  243787.000000     243787.000000   \n",
       "mean       60.083758       12.490695     750.741017          1.004524   \n",
       "std        34.285143        4.327615     523.073273          0.817019   \n",
       "min         1.000000        4.990062       4.991154          0.000000   \n",
       "25%        30.000000        8.738543     329.147027          0.000000   \n",
       "50%        60.000000       12.495555     649.878487          1.000000   \n",
       "75%        90.000000       16.238160    1089.317362          2.000000   \n",
       "max       119.000000       19.989957    2378.723844          2.000000   \n",
       "\n",
       "       PaymentMethod  PaperlessBilling    ContentType  MultiDeviceAccess  \\\n",
       "count  243787.000000     243787.000000  243787.000000      243787.000000   \n",
       "mean        1.501069          0.499645       0.997572           0.499420   \n",
       "std         1.116775          0.500001       0.817392           0.500001   \n",
       "min         0.000000          0.000000       0.000000           0.000000   \n",
       "25%         1.000000          0.000000       0.000000           0.000000   \n",
       "50%         2.000000          0.000000       1.000000           0.000000   \n",
       "75%         2.000000          1.000000       2.000000           1.000000   \n",
       "max         3.000000          1.000000       2.000000           1.000000   \n",
       "\n",
       "       DeviceRegistered  ViewingHoursPerWeek  AverageViewingDuration  \\\n",
       "count     243787.000000        243787.000000           243787.000000   \n",
       "mean           1.497972            20.502179               92.264061   \n",
       "std            1.116579            11.243753               50.505243   \n",
       "min            0.000000             1.000065                5.000547   \n",
       "25%            1.000000            10.763953               48.382395   \n",
       "50%            1.000000            20.523116               92.249992   \n",
       "75%            2.000000            30.219396              135.908048   \n",
       "max            3.000000            39.999723              179.999275   \n",
       "\n",
       "       ContentDownloadsPerMonth  GenrePreference     UserRating  \\\n",
       "count             243787.000000    243787.000000  243787.000000   \n",
       "mean                  24.503513         2.006145       3.002713   \n",
       "std                   14.421174         1.413408       1.155259   \n",
       "min                    0.000000         0.000000       1.000007   \n",
       "25%                   12.000000         1.000000       2.000853   \n",
       "50%                   24.000000         2.000000       3.002261   \n",
       "75%                   37.000000         3.000000       4.002157   \n",
       "max                   49.000000         4.000000       4.999989   \n",
       "\n",
       "       SupportTicketsPerMonth         Gender  WatchlistSize  ParentalControl  \\\n",
       "count           243787.000000  243787.000000  243787.000000    243787.000000   \n",
       "mean                 4.504186       0.500150      12.018508         0.500786   \n",
       "std                  2.872548       0.500001       7.193034         0.500000   \n",
       "min                  0.000000       0.000000       0.000000         0.000000   \n",
       "25%                  2.000000       0.000000       6.000000         0.000000   \n",
       "50%                  4.000000       1.000000      12.000000         1.000000   \n",
       "75%                  7.000000       1.000000      18.000000         1.000000   \n",
       "max                  9.000000       1.000000      24.000000         1.000000   \n",
       "\n",
       "       SubtitlesEnabled          Churn  \n",
       "count     243787.000000  243787.000000  \n",
       "mean           0.501175       0.181232  \n",
       "std            0.500000       0.385211  \n",
       "min            0.000000       0.000000  \n",
       "25%            0.000000       0.000000  \n",
       "50%            1.000000       0.000000  \n",
       "75%            1.000000       0.000000  \n",
       "max            1.000000       1.000000  "
      ]
     },
     "execution_count": 130,
     "metadata": {},
     "output_type": "execute_result"
    }
   ],
   "source": [
    "df.describe()"
   ]
  },
  {
   "cell_type": "code",
   "execution_count": 176,
   "metadata": {},
   "outputs": [],
   "source": [
    "train_x, test_x, train_y, test_y = train_test_split(data_x, data_y, test_size=0.1)"
   ]
  },
  {
   "cell_type": "code",
   "execution_count": 177,
   "metadata": {},
   "outputs": [
    {
     "data": {
      "text/html": [
       "<style>#sk-container-id-28 {color: black;}#sk-container-id-28 pre{padding: 0;}#sk-container-id-28 div.sk-toggleable {background-color: white;}#sk-container-id-28 label.sk-toggleable__label {cursor: pointer;display: block;width: 100%;margin-bottom: 0;padding: 0.3em;box-sizing: border-box;text-align: center;}#sk-container-id-28 label.sk-toggleable__label-arrow:before {content: \"▸\";float: left;margin-right: 0.25em;color: #696969;}#sk-container-id-28 label.sk-toggleable__label-arrow:hover:before {color: black;}#sk-container-id-28 div.sk-estimator:hover label.sk-toggleable__label-arrow:before {color: black;}#sk-container-id-28 div.sk-toggleable__content {max-height: 0;max-width: 0;overflow: hidden;text-align: left;background-color: #f0f8ff;}#sk-container-id-28 div.sk-toggleable__content pre {margin: 0.2em;color: black;border-radius: 0.25em;background-color: #f0f8ff;}#sk-container-id-28 input.sk-toggleable__control:checked~div.sk-toggleable__content {max-height: 200px;max-width: 100%;overflow: auto;}#sk-container-id-28 input.sk-toggleable__control:checked~label.sk-toggleable__label-arrow:before {content: \"▾\";}#sk-container-id-28 div.sk-estimator input.sk-toggleable__control:checked~label.sk-toggleable__label {background-color: #d4ebff;}#sk-container-id-28 div.sk-label input.sk-toggleable__control:checked~label.sk-toggleable__label {background-color: #d4ebff;}#sk-container-id-28 input.sk-hidden--visually {border: 0;clip: rect(1px 1px 1px 1px);clip: rect(1px, 1px, 1px, 1px);height: 1px;margin: -1px;overflow: hidden;padding: 0;position: absolute;width: 1px;}#sk-container-id-28 div.sk-estimator {font-family: monospace;background-color: #f0f8ff;border: 1px dotted black;border-radius: 0.25em;box-sizing: border-box;margin-bottom: 0.5em;}#sk-container-id-28 div.sk-estimator:hover {background-color: #d4ebff;}#sk-container-id-28 div.sk-parallel-item::after {content: \"\";width: 100%;border-bottom: 1px solid gray;flex-grow: 1;}#sk-container-id-28 div.sk-label:hover label.sk-toggleable__label {background-color: #d4ebff;}#sk-container-id-28 div.sk-serial::before {content: \"\";position: absolute;border-left: 1px solid gray;box-sizing: border-box;top: 0;bottom: 0;left: 50%;z-index: 0;}#sk-container-id-28 div.sk-serial {display: flex;flex-direction: column;align-items: center;background-color: white;padding-right: 0.2em;padding-left: 0.2em;position: relative;}#sk-container-id-28 div.sk-item {position: relative;z-index: 1;}#sk-container-id-28 div.sk-parallel {display: flex;align-items: stretch;justify-content: center;background-color: white;position: relative;}#sk-container-id-28 div.sk-item::before, #sk-container-id-28 div.sk-parallel-item::before {content: \"\";position: absolute;border-left: 1px solid gray;box-sizing: border-box;top: 0;bottom: 0;left: 50%;z-index: -1;}#sk-container-id-28 div.sk-parallel-item {display: flex;flex-direction: column;z-index: 1;position: relative;background-color: white;}#sk-container-id-28 div.sk-parallel-item:first-child::after {align-self: flex-end;width: 50%;}#sk-container-id-28 div.sk-parallel-item:last-child::after {align-self: flex-start;width: 50%;}#sk-container-id-28 div.sk-parallel-item:only-child::after {width: 0;}#sk-container-id-28 div.sk-dashed-wrapped {border: 1px dashed gray;margin: 0 0.4em 0.5em 0.4em;box-sizing: border-box;padding-bottom: 0.4em;background-color: white;}#sk-container-id-28 div.sk-label label {font-family: monospace;font-weight: bold;display: inline-block;line-height: 1.2em;}#sk-container-id-28 div.sk-label-container {text-align: center;}#sk-container-id-28 div.sk-container {/* jupyter's `normalize.less` sets `[hidden] { display: none; }` but bootstrap.min.css set `[hidden] { display: none !important; }` so we also need the `!important` here to be able to override the default hidden behavior on the sphinx rendered scikit-learn.org. See: https://github.com/scikit-learn/scikit-learn/issues/21755 */display: inline-block !important;position: relative;}#sk-container-id-28 div.sk-text-repr-fallback {display: none;}</style><div id=\"sk-container-id-28\" class=\"sk-top-container\"><div class=\"sk-text-repr-fallback\"><pre>KNeighborsClassifier()</pre><b>In a Jupyter environment, please rerun this cell to show the HTML representation or trust the notebook. <br />On GitHub, the HTML representation is unable to render, please try loading this page with nbviewer.org.</b></div><div class=\"sk-container\" hidden><div class=\"sk-item\"><div class=\"sk-estimator sk-toggleable\"><input class=\"sk-toggleable__control sk-hidden--visually\" id=\"sk-estimator-id-28\" type=\"checkbox\" checked><label for=\"sk-estimator-id-28\" class=\"sk-toggleable__label sk-toggleable__label-arrow\">KNeighborsClassifier</label><div class=\"sk-toggleable__content\"><pre>KNeighborsClassifier()</pre></div></div></div></div></div>"
      ],
      "text/plain": [
       "KNeighborsClassifier()"
      ]
     },
     "execution_count": 177,
     "metadata": {},
     "output_type": "execute_result"
    }
   ],
   "source": [
    "k_neighbors.fit(train_x, train_y)"
   ]
  },
  {
   "cell_type": "code",
   "execution_count": 178,
   "metadata": {},
   "outputs": [
    {
     "name": "stdout",
     "output_type": "stream",
     "text": [
      "Score: 66.94%\n"
     ]
    }
   ],
   "source": [
    "print(f'Score: {round(k_neighbors.score(test_x, test_y), 4) * 100}%')"
   ]
  },
  {
   "cell_type": "code",
   "execution_count": null,
   "metadata": {},
   "outputs": [],
   "source": [
    "userRating =2\n",
    "genrepreference = 3\n",
    "predicted = k_neighbors.predict([[userRating, genrepreference]])"
   ]
  },
  {
   "cell_type": "code",
   "execution_count": null,
   "metadata": {},
   "outputs": [],
   "source": [
    "isGender = ['hombre','mujer']\n",
    "generodepref = ['Sci-Fi', 'Action', 'Fantasy', 'Drama', 'Comedy']"
   ]
  },
  {
   "cell_type": "code",
   "execution_count": null,
   "metadata": {},
   "outputs": [],
   "source": [
    "print(f'La persona con {userRating} de puntuacion y con su genero de preferencia {generodepref [genrepreference]} . Se ha determinado que es {isGender[predicted[0]]}')\n"
   ]
  },
  {
   "cell_type": "code",
   "execution_count": 198,
   "metadata": {},
   "outputs": [
    {
     "data": {
      "text/plain": [
       "AccountAge                    int64\n",
       "MonthlyCharges              float64\n",
       "TotalCharges                float64\n",
       "SubscriptionType              int64\n",
       "PaymentMethod                 int64\n",
       "PaperlessBilling              int64\n",
       "ContentType                   int64\n",
       "MultiDeviceAccess             int64\n",
       "DeviceRegistered              int64\n",
       "ViewingHoursPerWeek         float64\n",
       "AverageViewingDuration      float64\n",
       "ContentDownloadsPerMonth      int64\n",
       "GenrePreference               int64\n",
       "UserRating                  float64\n",
       "SupportTicketsPerMonth        int64\n",
       "Gender                        int64\n",
       "WatchlistSize                 int64\n",
       "ParentalControl               int64\n",
       "SubtitlesEnabled              int64\n",
       "Churn                         int64\n",
       "dtype: object"
      ]
     },
     "execution_count": 198,
     "metadata": {},
     "output_type": "execute_result"
    }
   ],
   "source": [
    "df.dtypes"
   ]
  },
  {
   "cell_type": "markdown",
   "metadata": {},
   "source": [
    "### Random Forest"
   ]
  },
  {
   "cell_type": "code",
   "execution_count": 21,
   "metadata": {},
   "outputs": [],
   "source": [
    "forest = RandomForestClassifier()\n"
   ]
  },
  {
   "cell_type": "code",
   "execution_count": 24,
   "metadata": {},
   "outputs": [],
   "source": [
    "data_x_forest = df.drop(['AccountAge','MonthlyCharges','TotalCharges',\n",
    "'SubscriptionType','PaymentMethod','PaperlessBilling',\n",
    "'ContentType','MultiDeviceAccess','DeviceRegistered',\n",
    "'ViewingHoursPerWeek','AverageViewingDuration',\n",
    "'SupportTicketsPerMonth','Gender',\n",
    "'WatchlistSize','ParentalControl','SubtitlesEnabled','Churn'], axis='columns')\n",
    "data_y_forest = df.Gender"
   ]
  },
  {
   "cell_type": "code",
   "execution_count": 25,
   "metadata": {},
   "outputs": [
    {
     "name": "stdout",
     "output_type": "stream",
     "text": [
      "        GenrePreference  UserRating\n",
      "0                     0    2.176498\n",
      "1                     1    3.478632\n",
      "2                     2    4.238824\n",
      "3                     3    4.276013\n",
      "4                     4    3.616170\n",
      "...                 ...         ...\n",
      "243782                0    3.697451\n",
      "243783                4    1.449742\n",
      "243784                1    4.012217\n",
      "243785                2    2.135789\n",
      "243786                1    1.428896\n",
      "\n",
      "[243787 rows x 2 columns]\n"
     ]
    }
   ],
   "source": [
    "print (data_x_forest)"
   ]
  },
  {
   "cell_type": "code",
   "execution_count": 26,
   "metadata": {},
   "outputs": [],
   "source": [
    "train_x_forest, test_x_forest, train_y_forest, test_y_forest = train_test_split(data_x_forest, data_y_forest, test_size=0.1)"
   ]
  },
  {
   "cell_type": "code",
   "execution_count": 27,
   "metadata": {},
   "outputs": [
    {
     "data": {
      "text/html": [
       "<style>#sk-container-id-1 {color: black;}#sk-container-id-1 pre{padding: 0;}#sk-container-id-1 div.sk-toggleable {background-color: white;}#sk-container-id-1 label.sk-toggleable__label {cursor: pointer;display: block;width: 100%;margin-bottom: 0;padding: 0.3em;box-sizing: border-box;text-align: center;}#sk-container-id-1 label.sk-toggleable__label-arrow:before {content: \"▸\";float: left;margin-right: 0.25em;color: #696969;}#sk-container-id-1 label.sk-toggleable__label-arrow:hover:before {color: black;}#sk-container-id-1 div.sk-estimator:hover label.sk-toggleable__label-arrow:before {color: black;}#sk-container-id-1 div.sk-toggleable__content {max-height: 0;max-width: 0;overflow: hidden;text-align: left;background-color: #f0f8ff;}#sk-container-id-1 div.sk-toggleable__content pre {margin: 0.2em;color: black;border-radius: 0.25em;background-color: #f0f8ff;}#sk-container-id-1 input.sk-toggleable__control:checked~div.sk-toggleable__content {max-height: 200px;max-width: 100%;overflow: auto;}#sk-container-id-1 input.sk-toggleable__control:checked~label.sk-toggleable__label-arrow:before {content: \"▾\";}#sk-container-id-1 div.sk-estimator input.sk-toggleable__control:checked~label.sk-toggleable__label {background-color: #d4ebff;}#sk-container-id-1 div.sk-label input.sk-toggleable__control:checked~label.sk-toggleable__label {background-color: #d4ebff;}#sk-container-id-1 input.sk-hidden--visually {border: 0;clip: rect(1px 1px 1px 1px);clip: rect(1px, 1px, 1px, 1px);height: 1px;margin: -1px;overflow: hidden;padding: 0;position: absolute;width: 1px;}#sk-container-id-1 div.sk-estimator {font-family: monospace;background-color: #f0f8ff;border: 1px dotted black;border-radius: 0.25em;box-sizing: border-box;margin-bottom: 0.5em;}#sk-container-id-1 div.sk-estimator:hover {background-color: #d4ebff;}#sk-container-id-1 div.sk-parallel-item::after {content: \"\";width: 100%;border-bottom: 1px solid gray;flex-grow: 1;}#sk-container-id-1 div.sk-label:hover label.sk-toggleable__label {background-color: #d4ebff;}#sk-container-id-1 div.sk-serial::before {content: \"\";position: absolute;border-left: 1px solid gray;box-sizing: border-box;top: 0;bottom: 0;left: 50%;z-index: 0;}#sk-container-id-1 div.sk-serial {display: flex;flex-direction: column;align-items: center;background-color: white;padding-right: 0.2em;padding-left: 0.2em;position: relative;}#sk-container-id-1 div.sk-item {position: relative;z-index: 1;}#sk-container-id-1 div.sk-parallel {display: flex;align-items: stretch;justify-content: center;background-color: white;position: relative;}#sk-container-id-1 div.sk-item::before, #sk-container-id-1 div.sk-parallel-item::before {content: \"\";position: absolute;border-left: 1px solid gray;box-sizing: border-box;top: 0;bottom: 0;left: 50%;z-index: -1;}#sk-container-id-1 div.sk-parallel-item {display: flex;flex-direction: column;z-index: 1;position: relative;background-color: white;}#sk-container-id-1 div.sk-parallel-item:first-child::after {align-self: flex-end;width: 50%;}#sk-container-id-1 div.sk-parallel-item:last-child::after {align-self: flex-start;width: 50%;}#sk-container-id-1 div.sk-parallel-item:only-child::after {width: 0;}#sk-container-id-1 div.sk-dashed-wrapped {border: 1px dashed gray;margin: 0 0.4em 0.5em 0.4em;box-sizing: border-box;padding-bottom: 0.4em;background-color: white;}#sk-container-id-1 div.sk-label label {font-family: monospace;font-weight: bold;display: inline-block;line-height: 1.2em;}#sk-container-id-1 div.sk-label-container {text-align: center;}#sk-container-id-1 div.sk-container {/* jupyter's `normalize.less` sets `[hidden] { display: none; }` but bootstrap.min.css set `[hidden] { display: none !important; }` so we also need the `!important` here to be able to override the default hidden behavior on the sphinx rendered scikit-learn.org. See: https://github.com/scikit-learn/scikit-learn/issues/21755 */display: inline-block !important;position: relative;}#sk-container-id-1 div.sk-text-repr-fallback {display: none;}</style><div id=\"sk-container-id-1\" class=\"sk-top-container\"><div class=\"sk-text-repr-fallback\"><pre>RandomForestClassifier()</pre><b>In a Jupyter environment, please rerun this cell to show the HTML representation or trust the notebook. <br />On GitHub, the HTML representation is unable to render, please try loading this page with nbviewer.org.</b></div><div class=\"sk-container\" hidden><div class=\"sk-item\"><div class=\"sk-estimator sk-toggleable\"><input class=\"sk-toggleable__control sk-hidden--visually\" id=\"sk-estimator-id-1\" type=\"checkbox\" checked><label for=\"sk-estimator-id-1\" class=\"sk-toggleable__label sk-toggleable__label-arrow\">RandomForestClassifier</label><div class=\"sk-toggleable__content\"><pre>RandomForestClassifier()</pre></div></div></div></div></div>"
      ],
      "text/plain": [
       "RandomForestClassifier()"
      ]
     },
     "execution_count": 27,
     "metadata": {},
     "output_type": "execute_result"
    }
   ],
   "source": [
    "forest.fit(data_x_forest, data_y_forest)"
   ]
  },
  {
   "cell_type": "code",
   "execution_count": 28,
   "metadata": {},
   "outputs": [
    {
     "name": "stdout",
     "output_type": "stream",
     "text": [
      "El score del modelo es: 99.87%\n"
     ]
    }
   ],
   "source": [
    "print(f'El score del modelo es: {round(forest.score(data_x_forest, data_y_forest), 4) *100}%')"
   ]
  },
  {
   "cell_type": "code",
   "execution_count": 30,
   "metadata": {},
   "outputs": [
    {
     "name": "stderr",
     "output_type": "stream",
     "text": [
      "c:\\Users\\Pedro\\Desktop\\SemestresUni\\2-2023\\algoritmica\\Tarea2\\entornovirtual\\lib\\site-packages\\sklearn\\base.py:465: UserWarning: X does not have valid feature names, but RandomForestClassifier was fitted with feature names\n",
      "  warnings.warn(\n"
     ]
    }
   ],
   "source": [
    "userRating =2\n",
    "genrepreference = 3\n",
    "predicted = forest.predict([[userRating, genrepreference]])"
   ]
  },
  {
   "cell_type": "code",
   "execution_count": 38,
   "metadata": {},
   "outputs": [],
   "source": [
    "isGender = ['hombre','mujer']\n",
    "generodepref = ['Sci-Fi', 'Action', 'Fantasy', 'Drama', 'Comedy']\n"
   ]
  },
  {
   "cell_type": "code",
   "execution_count": 39,
   "metadata": {},
   "outputs": [
    {
     "name": "stdout",
     "output_type": "stream",
     "text": [
      "La persona con 2 de puntuacion y con su genero de preferencia Drama . Se ha determinado que es mujer\n"
     ]
    }
   ],
   "source": [
    "print(f'La persona con {userRating} de puntuacion y con su genero de preferencia {generodepref [genrepreference]} . Se ha determinado que es {isGender[predicted[0]]}')\n"
   ]
  },
  {
   "cell_type": "markdown",
   "metadata": {},
   "source": [
    "### Decision Tree"
   ]
  },
  {
   "cell_type": "code",
   "execution_count": 40,
   "metadata": {},
   "outputs": [],
   "source": [
    "decission_model = DecisionTreeClassifier()"
   ]
  },
  {
   "cell_type": "code",
   "execution_count": 51,
   "metadata": {},
   "outputs": [],
   "source": [
    "data_x_tree = df.drop(['AccountAge','MonthlyCharges','TotalCharges',\n",
    "'SubscriptionType','PaymentMethod','PaperlessBilling',\n",
    "'ContentType','MultiDeviceAccess','DeviceRegistered',\n",
    "'ViewingHoursPerWeek','AverageViewingDuration',\n",
    "'SupportTicketsPerMonth','Gender',\n",
    "'WatchlistSize','ParentalControl','SubtitlesEnabled','Churn'\n",
    "        ], axis='columns')\n",
    "data_y_tree = df.Gender"
   ]
  },
  {
   "cell_type": "code",
   "execution_count": 52,
   "metadata": {},
   "outputs": [],
   "source": [
    "train_x_tree, test_x_tree, train_y_tree, test_y_tree = train_test_split(data_x_tree, data_y_tree, train_size=0.9)"
   ]
  },
  {
   "cell_type": "code",
   "execution_count": 62,
   "metadata": {},
   "outputs": [
    {
     "data": {
      "text/html": [
       "<style>#sk-container-id-5 {color: black;}#sk-container-id-5 pre{padding: 0;}#sk-container-id-5 div.sk-toggleable {background-color: white;}#sk-container-id-5 label.sk-toggleable__label {cursor: pointer;display: block;width: 100%;margin-bottom: 0;padding: 0.3em;box-sizing: border-box;text-align: center;}#sk-container-id-5 label.sk-toggleable__label-arrow:before {content: \"▸\";float: left;margin-right: 0.25em;color: #696969;}#sk-container-id-5 label.sk-toggleable__label-arrow:hover:before {color: black;}#sk-container-id-5 div.sk-estimator:hover label.sk-toggleable__label-arrow:before {color: black;}#sk-container-id-5 div.sk-toggleable__content {max-height: 0;max-width: 0;overflow: hidden;text-align: left;background-color: #f0f8ff;}#sk-container-id-5 div.sk-toggleable__content pre {margin: 0.2em;color: black;border-radius: 0.25em;background-color: #f0f8ff;}#sk-container-id-5 input.sk-toggleable__control:checked~div.sk-toggleable__content {max-height: 200px;max-width: 100%;overflow: auto;}#sk-container-id-5 input.sk-toggleable__control:checked~label.sk-toggleable__label-arrow:before {content: \"▾\";}#sk-container-id-5 div.sk-estimator input.sk-toggleable__control:checked~label.sk-toggleable__label {background-color: #d4ebff;}#sk-container-id-5 div.sk-label input.sk-toggleable__control:checked~label.sk-toggleable__label {background-color: #d4ebff;}#sk-container-id-5 input.sk-hidden--visually {border: 0;clip: rect(1px 1px 1px 1px);clip: rect(1px, 1px, 1px, 1px);height: 1px;margin: -1px;overflow: hidden;padding: 0;position: absolute;width: 1px;}#sk-container-id-5 div.sk-estimator {font-family: monospace;background-color: #f0f8ff;border: 1px dotted black;border-radius: 0.25em;box-sizing: border-box;margin-bottom: 0.5em;}#sk-container-id-5 div.sk-estimator:hover {background-color: #d4ebff;}#sk-container-id-5 div.sk-parallel-item::after {content: \"\";width: 100%;border-bottom: 1px solid gray;flex-grow: 1;}#sk-container-id-5 div.sk-label:hover label.sk-toggleable__label {background-color: #d4ebff;}#sk-container-id-5 div.sk-serial::before {content: \"\";position: absolute;border-left: 1px solid gray;box-sizing: border-box;top: 0;bottom: 0;left: 50%;z-index: 0;}#sk-container-id-5 div.sk-serial {display: flex;flex-direction: column;align-items: center;background-color: white;padding-right: 0.2em;padding-left: 0.2em;position: relative;}#sk-container-id-5 div.sk-item {position: relative;z-index: 1;}#sk-container-id-5 div.sk-parallel {display: flex;align-items: stretch;justify-content: center;background-color: white;position: relative;}#sk-container-id-5 div.sk-item::before, #sk-container-id-5 div.sk-parallel-item::before {content: \"\";position: absolute;border-left: 1px solid gray;box-sizing: border-box;top: 0;bottom: 0;left: 50%;z-index: -1;}#sk-container-id-5 div.sk-parallel-item {display: flex;flex-direction: column;z-index: 1;position: relative;background-color: white;}#sk-container-id-5 div.sk-parallel-item:first-child::after {align-self: flex-end;width: 50%;}#sk-container-id-5 div.sk-parallel-item:last-child::after {align-self: flex-start;width: 50%;}#sk-container-id-5 div.sk-parallel-item:only-child::after {width: 0;}#sk-container-id-5 div.sk-dashed-wrapped {border: 1px dashed gray;margin: 0 0.4em 0.5em 0.4em;box-sizing: border-box;padding-bottom: 0.4em;background-color: white;}#sk-container-id-5 div.sk-label label {font-family: monospace;font-weight: bold;display: inline-block;line-height: 1.2em;}#sk-container-id-5 div.sk-label-container {text-align: center;}#sk-container-id-5 div.sk-container {/* jupyter's `normalize.less` sets `[hidden] { display: none; }` but bootstrap.min.css set `[hidden] { display: none !important; }` so we also need the `!important` here to be able to override the default hidden behavior on the sphinx rendered scikit-learn.org. See: https://github.com/scikit-learn/scikit-learn/issues/21755 */display: inline-block !important;position: relative;}#sk-container-id-5 div.sk-text-repr-fallback {display: none;}</style><div id=\"sk-container-id-5\" class=\"sk-top-container\"><div class=\"sk-text-repr-fallback\"><pre>DecisionTreeClassifier()</pre><b>In a Jupyter environment, please rerun this cell to show the HTML representation or trust the notebook. <br />On GitHub, the HTML representation is unable to render, please try loading this page with nbviewer.org.</b></div><div class=\"sk-container\" hidden><div class=\"sk-item\"><div class=\"sk-estimator sk-toggleable\"><input class=\"sk-toggleable__control sk-hidden--visually\" id=\"sk-estimator-id-5\" type=\"checkbox\" checked><label for=\"sk-estimator-id-5\" class=\"sk-toggleable__label sk-toggleable__label-arrow\">DecisionTreeClassifier</label><div class=\"sk-toggleable__content\"><pre>DecisionTreeClassifier()</pre></div></div></div></div></div>"
      ],
      "text/plain": [
       "DecisionTreeClassifier()"
      ]
     },
     "execution_count": 62,
     "metadata": {},
     "output_type": "execute_result"
    }
   ],
   "source": [
    "decission_model.fit(train_x_tree, train_y_tree)"
   ]
  },
  {
   "cell_type": "code",
   "execution_count": 63,
   "metadata": {},
   "outputs": [],
   "source": [
    "y_predicted = decission_model.predict(test_x_tree)"
   ]
  },
  {
   "cell_type": "code",
   "execution_count": 64,
   "metadata": {},
   "outputs": [
    {
     "name": "stdout",
     "output_type": "stream",
     "text": [
      "Score del modelo: 50.21%\n"
     ]
    }
   ],
   "source": [
    "print(f'Score del modelo: {round(decission_model.score(test_x_tree, test_y_tree), 4) * 100}%')"
   ]
  },
  {
   "cell_type": "code",
   "execution_count": 56,
   "metadata": {},
   "outputs": [
    {
     "name": "stderr",
     "output_type": "stream",
     "text": [
      "c:\\Users\\Pedro\\Desktop\\SemestresUni\\2-2023\\algoritmica\\Tarea2\\entornovirtual\\lib\\site-packages\\sklearn\\base.py:465: UserWarning: X does not have valid feature names, but DecisionTreeClassifier was fitted with feature names\n",
      "  warnings.warn(\n"
     ]
    }
   ],
   "source": [
    "userRating =2\n",
    "genrepreference = 3\n",
    "predicted = decission_model.predict([[userRating, genrepreference]])\n"
   ]
  },
  {
   "cell_type": "code",
   "execution_count": 57,
   "metadata": {},
   "outputs": [
    {
     "name": "stdout",
     "output_type": "stream",
     "text": [
      "La persona con 2 de puntuacion y con su genero de preferencia Drama . Se ha determinado que es hombre\n"
     ]
    }
   ],
   "source": [
    "print(f'La persona con {userRating} de puntuacion y con su genero de preferencia {generodepref [genrepreference]} . Se ha determinado que es {isGender[predicted[0]]}')\n"
   ]
  }
 ],
 "metadata": {
  "kernelspec": {
   "display_name": "entornovirtual",
   "language": "python",
   "name": "python3"
  },
  "language_info": {
   "codemirror_mode": {
    "name": "ipython",
    "version": 3
   },
   "file_extension": ".py",
   "mimetype": "text/x-python",
   "name": "python",
   "nbconvert_exporter": "python",
   "pygments_lexer": "ipython3",
   "version": "3.9.6"
  }
 },
 "nbformat": 4,
 "nbformat_minor": 2
}
