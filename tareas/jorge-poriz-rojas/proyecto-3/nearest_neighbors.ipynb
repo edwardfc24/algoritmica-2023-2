{
 "cells": [
  {
   "cell_type": "code",
   "execution_count": 1,
   "metadata": {},
   "outputs": [],
   "source": [
    "from sklearn.neighbors import KNeighborsClassifier\n",
    "from sklearn.model_selection import train_test_split\n",
    "\n",
    "from sklearn import preprocessing\n",
    "\n",
    "import pandas as pd\n",
    "import numpy as np\n",
    "import matplotlib.pyplot as plt"
   ]
  },
  {
   "cell_type": "code",
   "execution_count": 2,
   "metadata": {},
   "outputs": [],
   "source": [
    "df = pd.read_csv('salary.csv')"
   ]
  },
  {
   "cell_type": "code",
   "execution_count": 3,
   "metadata": {},
   "outputs": [
    {
     "data": {
      "text/plain": [
       "age                int64\n",
       "workclass         object\n",
       "fnlwgt             int64\n",
       "education         object\n",
       "education-num      int64\n",
       "marital-status    object\n",
       "occupation        object\n",
       "relationship      object\n",
       "race              object\n",
       "sex               object\n",
       "capital-gain       int64\n",
       "capital-loss       int64\n",
       "hours-per-week     int64\n",
       "native-country    object\n",
       "salary            object\n",
       "dtype: object"
      ]
     },
     "execution_count": 3,
     "metadata": {},
     "output_type": "execute_result"
    }
   ],
   "source": [
    "df.dtypes"
   ]
  },
  {
   "cell_type": "code",
   "execution_count": 4,
   "metadata": {},
   "outputs": [
    {
     "data": {
      "text/html": [
       "<div>\n",
       "<style scoped>\n",
       "    .dataframe tbody tr th:only-of-type {\n",
       "        vertical-align: middle;\n",
       "    }\n",
       "\n",
       "    .dataframe tbody tr th {\n",
       "        vertical-align: top;\n",
       "    }\n",
       "\n",
       "    .dataframe thead th {\n",
       "        text-align: right;\n",
       "    }\n",
       "</style>\n",
       "<table border=\"1\" class=\"dataframe\">\n",
       "  <thead>\n",
       "    <tr style=\"text-align: right;\">\n",
       "      <th></th>\n",
       "      <th>age</th>\n",
       "      <th>workclass</th>\n",
       "      <th>fnlwgt</th>\n",
       "      <th>education</th>\n",
       "      <th>education-num</th>\n",
       "      <th>marital-status</th>\n",
       "      <th>occupation</th>\n",
       "      <th>relationship</th>\n",
       "      <th>race</th>\n",
       "      <th>sex</th>\n",
       "      <th>capital-gain</th>\n",
       "      <th>capital-loss</th>\n",
       "      <th>hours-per-week</th>\n",
       "      <th>native-country</th>\n",
       "      <th>salary</th>\n",
       "    </tr>\n",
       "  </thead>\n",
       "  <tbody>\n",
       "    <tr>\n",
       "      <th>0</th>\n",
       "      <td>39</td>\n",
       "      <td>State-gov</td>\n",
       "      <td>77516</td>\n",
       "      <td>Bachelors</td>\n",
       "      <td>13</td>\n",
       "      <td>Never-married</td>\n",
       "      <td>Adm-clerical</td>\n",
       "      <td>Not-in-family</td>\n",
       "      <td>White</td>\n",
       "      <td>Male</td>\n",
       "      <td>2174</td>\n",
       "      <td>0</td>\n",
       "      <td>40</td>\n",
       "      <td>United-States</td>\n",
       "      <td>&lt;=50K</td>\n",
       "    </tr>\n",
       "    <tr>\n",
       "      <th>1</th>\n",
       "      <td>50</td>\n",
       "      <td>Self-emp-not-inc</td>\n",
       "      <td>83311</td>\n",
       "      <td>Bachelors</td>\n",
       "      <td>13</td>\n",
       "      <td>Married-civ-spouse</td>\n",
       "      <td>Exec-managerial</td>\n",
       "      <td>Husband</td>\n",
       "      <td>White</td>\n",
       "      <td>Male</td>\n",
       "      <td>0</td>\n",
       "      <td>0</td>\n",
       "      <td>13</td>\n",
       "      <td>United-States</td>\n",
       "      <td>&lt;=50K</td>\n",
       "    </tr>\n",
       "    <tr>\n",
       "      <th>2</th>\n",
       "      <td>38</td>\n",
       "      <td>Private</td>\n",
       "      <td>215646</td>\n",
       "      <td>HS-grad</td>\n",
       "      <td>9</td>\n",
       "      <td>Divorced</td>\n",
       "      <td>Handlers-cleaners</td>\n",
       "      <td>Not-in-family</td>\n",
       "      <td>White</td>\n",
       "      <td>Male</td>\n",
       "      <td>0</td>\n",
       "      <td>0</td>\n",
       "      <td>40</td>\n",
       "      <td>United-States</td>\n",
       "      <td>&lt;=50K</td>\n",
       "    </tr>\n",
       "    <tr>\n",
       "      <th>3</th>\n",
       "      <td>53</td>\n",
       "      <td>Private</td>\n",
       "      <td>234721</td>\n",
       "      <td>11th</td>\n",
       "      <td>7</td>\n",
       "      <td>Married-civ-spouse</td>\n",
       "      <td>Handlers-cleaners</td>\n",
       "      <td>Husband</td>\n",
       "      <td>Black</td>\n",
       "      <td>Male</td>\n",
       "      <td>0</td>\n",
       "      <td>0</td>\n",
       "      <td>40</td>\n",
       "      <td>United-States</td>\n",
       "      <td>&lt;=50K</td>\n",
       "    </tr>\n",
       "    <tr>\n",
       "      <th>4</th>\n",
       "      <td>28</td>\n",
       "      <td>Private</td>\n",
       "      <td>338409</td>\n",
       "      <td>Bachelors</td>\n",
       "      <td>13</td>\n",
       "      <td>Married-civ-spouse</td>\n",
       "      <td>Prof-specialty</td>\n",
       "      <td>Wife</td>\n",
       "      <td>Black</td>\n",
       "      <td>Female</td>\n",
       "      <td>0</td>\n",
       "      <td>0</td>\n",
       "      <td>40</td>\n",
       "      <td>Cuba</td>\n",
       "      <td>&lt;=50K</td>\n",
       "    </tr>\n",
       "  </tbody>\n",
       "</table>\n",
       "</div>"
      ],
      "text/plain": [
       "   age          workclass  fnlwgt   education  education-num  \\\n",
       "0   39          State-gov   77516   Bachelors             13   \n",
       "1   50   Self-emp-not-inc   83311   Bachelors             13   \n",
       "2   38            Private  215646     HS-grad              9   \n",
       "3   53            Private  234721        11th              7   \n",
       "4   28            Private  338409   Bachelors             13   \n",
       "\n",
       "        marital-status          occupation    relationship    race      sex  \\\n",
       "0        Never-married        Adm-clerical   Not-in-family   White     Male   \n",
       "1   Married-civ-spouse     Exec-managerial         Husband   White     Male   \n",
       "2             Divorced   Handlers-cleaners   Not-in-family   White     Male   \n",
       "3   Married-civ-spouse   Handlers-cleaners         Husband   Black     Male   \n",
       "4   Married-civ-spouse      Prof-specialty            Wife   Black   Female   \n",
       "\n",
       "   capital-gain  capital-loss  hours-per-week  native-country  salary  \n",
       "0          2174             0              40   United-States   <=50K  \n",
       "1             0             0              13   United-States   <=50K  \n",
       "2             0             0              40   United-States   <=50K  \n",
       "3             0             0              40   United-States   <=50K  \n",
       "4             0             0              40            Cuba   <=50K  "
      ]
     },
     "execution_count": 4,
     "metadata": {},
     "output_type": "execute_result"
    }
   ],
   "source": [
    "df.head()"
   ]
  },
  {
   "cell_type": "code",
   "execution_count": 5,
   "metadata": {},
   "outputs": [
    {
     "data": {
      "text/plain": [
       "array([' State-gov', ' Self-emp-not-inc', ' Private', ' Federal-gov',\n",
       "       ' Local-gov', ' ?', ' Self-emp-inc', ' Without-pay',\n",
       "       ' Never-worked'], dtype=object)"
      ]
     },
     "execution_count": 5,
     "metadata": {},
     "output_type": "execute_result"
    }
   ],
   "source": [
    "df.workclass.unique()"
   ]
  },
  {
   "cell_type": "code",
   "execution_count": 6,
   "metadata": {},
   "outputs": [],
   "source": [
    "df.workclass = df.workclass.str.strip()"
   ]
  },
  {
   "cell_type": "code",
   "execution_count": 7,
   "metadata": {},
   "outputs": [
    {
     "data": {
      "text/plain": [
       "array(['State-gov', 'Self-emp-not-inc', 'Private', 'Federal-gov',\n",
       "       'Local-gov', '?', 'Self-emp-inc', 'Without-pay', 'Never-worked'],\n",
       "      dtype=object)"
      ]
     },
     "execution_count": 7,
     "metadata": {},
     "output_type": "execute_result"
    }
   ],
   "source": [
    "df.workclass.unique()"
   ]
  },
  {
   "cell_type": "code",
   "execution_count": 8,
   "metadata": {},
   "outputs": [],
   "source": [
    "df.workclass = df.workclass.map({'State-gov': 1, 'Self-emp-not-inc': 2, 'Private': 3, 'Federal-gov': 4, 'Local-gov': 5, '?' : 6, 'Self-emp-inc': 7, 'Without-pay': 8, 'Never-worked': 9})"
   ]
  },
  {
   "cell_type": "code",
   "execution_count": 9,
   "metadata": {},
   "outputs": [
    {
     "data": {
      "text/plain": [
       "array([' Bachelors', ' HS-grad', ' 11th', ' Masters', ' 9th',\n",
       "       ' Some-college', ' Assoc-acdm', ' Assoc-voc', ' 7th-8th',\n",
       "       ' Doctorate', ' Prof-school', ' 5th-6th', ' 10th', ' 1st-4th',\n",
       "       ' Preschool', ' 12th'], dtype=object)"
      ]
     },
     "execution_count": 9,
     "metadata": {},
     "output_type": "execute_result"
    }
   ],
   "source": [
    "df.education.unique()"
   ]
  },
  {
   "cell_type": "code",
   "execution_count": 10,
   "metadata": {},
   "outputs": [],
   "source": [
    "df.education = df.education.str.strip()"
   ]
  },
  {
   "cell_type": "code",
   "execution_count": 11,
   "metadata": {},
   "outputs": [
    {
     "data": {
      "text/plain": [
       "array(['Bachelors', 'HS-grad', '11th', 'Masters', '9th', 'Some-college',\n",
       "       'Assoc-acdm', 'Assoc-voc', '7th-8th', 'Doctorate', 'Prof-school',\n",
       "       '5th-6th', '10th', '1st-4th', 'Preschool', '12th'], dtype=object)"
      ]
     },
     "execution_count": 11,
     "metadata": {},
     "output_type": "execute_result"
    }
   ],
   "source": [
    "# Al tener mas de 10 valores univos se usara un modelo de pre procesamiento\n",
    "df.education.unique()"
   ]
  },
  {
   "cell_type": "code",
   "execution_count": 12,
   "metadata": {},
   "outputs": [],
   "source": [
    "encoder_education = preprocessing.LabelEncoder()"
   ]
  },
  {
   "cell_type": "code",
   "execution_count": 13,
   "metadata": {},
   "outputs": [
    {
     "data": {
      "text/html": [
       "<style>#sk-container-id-1 {color: black;}#sk-container-id-1 pre{padding: 0;}#sk-container-id-1 div.sk-toggleable {background-color: white;}#sk-container-id-1 label.sk-toggleable__label {cursor: pointer;display: block;width: 100%;margin-bottom: 0;padding: 0.3em;box-sizing: border-box;text-align: center;}#sk-container-id-1 label.sk-toggleable__label-arrow:before {content: \"▸\";float: left;margin-right: 0.25em;color: #696969;}#sk-container-id-1 label.sk-toggleable__label-arrow:hover:before {color: black;}#sk-container-id-1 div.sk-estimator:hover label.sk-toggleable__label-arrow:before {color: black;}#sk-container-id-1 div.sk-toggleable__content {max-height: 0;max-width: 0;overflow: hidden;text-align: left;background-color: #f0f8ff;}#sk-container-id-1 div.sk-toggleable__content pre {margin: 0.2em;color: black;border-radius: 0.25em;background-color: #f0f8ff;}#sk-container-id-1 input.sk-toggleable__control:checked~div.sk-toggleable__content {max-height: 200px;max-width: 100%;overflow: auto;}#sk-container-id-1 input.sk-toggleable__control:checked~label.sk-toggleable__label-arrow:before {content: \"▾\";}#sk-container-id-1 div.sk-estimator input.sk-toggleable__control:checked~label.sk-toggleable__label {background-color: #d4ebff;}#sk-container-id-1 div.sk-label input.sk-toggleable__control:checked~label.sk-toggleable__label {background-color: #d4ebff;}#sk-container-id-1 input.sk-hidden--visually {border: 0;clip: rect(1px 1px 1px 1px);clip: rect(1px, 1px, 1px, 1px);height: 1px;margin: -1px;overflow: hidden;padding: 0;position: absolute;width: 1px;}#sk-container-id-1 div.sk-estimator {font-family: monospace;background-color: #f0f8ff;border: 1px dotted black;border-radius: 0.25em;box-sizing: border-box;margin-bottom: 0.5em;}#sk-container-id-1 div.sk-estimator:hover {background-color: #d4ebff;}#sk-container-id-1 div.sk-parallel-item::after {content: \"\";width: 100%;border-bottom: 1px solid gray;flex-grow: 1;}#sk-container-id-1 div.sk-label:hover label.sk-toggleable__label {background-color: #d4ebff;}#sk-container-id-1 div.sk-serial::before {content: \"\";position: absolute;border-left: 1px solid gray;box-sizing: border-box;top: 0;bottom: 0;left: 50%;z-index: 0;}#sk-container-id-1 div.sk-serial {display: flex;flex-direction: column;align-items: center;background-color: white;padding-right: 0.2em;padding-left: 0.2em;position: relative;}#sk-container-id-1 div.sk-item {position: relative;z-index: 1;}#sk-container-id-1 div.sk-parallel {display: flex;align-items: stretch;justify-content: center;background-color: white;position: relative;}#sk-container-id-1 div.sk-item::before, #sk-container-id-1 div.sk-parallel-item::before {content: \"\";position: absolute;border-left: 1px solid gray;box-sizing: border-box;top: 0;bottom: 0;left: 50%;z-index: -1;}#sk-container-id-1 div.sk-parallel-item {display: flex;flex-direction: column;z-index: 1;position: relative;background-color: white;}#sk-container-id-1 div.sk-parallel-item:first-child::after {align-self: flex-end;width: 50%;}#sk-container-id-1 div.sk-parallel-item:last-child::after {align-self: flex-start;width: 50%;}#sk-container-id-1 div.sk-parallel-item:only-child::after {width: 0;}#sk-container-id-1 div.sk-dashed-wrapped {border: 1px dashed gray;margin: 0 0.4em 0.5em 0.4em;box-sizing: border-box;padding-bottom: 0.4em;background-color: white;}#sk-container-id-1 div.sk-label label {font-family: monospace;font-weight: bold;display: inline-block;line-height: 1.2em;}#sk-container-id-1 div.sk-label-container {text-align: center;}#sk-container-id-1 div.sk-container {/* jupyter's `normalize.less` sets `[hidden] { display: none; }` but bootstrap.min.css set `[hidden] { display: none !important; }` so we also need the `!important` here to be able to override the default hidden behavior on the sphinx rendered scikit-learn.org. See: https://github.com/scikit-learn/scikit-learn/issues/21755 */display: inline-block !important;position: relative;}#sk-container-id-1 div.sk-text-repr-fallback {display: none;}</style><div id=\"sk-container-id-1\" class=\"sk-top-container\"><div class=\"sk-text-repr-fallback\"><pre>LabelEncoder()</pre><b>In a Jupyter environment, please rerun this cell to show the HTML representation or trust the notebook. <br />On GitHub, the HTML representation is unable to render, please try loading this page with nbviewer.org.</b></div><div class=\"sk-container\" hidden><div class=\"sk-item\"><div class=\"sk-estimator sk-toggleable\"><input class=\"sk-toggleable__control sk-hidden--visually\" id=\"sk-estimator-id-1\" type=\"checkbox\" checked><label for=\"sk-estimator-id-1\" class=\"sk-toggleable__label sk-toggleable__label-arrow\">LabelEncoder</label><div class=\"sk-toggleable__content\"><pre>LabelEncoder()</pre></div></div></div></div></div>"
      ],
      "text/plain": [
       "LabelEncoder()"
      ]
     },
     "execution_count": 13,
     "metadata": {},
     "output_type": "execute_result"
    }
   ],
   "source": [
    "encoder_education.fit(df.education)"
   ]
  },
  {
   "cell_type": "code",
   "execution_count": 14,
   "metadata": {},
   "outputs": [],
   "source": [
    "df.education = encoder_education.transform(df.education)"
   ]
  },
  {
   "cell_type": "code",
   "execution_count": 15,
   "metadata": {},
   "outputs": [
    {
     "data": {
      "text/html": [
       "<div>\n",
       "<style scoped>\n",
       "    .dataframe tbody tr th:only-of-type {\n",
       "        vertical-align: middle;\n",
       "    }\n",
       "\n",
       "    .dataframe tbody tr th {\n",
       "        vertical-align: top;\n",
       "    }\n",
       "\n",
       "    .dataframe thead th {\n",
       "        text-align: right;\n",
       "    }\n",
       "</style>\n",
       "<table border=\"1\" class=\"dataframe\">\n",
       "  <thead>\n",
       "    <tr style=\"text-align: right;\">\n",
       "      <th></th>\n",
       "      <th>age</th>\n",
       "      <th>workclass</th>\n",
       "      <th>fnlwgt</th>\n",
       "      <th>education</th>\n",
       "      <th>education-num</th>\n",
       "      <th>marital-status</th>\n",
       "      <th>occupation</th>\n",
       "      <th>relationship</th>\n",
       "      <th>race</th>\n",
       "      <th>sex</th>\n",
       "      <th>capital-gain</th>\n",
       "      <th>capital-loss</th>\n",
       "      <th>hours-per-week</th>\n",
       "      <th>native-country</th>\n",
       "      <th>salary</th>\n",
       "    </tr>\n",
       "  </thead>\n",
       "  <tbody>\n",
       "    <tr>\n",
       "      <th>32559</th>\n",
       "      <td>22</td>\n",
       "      <td>3</td>\n",
       "      <td>201490</td>\n",
       "      <td>11</td>\n",
       "      <td>9</td>\n",
       "      <td>Never-married</td>\n",
       "      <td>Adm-clerical</td>\n",
       "      <td>Own-child</td>\n",
       "      <td>White</td>\n",
       "      <td>Male</td>\n",
       "      <td>0</td>\n",
       "      <td>0</td>\n",
       "      <td>20</td>\n",
       "      <td>United-States</td>\n",
       "      <td>&lt;=50K</td>\n",
       "    </tr>\n",
       "    <tr>\n",
       "      <th>32560</th>\n",
       "      <td>52</td>\n",
       "      <td>7</td>\n",
       "      <td>287927</td>\n",
       "      <td>11</td>\n",
       "      <td>9</td>\n",
       "      <td>Married-civ-spouse</td>\n",
       "      <td>Exec-managerial</td>\n",
       "      <td>Wife</td>\n",
       "      <td>White</td>\n",
       "      <td>Female</td>\n",
       "      <td>15024</td>\n",
       "      <td>0</td>\n",
       "      <td>40</td>\n",
       "      <td>United-States</td>\n",
       "      <td>&gt;50K</td>\n",
       "    </tr>\n",
       "  </tbody>\n",
       "</table>\n",
       "</div>"
      ],
      "text/plain": [
       "       age  workclass  fnlwgt  education  education-num       marital-status  \\\n",
       "32559   22          3  201490         11              9        Never-married   \n",
       "32560   52          7  287927         11              9   Married-civ-spouse   \n",
       "\n",
       "             occupation relationship    race      sex  capital-gain  \\\n",
       "32559      Adm-clerical    Own-child   White     Male             0   \n",
       "32560   Exec-managerial         Wife   White   Female         15024   \n",
       "\n",
       "       capital-loss  hours-per-week  native-country  salary  \n",
       "32559             0              20   United-States   <=50K  \n",
       "32560             0              40   United-States    >50K  "
      ]
     },
     "execution_count": 15,
     "metadata": {},
     "output_type": "execute_result"
    }
   ],
   "source": [
    "df.tail(2)"
   ]
  },
  {
   "cell_type": "code",
   "execution_count": 16,
   "metadata": {},
   "outputs": [
    {
     "data": {
      "text/plain": [
       "array([' Never-married', ' Married-civ-spouse', ' Divorced',\n",
       "       ' Married-spouse-absent', ' Separated', ' Married-AF-spouse',\n",
       "       ' Widowed'], dtype=object)"
      ]
     },
     "execution_count": 16,
     "metadata": {},
     "output_type": "execute_result"
    }
   ],
   "source": [
    "df['marital-status'].unique()"
   ]
  },
  {
   "cell_type": "code",
   "execution_count": 17,
   "metadata": {},
   "outputs": [],
   "source": [
    "df['marital-status'] = df['marital-status'].str.strip()"
   ]
  },
  {
   "cell_type": "code",
   "execution_count": 18,
   "metadata": {},
   "outputs": [
    {
     "data": {
      "text/plain": [
       "array(['Never-married', 'Married-civ-spouse', 'Divorced',\n",
       "       'Married-spouse-absent', 'Separated', 'Married-AF-spouse',\n",
       "       'Widowed'], dtype=object)"
      ]
     },
     "execution_count": 18,
     "metadata": {},
     "output_type": "execute_result"
    }
   ],
   "source": [
    "df['marital-status'].unique()"
   ]
  },
  {
   "cell_type": "code",
   "execution_count": 19,
   "metadata": {},
   "outputs": [],
   "source": [
    "df['marital-status'] = df['marital-status'].map({'Never-married': 1, 'Married-civ-spouse': 2, 'Divorced': 3, 'Married-spouse-absent': 4, 'Separated': 5, 'Married-AF-spouse': 6, 'Widowed': 7})"
   ]
  },
  {
   "cell_type": "code",
   "execution_count": 20,
   "metadata": {},
   "outputs": [
    {
     "data": {
      "text/plain": [
       "array([' Adm-clerical', ' Exec-managerial', ' Handlers-cleaners',\n",
       "       ' Prof-specialty', ' Other-service', ' Sales', ' Craft-repair',\n",
       "       ' Transport-moving', ' Farming-fishing', ' Machine-op-inspct',\n",
       "       ' Tech-support', ' ?', ' Protective-serv', ' Armed-Forces',\n",
       "       ' Priv-house-serv'], dtype=object)"
      ]
     },
     "execution_count": 20,
     "metadata": {},
     "output_type": "execute_result"
    }
   ],
   "source": [
    "df.occupation.unique()"
   ]
  },
  {
   "cell_type": "code",
   "execution_count": 21,
   "metadata": {},
   "outputs": [],
   "source": [
    "df.occupation = df.occupation.str.strip()"
   ]
  },
  {
   "cell_type": "code",
   "execution_count": 22,
   "metadata": {},
   "outputs": [
    {
     "data": {
      "text/plain": [
       "array(['Adm-clerical', 'Exec-managerial', 'Handlers-cleaners',\n",
       "       'Prof-specialty', 'Other-service', 'Sales', 'Craft-repair',\n",
       "       'Transport-moving', 'Farming-fishing', 'Machine-op-inspct',\n",
       "       'Tech-support', '?', 'Protective-serv', 'Armed-Forces',\n",
       "       'Priv-house-serv'], dtype=object)"
      ]
     },
     "execution_count": 22,
     "metadata": {},
     "output_type": "execute_result"
    }
   ],
   "source": [
    "df.occupation.unique()"
   ]
  },
  {
   "cell_type": "code",
   "execution_count": 23,
   "metadata": {},
   "outputs": [],
   "source": [
    "encoder_occupation = preprocessing.LabelEncoder()"
   ]
  },
  {
   "cell_type": "code",
   "execution_count": 24,
   "metadata": {},
   "outputs": [
    {
     "data": {
      "text/html": [
       "<style>#sk-container-id-2 {color: black;}#sk-container-id-2 pre{padding: 0;}#sk-container-id-2 div.sk-toggleable {background-color: white;}#sk-container-id-2 label.sk-toggleable__label {cursor: pointer;display: block;width: 100%;margin-bottom: 0;padding: 0.3em;box-sizing: border-box;text-align: center;}#sk-container-id-2 label.sk-toggleable__label-arrow:before {content: \"▸\";float: left;margin-right: 0.25em;color: #696969;}#sk-container-id-2 label.sk-toggleable__label-arrow:hover:before {color: black;}#sk-container-id-2 div.sk-estimator:hover label.sk-toggleable__label-arrow:before {color: black;}#sk-container-id-2 div.sk-toggleable__content {max-height: 0;max-width: 0;overflow: hidden;text-align: left;background-color: #f0f8ff;}#sk-container-id-2 div.sk-toggleable__content pre {margin: 0.2em;color: black;border-radius: 0.25em;background-color: #f0f8ff;}#sk-container-id-2 input.sk-toggleable__control:checked~div.sk-toggleable__content {max-height: 200px;max-width: 100%;overflow: auto;}#sk-container-id-2 input.sk-toggleable__control:checked~label.sk-toggleable__label-arrow:before {content: \"▾\";}#sk-container-id-2 div.sk-estimator input.sk-toggleable__control:checked~label.sk-toggleable__label {background-color: #d4ebff;}#sk-container-id-2 div.sk-label input.sk-toggleable__control:checked~label.sk-toggleable__label {background-color: #d4ebff;}#sk-container-id-2 input.sk-hidden--visually {border: 0;clip: rect(1px 1px 1px 1px);clip: rect(1px, 1px, 1px, 1px);height: 1px;margin: -1px;overflow: hidden;padding: 0;position: absolute;width: 1px;}#sk-container-id-2 div.sk-estimator {font-family: monospace;background-color: #f0f8ff;border: 1px dotted black;border-radius: 0.25em;box-sizing: border-box;margin-bottom: 0.5em;}#sk-container-id-2 div.sk-estimator:hover {background-color: #d4ebff;}#sk-container-id-2 div.sk-parallel-item::after {content: \"\";width: 100%;border-bottom: 1px solid gray;flex-grow: 1;}#sk-container-id-2 div.sk-label:hover label.sk-toggleable__label {background-color: #d4ebff;}#sk-container-id-2 div.sk-serial::before {content: \"\";position: absolute;border-left: 1px solid gray;box-sizing: border-box;top: 0;bottom: 0;left: 50%;z-index: 0;}#sk-container-id-2 div.sk-serial {display: flex;flex-direction: column;align-items: center;background-color: white;padding-right: 0.2em;padding-left: 0.2em;position: relative;}#sk-container-id-2 div.sk-item {position: relative;z-index: 1;}#sk-container-id-2 div.sk-parallel {display: flex;align-items: stretch;justify-content: center;background-color: white;position: relative;}#sk-container-id-2 div.sk-item::before, #sk-container-id-2 div.sk-parallel-item::before {content: \"\";position: absolute;border-left: 1px solid gray;box-sizing: border-box;top: 0;bottom: 0;left: 50%;z-index: -1;}#sk-container-id-2 div.sk-parallel-item {display: flex;flex-direction: column;z-index: 1;position: relative;background-color: white;}#sk-container-id-2 div.sk-parallel-item:first-child::after {align-self: flex-end;width: 50%;}#sk-container-id-2 div.sk-parallel-item:last-child::after {align-self: flex-start;width: 50%;}#sk-container-id-2 div.sk-parallel-item:only-child::after {width: 0;}#sk-container-id-2 div.sk-dashed-wrapped {border: 1px dashed gray;margin: 0 0.4em 0.5em 0.4em;box-sizing: border-box;padding-bottom: 0.4em;background-color: white;}#sk-container-id-2 div.sk-label label {font-family: monospace;font-weight: bold;display: inline-block;line-height: 1.2em;}#sk-container-id-2 div.sk-label-container {text-align: center;}#sk-container-id-2 div.sk-container {/* jupyter's `normalize.less` sets `[hidden] { display: none; }` but bootstrap.min.css set `[hidden] { display: none !important; }` so we also need the `!important` here to be able to override the default hidden behavior on the sphinx rendered scikit-learn.org. See: https://github.com/scikit-learn/scikit-learn/issues/21755 */display: inline-block !important;position: relative;}#sk-container-id-2 div.sk-text-repr-fallback {display: none;}</style><div id=\"sk-container-id-2\" class=\"sk-top-container\"><div class=\"sk-text-repr-fallback\"><pre>LabelEncoder()</pre><b>In a Jupyter environment, please rerun this cell to show the HTML representation or trust the notebook. <br />On GitHub, the HTML representation is unable to render, please try loading this page with nbviewer.org.</b></div><div class=\"sk-container\" hidden><div class=\"sk-item\"><div class=\"sk-estimator sk-toggleable\"><input class=\"sk-toggleable__control sk-hidden--visually\" id=\"sk-estimator-id-2\" type=\"checkbox\" checked><label for=\"sk-estimator-id-2\" class=\"sk-toggleable__label sk-toggleable__label-arrow\">LabelEncoder</label><div class=\"sk-toggleable__content\"><pre>LabelEncoder()</pre></div></div></div></div></div>"
      ],
      "text/plain": [
       "LabelEncoder()"
      ]
     },
     "execution_count": 24,
     "metadata": {},
     "output_type": "execute_result"
    }
   ],
   "source": [
    "encoder_occupation.fit(df.occupation)"
   ]
  },
  {
   "cell_type": "code",
   "execution_count": 25,
   "metadata": {},
   "outputs": [],
   "source": [
    "df.occupation = encoder_occupation.transform(df.occupation)"
   ]
  },
  {
   "cell_type": "code",
   "execution_count": 26,
   "metadata": {},
   "outputs": [
    {
     "data": {
      "text/html": [
       "<div>\n",
       "<style scoped>\n",
       "    .dataframe tbody tr th:only-of-type {\n",
       "        vertical-align: middle;\n",
       "    }\n",
       "\n",
       "    .dataframe tbody tr th {\n",
       "        vertical-align: top;\n",
       "    }\n",
       "\n",
       "    .dataframe thead th {\n",
       "        text-align: right;\n",
       "    }\n",
       "</style>\n",
       "<table border=\"1\" class=\"dataframe\">\n",
       "  <thead>\n",
       "    <tr style=\"text-align: right;\">\n",
       "      <th></th>\n",
       "      <th>age</th>\n",
       "      <th>workclass</th>\n",
       "      <th>fnlwgt</th>\n",
       "      <th>education</th>\n",
       "      <th>education-num</th>\n",
       "      <th>marital-status</th>\n",
       "      <th>occupation</th>\n",
       "      <th>relationship</th>\n",
       "      <th>race</th>\n",
       "      <th>sex</th>\n",
       "      <th>capital-gain</th>\n",
       "      <th>capital-loss</th>\n",
       "      <th>hours-per-week</th>\n",
       "      <th>native-country</th>\n",
       "      <th>salary</th>\n",
       "    </tr>\n",
       "  </thead>\n",
       "  <tbody>\n",
       "    <tr>\n",
       "      <th>32559</th>\n",
       "      <td>22</td>\n",
       "      <td>3</td>\n",
       "      <td>201490</td>\n",
       "      <td>11</td>\n",
       "      <td>9</td>\n",
       "      <td>1</td>\n",
       "      <td>1</td>\n",
       "      <td>Own-child</td>\n",
       "      <td>White</td>\n",
       "      <td>Male</td>\n",
       "      <td>0</td>\n",
       "      <td>0</td>\n",
       "      <td>20</td>\n",
       "      <td>United-States</td>\n",
       "      <td>&lt;=50K</td>\n",
       "    </tr>\n",
       "    <tr>\n",
       "      <th>32560</th>\n",
       "      <td>52</td>\n",
       "      <td>7</td>\n",
       "      <td>287927</td>\n",
       "      <td>11</td>\n",
       "      <td>9</td>\n",
       "      <td>2</td>\n",
       "      <td>4</td>\n",
       "      <td>Wife</td>\n",
       "      <td>White</td>\n",
       "      <td>Female</td>\n",
       "      <td>15024</td>\n",
       "      <td>0</td>\n",
       "      <td>40</td>\n",
       "      <td>United-States</td>\n",
       "      <td>&gt;50K</td>\n",
       "    </tr>\n",
       "  </tbody>\n",
       "</table>\n",
       "</div>"
      ],
      "text/plain": [
       "       age  workclass  fnlwgt  education  education-num  marital-status  \\\n",
       "32559   22          3  201490         11              9               1   \n",
       "32560   52          7  287927         11              9               2   \n",
       "\n",
       "       occupation relationship    race      sex  capital-gain  capital-loss  \\\n",
       "32559           1    Own-child   White     Male             0             0   \n",
       "32560           4         Wife   White   Female         15024             0   \n",
       "\n",
       "       hours-per-week  native-country  salary  \n",
       "32559              20   United-States   <=50K  \n",
       "32560              40   United-States    >50K  "
      ]
     },
     "execution_count": 26,
     "metadata": {},
     "output_type": "execute_result"
    }
   ],
   "source": [
    "df.tail(2)"
   ]
  },
  {
   "cell_type": "code",
   "execution_count": 27,
   "metadata": {},
   "outputs": [
    {
     "data": {
      "text/plain": [
       "array([' Not-in-family', ' Husband', ' Wife', ' Own-child', ' Unmarried',\n",
       "       ' Other-relative'], dtype=object)"
      ]
     },
     "execution_count": 27,
     "metadata": {},
     "output_type": "execute_result"
    }
   ],
   "source": [
    "df.relationship.unique()"
   ]
  },
  {
   "cell_type": "code",
   "execution_count": 28,
   "metadata": {},
   "outputs": [],
   "source": [
    "df.relationship = df.relationship.str.strip()"
   ]
  },
  {
   "cell_type": "code",
   "execution_count": 29,
   "metadata": {},
   "outputs": [
    {
     "data": {
      "text/plain": [
       "array(['Not-in-family', 'Husband', 'Wife', 'Own-child', 'Unmarried',\n",
       "       'Other-relative'], dtype=object)"
      ]
     },
     "execution_count": 29,
     "metadata": {},
     "output_type": "execute_result"
    }
   ],
   "source": [
    "df.relationship.unique()"
   ]
  },
  {
   "cell_type": "code",
   "execution_count": 30,
   "metadata": {},
   "outputs": [],
   "source": [
    "df.relationship = df.relationship.map({'Not-in-family': 1, 'Husband': 2, 'Wife': 3, 'Own-child': 4, 'Unmarried': 5, 'Other-relative': 6})"
   ]
  },
  {
   "cell_type": "code",
   "execution_count": 31,
   "metadata": {},
   "outputs": [
    {
     "data": {
      "text/plain": [
       "array([' White', ' Black', ' Asian-Pac-Islander', ' Amer-Indian-Eskimo',\n",
       "       ' Other'], dtype=object)"
      ]
     },
     "execution_count": 31,
     "metadata": {},
     "output_type": "execute_result"
    }
   ],
   "source": [
    "df.race.unique()"
   ]
  },
  {
   "cell_type": "code",
   "execution_count": 32,
   "metadata": {},
   "outputs": [],
   "source": [
    "df.race = df.race.str.strip()"
   ]
  },
  {
   "cell_type": "code",
   "execution_count": 33,
   "metadata": {},
   "outputs": [
    {
     "data": {
      "text/plain": [
       "array(['White', 'Black', 'Asian-Pac-Islander', 'Amer-Indian-Eskimo',\n",
       "       'Other'], dtype=object)"
      ]
     },
     "execution_count": 33,
     "metadata": {},
     "output_type": "execute_result"
    }
   ],
   "source": [
    "df.race.unique()"
   ]
  },
  {
   "cell_type": "code",
   "execution_count": 34,
   "metadata": {},
   "outputs": [],
   "source": [
    "df.race = df.race.map({'White': 1, 'Black': 2, 'Asian-Pac-Islander': 3, 'Amer-Indian-Eskimo': 4, 'Other': 5})"
   ]
  },
  {
   "cell_type": "code",
   "execution_count": 35,
   "metadata": {},
   "outputs": [
    {
     "data": {
      "text/plain": [
       "array([' Male', ' Female'], dtype=object)"
      ]
     },
     "execution_count": 35,
     "metadata": {},
     "output_type": "execute_result"
    }
   ],
   "source": [
    "df.sex.unique()"
   ]
  },
  {
   "cell_type": "code",
   "execution_count": 36,
   "metadata": {},
   "outputs": [],
   "source": [
    "df.sex = df.sex.str.strip()"
   ]
  },
  {
   "cell_type": "code",
   "execution_count": 37,
   "metadata": {},
   "outputs": [
    {
     "data": {
      "text/plain": [
       "array(['Male', 'Female'], dtype=object)"
      ]
     },
     "execution_count": 37,
     "metadata": {},
     "output_type": "execute_result"
    }
   ],
   "source": [
    "df.sex.unique()"
   ]
  },
  {
   "cell_type": "code",
   "execution_count": 38,
   "metadata": {},
   "outputs": [],
   "source": [
    "df.sex = df.sex.map({'Male': 1, 'Female': 2})"
   ]
  },
  {
   "cell_type": "code",
   "execution_count": 39,
   "metadata": {},
   "outputs": [
    {
     "data": {
      "text/plain": [
       "array([' United-States', ' Cuba', ' Jamaica', ' India', ' ?', ' Mexico',\n",
       "       ' South', ' Puerto-Rico', ' Honduras', ' England', ' Canada',\n",
       "       ' Germany', ' Iran', ' Philippines', ' Italy', ' Poland',\n",
       "       ' Columbia', ' Cambodia', ' Thailand', ' Ecuador', ' Laos',\n",
       "       ' Taiwan', ' Haiti', ' Portugal', ' Dominican-Republic',\n",
       "       ' El-Salvador', ' France', ' Guatemala', ' China', ' Japan',\n",
       "       ' Yugoslavia', ' Peru', ' Outlying-US(Guam-USVI-etc)', ' Scotland',\n",
       "       ' Trinadad&Tobago', ' Greece', ' Nicaragua', ' Vietnam', ' Hong',\n",
       "       ' Ireland', ' Hungary', ' Holand-Netherlands'], dtype=object)"
      ]
     },
     "execution_count": 39,
     "metadata": {},
     "output_type": "execute_result"
    }
   ],
   "source": [
    "df['native-country'].unique()"
   ]
  },
  {
   "cell_type": "code",
   "execution_count": 40,
   "metadata": {},
   "outputs": [],
   "source": [
    "df['native-country'] = df['native-country'].str.strip()"
   ]
  },
  {
   "cell_type": "code",
   "execution_count": 41,
   "metadata": {},
   "outputs": [
    {
     "data": {
      "text/plain": [
       "array(['United-States', 'Cuba', 'Jamaica', 'India', '?', 'Mexico',\n",
       "       'South', 'Puerto-Rico', 'Honduras', 'England', 'Canada', 'Germany',\n",
       "       'Iran', 'Philippines', 'Italy', 'Poland', 'Columbia', 'Cambodia',\n",
       "       'Thailand', 'Ecuador', 'Laos', 'Taiwan', 'Haiti', 'Portugal',\n",
       "       'Dominican-Republic', 'El-Salvador', 'France', 'Guatemala',\n",
       "       'China', 'Japan', 'Yugoslavia', 'Peru',\n",
       "       'Outlying-US(Guam-USVI-etc)', 'Scotland', 'Trinadad&Tobago',\n",
       "       'Greece', 'Nicaragua', 'Vietnam', 'Hong', 'Ireland', 'Hungary',\n",
       "       'Holand-Netherlands'], dtype=object)"
      ]
     },
     "execution_count": 41,
     "metadata": {},
     "output_type": "execute_result"
    }
   ],
   "source": [
    "df['native-country'].unique()"
   ]
  },
  {
   "cell_type": "code",
   "execution_count": 42,
   "metadata": {},
   "outputs": [],
   "source": [
    "encoder_native_country = preprocessing.LabelEncoder()"
   ]
  },
  {
   "cell_type": "code",
   "execution_count": 43,
   "metadata": {},
   "outputs": [
    {
     "data": {
      "text/html": [
       "<style>#sk-container-id-3 {color: black;}#sk-container-id-3 pre{padding: 0;}#sk-container-id-3 div.sk-toggleable {background-color: white;}#sk-container-id-3 label.sk-toggleable__label {cursor: pointer;display: block;width: 100%;margin-bottom: 0;padding: 0.3em;box-sizing: border-box;text-align: center;}#sk-container-id-3 label.sk-toggleable__label-arrow:before {content: \"▸\";float: left;margin-right: 0.25em;color: #696969;}#sk-container-id-3 label.sk-toggleable__label-arrow:hover:before {color: black;}#sk-container-id-3 div.sk-estimator:hover label.sk-toggleable__label-arrow:before {color: black;}#sk-container-id-3 div.sk-toggleable__content {max-height: 0;max-width: 0;overflow: hidden;text-align: left;background-color: #f0f8ff;}#sk-container-id-3 div.sk-toggleable__content pre {margin: 0.2em;color: black;border-radius: 0.25em;background-color: #f0f8ff;}#sk-container-id-3 input.sk-toggleable__control:checked~div.sk-toggleable__content {max-height: 200px;max-width: 100%;overflow: auto;}#sk-container-id-3 input.sk-toggleable__control:checked~label.sk-toggleable__label-arrow:before {content: \"▾\";}#sk-container-id-3 div.sk-estimator input.sk-toggleable__control:checked~label.sk-toggleable__label {background-color: #d4ebff;}#sk-container-id-3 div.sk-label input.sk-toggleable__control:checked~label.sk-toggleable__label {background-color: #d4ebff;}#sk-container-id-3 input.sk-hidden--visually {border: 0;clip: rect(1px 1px 1px 1px);clip: rect(1px, 1px, 1px, 1px);height: 1px;margin: -1px;overflow: hidden;padding: 0;position: absolute;width: 1px;}#sk-container-id-3 div.sk-estimator {font-family: monospace;background-color: #f0f8ff;border: 1px dotted black;border-radius: 0.25em;box-sizing: border-box;margin-bottom: 0.5em;}#sk-container-id-3 div.sk-estimator:hover {background-color: #d4ebff;}#sk-container-id-3 div.sk-parallel-item::after {content: \"\";width: 100%;border-bottom: 1px solid gray;flex-grow: 1;}#sk-container-id-3 div.sk-label:hover label.sk-toggleable__label {background-color: #d4ebff;}#sk-container-id-3 div.sk-serial::before {content: \"\";position: absolute;border-left: 1px solid gray;box-sizing: border-box;top: 0;bottom: 0;left: 50%;z-index: 0;}#sk-container-id-3 div.sk-serial {display: flex;flex-direction: column;align-items: center;background-color: white;padding-right: 0.2em;padding-left: 0.2em;position: relative;}#sk-container-id-3 div.sk-item {position: relative;z-index: 1;}#sk-container-id-3 div.sk-parallel {display: flex;align-items: stretch;justify-content: center;background-color: white;position: relative;}#sk-container-id-3 div.sk-item::before, #sk-container-id-3 div.sk-parallel-item::before {content: \"\";position: absolute;border-left: 1px solid gray;box-sizing: border-box;top: 0;bottom: 0;left: 50%;z-index: -1;}#sk-container-id-3 div.sk-parallel-item {display: flex;flex-direction: column;z-index: 1;position: relative;background-color: white;}#sk-container-id-3 div.sk-parallel-item:first-child::after {align-self: flex-end;width: 50%;}#sk-container-id-3 div.sk-parallel-item:last-child::after {align-self: flex-start;width: 50%;}#sk-container-id-3 div.sk-parallel-item:only-child::after {width: 0;}#sk-container-id-3 div.sk-dashed-wrapped {border: 1px dashed gray;margin: 0 0.4em 0.5em 0.4em;box-sizing: border-box;padding-bottom: 0.4em;background-color: white;}#sk-container-id-3 div.sk-label label {font-family: monospace;font-weight: bold;display: inline-block;line-height: 1.2em;}#sk-container-id-3 div.sk-label-container {text-align: center;}#sk-container-id-3 div.sk-container {/* jupyter's `normalize.less` sets `[hidden] { display: none; }` but bootstrap.min.css set `[hidden] { display: none !important; }` so we also need the `!important` here to be able to override the default hidden behavior on the sphinx rendered scikit-learn.org. See: https://github.com/scikit-learn/scikit-learn/issues/21755 */display: inline-block !important;position: relative;}#sk-container-id-3 div.sk-text-repr-fallback {display: none;}</style><div id=\"sk-container-id-3\" class=\"sk-top-container\"><div class=\"sk-text-repr-fallback\"><pre>LabelEncoder()</pre><b>In a Jupyter environment, please rerun this cell to show the HTML representation or trust the notebook. <br />On GitHub, the HTML representation is unable to render, please try loading this page with nbviewer.org.</b></div><div class=\"sk-container\" hidden><div class=\"sk-item\"><div class=\"sk-estimator sk-toggleable\"><input class=\"sk-toggleable__control sk-hidden--visually\" id=\"sk-estimator-id-3\" type=\"checkbox\" checked><label for=\"sk-estimator-id-3\" class=\"sk-toggleable__label sk-toggleable__label-arrow\">LabelEncoder</label><div class=\"sk-toggleable__content\"><pre>LabelEncoder()</pre></div></div></div></div></div>"
      ],
      "text/plain": [
       "LabelEncoder()"
      ]
     },
     "execution_count": 43,
     "metadata": {},
     "output_type": "execute_result"
    }
   ],
   "source": [
    "encoder_native_country.fit(df['native-country'])"
   ]
  },
  {
   "cell_type": "code",
   "execution_count": 44,
   "metadata": {},
   "outputs": [],
   "source": [
    "df['native-country'] = encoder_native_country.transform(df['native-country'])"
   ]
  },
  {
   "cell_type": "code",
   "execution_count": 45,
   "metadata": {},
   "outputs": [
    {
     "data": {
      "text/html": [
       "<div>\n",
       "<style scoped>\n",
       "    .dataframe tbody tr th:only-of-type {\n",
       "        vertical-align: middle;\n",
       "    }\n",
       "\n",
       "    .dataframe tbody tr th {\n",
       "        vertical-align: top;\n",
       "    }\n",
       "\n",
       "    .dataframe thead th {\n",
       "        text-align: right;\n",
       "    }\n",
       "</style>\n",
       "<table border=\"1\" class=\"dataframe\">\n",
       "  <thead>\n",
       "    <tr style=\"text-align: right;\">\n",
       "      <th></th>\n",
       "      <th>age</th>\n",
       "      <th>workclass</th>\n",
       "      <th>fnlwgt</th>\n",
       "      <th>education</th>\n",
       "      <th>education-num</th>\n",
       "      <th>marital-status</th>\n",
       "      <th>occupation</th>\n",
       "      <th>relationship</th>\n",
       "      <th>race</th>\n",
       "      <th>sex</th>\n",
       "      <th>capital-gain</th>\n",
       "      <th>capital-loss</th>\n",
       "      <th>hours-per-week</th>\n",
       "      <th>native-country</th>\n",
       "      <th>salary</th>\n",
       "    </tr>\n",
       "  </thead>\n",
       "  <tbody>\n",
       "    <tr>\n",
       "      <th>32559</th>\n",
       "      <td>22</td>\n",
       "      <td>3</td>\n",
       "      <td>201490</td>\n",
       "      <td>11</td>\n",
       "      <td>9</td>\n",
       "      <td>1</td>\n",
       "      <td>1</td>\n",
       "      <td>4</td>\n",
       "      <td>1</td>\n",
       "      <td>1</td>\n",
       "      <td>0</td>\n",
       "      <td>0</td>\n",
       "      <td>20</td>\n",
       "      <td>39</td>\n",
       "      <td>&lt;=50K</td>\n",
       "    </tr>\n",
       "    <tr>\n",
       "      <th>32560</th>\n",
       "      <td>52</td>\n",
       "      <td>7</td>\n",
       "      <td>287927</td>\n",
       "      <td>11</td>\n",
       "      <td>9</td>\n",
       "      <td>2</td>\n",
       "      <td>4</td>\n",
       "      <td>3</td>\n",
       "      <td>1</td>\n",
       "      <td>2</td>\n",
       "      <td>15024</td>\n",
       "      <td>0</td>\n",
       "      <td>40</td>\n",
       "      <td>39</td>\n",
       "      <td>&gt;50K</td>\n",
       "    </tr>\n",
       "  </tbody>\n",
       "</table>\n",
       "</div>"
      ],
      "text/plain": [
       "       age  workclass  fnlwgt  education  education-num  marital-status  \\\n",
       "32559   22          3  201490         11              9               1   \n",
       "32560   52          7  287927         11              9               2   \n",
       "\n",
       "       occupation  relationship  race  sex  capital-gain  capital-loss  \\\n",
       "32559           1             4     1    1             0             0   \n",
       "32560           4             3     1    2         15024             0   \n",
       "\n",
       "       hours-per-week  native-country  salary  \n",
       "32559              20              39   <=50K  \n",
       "32560              40              39    >50K  "
      ]
     },
     "execution_count": 45,
     "metadata": {},
     "output_type": "execute_result"
    }
   ],
   "source": [
    "df.tail(2)"
   ]
  },
  {
   "cell_type": "code",
   "execution_count": 46,
   "metadata": {},
   "outputs": [
    {
     "data": {
      "text/plain": [
       "array([' <=50K', ' >50K'], dtype=object)"
      ]
     },
     "execution_count": 46,
     "metadata": {},
     "output_type": "execute_result"
    }
   ],
   "source": [
    "df.salary.unique()"
   ]
  },
  {
   "cell_type": "code",
   "execution_count": 47,
   "metadata": {},
   "outputs": [],
   "source": [
    "df.salary = df.salary.str.strip()"
   ]
  },
  {
   "cell_type": "code",
   "execution_count": 48,
   "metadata": {},
   "outputs": [
    {
     "data": {
      "text/plain": [
       "array(['<=50K', '>50K'], dtype=object)"
      ]
     },
     "execution_count": 48,
     "metadata": {},
     "output_type": "execute_result"
    }
   ],
   "source": [
    "df.salary.unique()"
   ]
  },
  {
   "cell_type": "code",
   "execution_count": 49,
   "metadata": {},
   "outputs": [],
   "source": [
    "df.salary = df.salary.map({'<=50K': 1, '>50K': 2})"
   ]
  },
  {
   "cell_type": "code",
   "execution_count": 50,
   "metadata": {},
   "outputs": [
    {
     "data": {
      "text/html": [
       "<div>\n",
       "<style scoped>\n",
       "    .dataframe tbody tr th:only-of-type {\n",
       "        vertical-align: middle;\n",
       "    }\n",
       "\n",
       "    .dataframe tbody tr th {\n",
       "        vertical-align: top;\n",
       "    }\n",
       "\n",
       "    .dataframe thead th {\n",
       "        text-align: right;\n",
       "    }\n",
       "</style>\n",
       "<table border=\"1\" class=\"dataframe\">\n",
       "  <thead>\n",
       "    <tr style=\"text-align: right;\">\n",
       "      <th></th>\n",
       "      <th>age</th>\n",
       "      <th>workclass</th>\n",
       "      <th>fnlwgt</th>\n",
       "      <th>education</th>\n",
       "      <th>education-num</th>\n",
       "      <th>marital-status</th>\n",
       "      <th>occupation</th>\n",
       "      <th>relationship</th>\n",
       "      <th>race</th>\n",
       "      <th>sex</th>\n",
       "      <th>capital-gain</th>\n",
       "      <th>capital-loss</th>\n",
       "      <th>hours-per-week</th>\n",
       "      <th>native-country</th>\n",
       "      <th>salary</th>\n",
       "    </tr>\n",
       "  </thead>\n",
       "  <tbody>\n",
       "    <tr>\n",
       "      <th>count</th>\n",
       "      <td>32561.000000</td>\n",
       "      <td>32561.000000</td>\n",
       "      <td>3.256100e+04</td>\n",
       "      <td>32561.000000</td>\n",
       "      <td>32561.000000</td>\n",
       "      <td>32561.000000</td>\n",
       "      <td>32561.000000</td>\n",
       "      <td>32561.000000</td>\n",
       "      <td>32561.000000</td>\n",
       "      <td>32561.000000</td>\n",
       "      <td>32561.000000</td>\n",
       "      <td>32561.000000</td>\n",
       "      <td>32561.000000</td>\n",
       "      <td>32561.000000</td>\n",
       "      <td>32561.000000</td>\n",
       "    </tr>\n",
       "    <tr>\n",
       "      <th>mean</th>\n",
       "      <td>38.581647</td>\n",
       "      <td>3.309972</td>\n",
       "      <td>1.897784e+05</td>\n",
       "      <td>10.298210</td>\n",
       "      <td>10.080679</td>\n",
       "      <td>2.083781</td>\n",
       "      <td>6.572740</td>\n",
       "      <td>2.542397</td>\n",
       "      <td>1.221707</td>\n",
       "      <td>1.330795</td>\n",
       "      <td>1077.648844</td>\n",
       "      <td>87.303830</td>\n",
       "      <td>40.437456</td>\n",
       "      <td>36.718866</td>\n",
       "      <td>1.240810</td>\n",
       "    </tr>\n",
       "    <tr>\n",
       "      <th>std</th>\n",
       "      <td>13.640433</td>\n",
       "      <td>1.225728</td>\n",
       "      <td>1.055500e+05</td>\n",
       "      <td>3.870264</td>\n",
       "      <td>2.572720</td>\n",
       "      <td>1.251381</td>\n",
       "      <td>4.228857</td>\n",
       "      <td>1.437431</td>\n",
       "      <td>0.627348</td>\n",
       "      <td>0.470506</td>\n",
       "      <td>7385.292085</td>\n",
       "      <td>402.960219</td>\n",
       "      <td>12.347429</td>\n",
       "      <td>7.823782</td>\n",
       "      <td>0.427581</td>\n",
       "    </tr>\n",
       "    <tr>\n",
       "      <th>min</th>\n",
       "      <td>17.000000</td>\n",
       "      <td>1.000000</td>\n",
       "      <td>1.228500e+04</td>\n",
       "      <td>0.000000</td>\n",
       "      <td>1.000000</td>\n",
       "      <td>1.000000</td>\n",
       "      <td>0.000000</td>\n",
       "      <td>1.000000</td>\n",
       "      <td>1.000000</td>\n",
       "      <td>1.000000</td>\n",
       "      <td>0.000000</td>\n",
       "      <td>0.000000</td>\n",
       "      <td>1.000000</td>\n",
       "      <td>0.000000</td>\n",
       "      <td>1.000000</td>\n",
       "    </tr>\n",
       "    <tr>\n",
       "      <th>25%</th>\n",
       "      <td>28.000000</td>\n",
       "      <td>3.000000</td>\n",
       "      <td>1.178270e+05</td>\n",
       "      <td>9.000000</td>\n",
       "      <td>9.000000</td>\n",
       "      <td>1.000000</td>\n",
       "      <td>3.000000</td>\n",
       "      <td>1.000000</td>\n",
       "      <td>1.000000</td>\n",
       "      <td>1.000000</td>\n",
       "      <td>0.000000</td>\n",
       "      <td>0.000000</td>\n",
       "      <td>40.000000</td>\n",
       "      <td>39.000000</td>\n",
       "      <td>1.000000</td>\n",
       "    </tr>\n",
       "    <tr>\n",
       "      <th>50%</th>\n",
       "      <td>37.000000</td>\n",
       "      <td>3.000000</td>\n",
       "      <td>1.783560e+05</td>\n",
       "      <td>11.000000</td>\n",
       "      <td>10.000000</td>\n",
       "      <td>2.000000</td>\n",
       "      <td>7.000000</td>\n",
       "      <td>2.000000</td>\n",
       "      <td>1.000000</td>\n",
       "      <td>1.000000</td>\n",
       "      <td>0.000000</td>\n",
       "      <td>0.000000</td>\n",
       "      <td>40.000000</td>\n",
       "      <td>39.000000</td>\n",
       "      <td>1.000000</td>\n",
       "    </tr>\n",
       "    <tr>\n",
       "      <th>75%</th>\n",
       "      <td>48.000000</td>\n",
       "      <td>3.000000</td>\n",
       "      <td>2.370510e+05</td>\n",
       "      <td>12.000000</td>\n",
       "      <td>12.000000</td>\n",
       "      <td>2.000000</td>\n",
       "      <td>10.000000</td>\n",
       "      <td>4.000000</td>\n",
       "      <td>1.000000</td>\n",
       "      <td>2.000000</td>\n",
       "      <td>0.000000</td>\n",
       "      <td>0.000000</td>\n",
       "      <td>45.000000</td>\n",
       "      <td>39.000000</td>\n",
       "      <td>1.000000</td>\n",
       "    </tr>\n",
       "    <tr>\n",
       "      <th>max</th>\n",
       "      <td>90.000000</td>\n",
       "      <td>9.000000</td>\n",
       "      <td>1.484705e+06</td>\n",
       "      <td>15.000000</td>\n",
       "      <td>16.000000</td>\n",
       "      <td>7.000000</td>\n",
       "      <td>14.000000</td>\n",
       "      <td>6.000000</td>\n",
       "      <td>5.000000</td>\n",
       "      <td>2.000000</td>\n",
       "      <td>99999.000000</td>\n",
       "      <td>4356.000000</td>\n",
       "      <td>99.000000</td>\n",
       "      <td>41.000000</td>\n",
       "      <td>2.000000</td>\n",
       "    </tr>\n",
       "  </tbody>\n",
       "</table>\n",
       "</div>"
      ],
      "text/plain": [
       "                age     workclass        fnlwgt     education  education-num  \\\n",
       "count  32561.000000  32561.000000  3.256100e+04  32561.000000   32561.000000   \n",
       "mean      38.581647      3.309972  1.897784e+05     10.298210      10.080679   \n",
       "std       13.640433      1.225728  1.055500e+05      3.870264       2.572720   \n",
       "min       17.000000      1.000000  1.228500e+04      0.000000       1.000000   \n",
       "25%       28.000000      3.000000  1.178270e+05      9.000000       9.000000   \n",
       "50%       37.000000      3.000000  1.783560e+05     11.000000      10.000000   \n",
       "75%       48.000000      3.000000  2.370510e+05     12.000000      12.000000   \n",
       "max       90.000000      9.000000  1.484705e+06     15.000000      16.000000   \n",
       "\n",
       "       marital-status    occupation  relationship          race           sex  \\\n",
       "count    32561.000000  32561.000000  32561.000000  32561.000000  32561.000000   \n",
       "mean         2.083781      6.572740      2.542397      1.221707      1.330795   \n",
       "std          1.251381      4.228857      1.437431      0.627348      0.470506   \n",
       "min          1.000000      0.000000      1.000000      1.000000      1.000000   \n",
       "25%          1.000000      3.000000      1.000000      1.000000      1.000000   \n",
       "50%          2.000000      7.000000      2.000000      1.000000      1.000000   \n",
       "75%          2.000000     10.000000      4.000000      1.000000      2.000000   \n",
       "max          7.000000     14.000000      6.000000      5.000000      2.000000   \n",
       "\n",
       "       capital-gain  capital-loss  hours-per-week  native-country  \\\n",
       "count  32561.000000  32561.000000    32561.000000    32561.000000   \n",
       "mean    1077.648844     87.303830       40.437456       36.718866   \n",
       "std     7385.292085    402.960219       12.347429        7.823782   \n",
       "min        0.000000      0.000000        1.000000        0.000000   \n",
       "25%        0.000000      0.000000       40.000000       39.000000   \n",
       "50%        0.000000      0.000000       40.000000       39.000000   \n",
       "75%        0.000000      0.000000       45.000000       39.000000   \n",
       "max    99999.000000   4356.000000       99.000000       41.000000   \n",
       "\n",
       "             salary  \n",
       "count  32561.000000  \n",
       "mean       1.240810  \n",
       "std        0.427581  \n",
       "min        1.000000  \n",
       "25%        1.000000  \n",
       "50%        1.000000  \n",
       "75%        1.000000  \n",
       "max        2.000000  "
      ]
     },
     "execution_count": 50,
     "metadata": {},
     "output_type": "execute_result"
    }
   ],
   "source": [
    "df.describe()"
   ]
  },
  {
   "cell_type": "code",
   "execution_count": 51,
   "metadata": {},
   "outputs": [
    {
     "data": {
      "text/html": [
       "<style type=\"text/css\">\n",
       "#T_e8596_row0_col0, #T_e8596_row1_col1, #T_e8596_row2_col2, #T_e8596_row3_col3, #T_e8596_row4_col4, #T_e8596_row5_col5, #T_e8596_row6_col6, #T_e8596_row7_col7, #T_e8596_row8_col8, #T_e8596_row9_col9, #T_e8596_row10_col10, #T_e8596_row11_col11, #T_e8596_row12_col12, #T_e8596_row13_col13, #T_e8596_row14_col14 {\n",
       "  background-color: #023858;\n",
       "  color: #f1f1f1;\n",
       "}\n",
       "#T_e8596_row0_col1, #T_e8596_row12_col6 {\n",
       "  background-color: #d5d5e8;\n",
       "  color: #000000;\n",
       "}\n",
       "#T_e8596_row0_col2, #T_e8596_row0_col7, #T_e8596_row1_col6, #T_e8596_row2_col3, #T_e8596_row4_col5, #T_e8596_row6_col1, #T_e8596_row7_col0, #T_e8596_row7_col3, #T_e8596_row7_col4, #T_e8596_row7_col11, #T_e8596_row8_col13, #T_e8596_row9_col10, #T_e8596_row9_col12, #T_e8596_row9_col14, #T_e8596_row12_col9, #T_e8596_row13_col8 {\n",
       "  background-color: #fff7fb;\n",
       "  color: #000000;\n",
       "}\n",
       "#T_e8596_row0_col3, #T_e8596_row10_col11, #T_e8596_row11_col10 {\n",
       "  background-color: #fdf5fa;\n",
       "  color: #000000;\n",
       "}\n",
       "#T_e8596_row0_col4, #T_e8596_row2_col1, #T_e8596_row3_col1, #T_e8596_row3_col7, #T_e8596_row9_col13 {\n",
       "  background-color: #e6e2ef;\n",
       "  color: #000000;\n",
       "}\n",
       "#T_e8596_row0_col5 {\n",
       "  background-color: #84b0d3;\n",
       "  color: #f1f1f1;\n",
       "}\n",
       "#T_e8596_row0_col6, #T_e8596_row3_col6, #T_e8596_row10_col7, #T_e8596_row10_col8 {\n",
       "  background-color: #e8e4f0;\n",
       "  color: #000000;\n",
       "}\n",
       "#T_e8596_row0_col8, #T_e8596_row0_col9, #T_e8596_row2_col0, #T_e8596_row4_col8, #T_e8596_row7_col6 {\n",
       "  background-color: #eee8f3;\n",
       "  color: #000000;\n",
       "}\n",
       "#T_e8596_row0_col10, #T_e8596_row12_col8, #T_e8596_row12_col10 {\n",
       "  background-color: #ede8f3;\n",
       "  color: #000000;\n",
       "}\n",
       "#T_e8596_row0_col11, #T_e8596_row2_col13, #T_e8596_row12_col11, #T_e8596_row14_col3 {\n",
       "  background-color: #f0eaf4;\n",
       "  color: #000000;\n",
       "}\n",
       "#T_e8596_row0_col12, #T_e8596_row3_col14, #T_e8596_row10_col0 {\n",
       "  background-color: #d2d2e7;\n",
       "  color: #000000;\n",
       "}\n",
       "#T_e8596_row0_col13, #T_e8596_row1_col13, #T_e8596_row2_col8, #T_e8596_row6_col8, #T_e8596_row8_col0, #T_e8596_row10_col9, #T_e8596_row10_col13, #T_e8596_row11_col9, #T_e8596_row11_col13, #T_e8596_row12_col13, #T_e8596_row13_col6 {\n",
       "  background-color: #e7e3f0;\n",
       "  color: #000000;\n",
       "}\n",
       "#T_e8596_row0_col14, #T_e8596_row14_col0 {\n",
       "  background-color: #a8bedc;\n",
       "  color: #000000;\n",
       "}\n",
       "#T_e8596_row1_col0 {\n",
       "  background-color: #d1d2e6;\n",
       "  color: #000000;\n",
       "}\n",
       "#T_e8596_row1_col2, #T_e8596_row3_col11, #T_e8596_row4_col7, #T_e8596_row5_col4, #T_e8596_row6_col11, #T_e8596_row10_col5, #T_e8596_row14_col5 {\n",
       "  background-color: #f5eff6;\n",
       "  color: #000000;\n",
       "}\n",
       "#T_e8596_row1_col3, #T_e8596_row13_col2 {\n",
       "  background-color: #fcf4fa;\n",
       "  color: #000000;\n",
       "}\n",
       "#T_e8596_row1_col4, #T_e8596_row6_col7, #T_e8596_row11_col8, #T_e8596_row12_col1 {\n",
       "  background-color: #eae6f1;\n",
       "  color: #000000;\n",
       "}\n",
       "#T_e8596_row1_col5 {\n",
       "  background-color: #f1ebf4;\n",
       "  color: #000000;\n",
       "}\n",
       "#T_e8596_row1_col7, #T_e8596_row2_col7, #T_e8596_row4_col13, #T_e8596_row10_col1, #T_e8596_row11_col4, #T_e8596_row13_col9 {\n",
       "  background-color: #dddbec;\n",
       "  color: #000000;\n",
       "}\n",
       "#T_e8596_row1_col8, #T_e8596_row5_col8, #T_e8596_row8_col6, #T_e8596_row8_col12, #T_e8596_row13_col1, #T_e8596_row13_col7 {\n",
       "  background-color: #e5e1ef;\n",
       "  color: #000000;\n",
       "}\n",
       "#T_e8596_row1_col9, #T_e8596_row3_col13, #T_e8596_row5_col7 {\n",
       "  background-color: #dbdaeb;\n",
       "  color: #000000;\n",
       "}\n",
       "#T_e8596_row1_col10, #T_e8596_row2_col4, #T_e8596_row7_col2, #T_e8596_row7_col5, #T_e8596_row8_col4 {\n",
       "  background-color: #f2ecf5;\n",
       "  color: #000000;\n",
       "}\n",
       "#T_e8596_row1_col11, #T_e8596_row11_col2, #T_e8596_row12_col5, #T_e8596_row14_col2 {\n",
       "  background-color: #f6eff7;\n",
       "  color: #000000;\n",
       "}\n",
       "#T_e8596_row1_col12, #T_e8596_row2_col6, #T_e8596_row4_col10, #T_e8596_row6_col0, #T_e8596_row14_col13 {\n",
       "  background-color: #e4e1ef;\n",
       "  color: #000000;\n",
       "}\n",
       "#T_e8596_row1_col14 {\n",
       "  background-color: #d8d7e9;\n",
       "  color: #000000;\n",
       "}\n",
       "#T_e8596_row2_col5, #T_e8596_row3_col5 {\n",
       "  background-color: #f9f2f8;\n",
       "  color: #000000;\n",
       "}\n",
       "#T_e8596_row2_col9, #T_e8596_row8_col1 {\n",
       "  background-color: #e3e0ee;\n",
       "  color: #000000;\n",
       "}\n",
       "#T_e8596_row2_col10, #T_e8596_row3_col2, #T_e8596_row5_col2, #T_e8596_row5_col10, #T_e8596_row9_col2, #T_e8596_row11_col3, #T_e8596_row13_col10, #T_e8596_row13_col11 {\n",
       "  background-color: #f8f1f8;\n",
       "  color: #000000;\n",
       "}\n",
       "#T_e8596_row2_col11, #T_e8596_row7_col12, #T_e8596_row7_col14, #T_e8596_row8_col10, #T_e8596_row14_col7 {\n",
       "  background-color: #faf2f8;\n",
       "  color: #000000;\n",
       "}\n",
       "#T_e8596_row2_col12, #T_e8596_row2_col14, #T_e8596_row3_col0, #T_e8596_row4_col1, #T_e8596_row11_col1, #T_e8596_row13_col4 {\n",
       "  background-color: #e2dfee;\n",
       "  color: #000000;\n",
       "}\n",
       "#T_e8596_row3_col4 {\n",
       "  background-color: #8cb3d5;\n",
       "  color: #000000;\n",
       "}\n",
       "#T_e8596_row3_col8, #T_e8596_row7_col13 {\n",
       "  background-color: #ece7f2;\n",
       "  color: #000000;\n",
       "}\n",
       "#T_e8596_row3_col9, #T_e8596_row4_col0 {\n",
       "  background-color: #d9d8ea;\n",
       "  color: #000000;\n",
       "}\n",
       "#T_e8596_row3_col10 {\n",
       "  background-color: #f4edf6;\n",
       "  color: #000000;\n",
       "}\n",
       "#T_e8596_row3_col12, #T_e8596_row7_col8, #T_e8596_row9_col5, #T_e8596_row10_col4, #T_e8596_row11_col12 {\n",
       "  background-color: #d4d4e8;\n",
       "  color: #000000;\n",
       "}\n",
       "#T_e8596_row4_col2, #T_e8596_row6_col5 {\n",
       "  background-color: #fbf3f9;\n",
       "  color: #000000;\n",
       "}\n",
       "#T_e8596_row4_col3 {\n",
       "  background-color: #a5bddb;\n",
       "  color: #000000;\n",
       "}\n",
       "#T_e8596_row4_col6, #T_e8596_row6_col12, #T_e8596_row10_col12, #T_e8596_row12_col4 {\n",
       "  background-color: #d0d1e6;\n",
       "  color: #000000;\n",
       "}\n",
       "#T_e8596_row4_col9, #T_e8596_row13_col0 {\n",
       "  background-color: #e0deed;\n",
       "  color: #000000;\n",
       "}\n",
       "#T_e8596_row4_col11, #T_e8596_row6_col9, #T_e8596_row8_col14 {\n",
       "  background-color: #ede7f2;\n",
       "  color: #000000;\n",
       "}\n",
       "#T_e8596_row4_col12 {\n",
       "  background-color: #bdc8e1;\n",
       "  color: #000000;\n",
       "}\n",
       "#T_e8596_row4_col14 {\n",
       "  background-color: #86b0d3;\n",
       "  color: #000000;\n",
       "}\n",
       "#T_e8596_row5_col0 {\n",
       "  background-color: #65a3cb;\n",
       "  color: #f1f1f1;\n",
       "}\n",
       "#T_e8596_row5_col1, #T_e8596_row13_col14, #T_e8596_row14_col11 {\n",
       "  background-color: #dedcec;\n",
       "  color: #000000;\n",
       "}\n",
       "#T_e8596_row5_col3, #T_e8596_row14_col9 {\n",
       "  background-color: #fef6fa;\n",
       "  color: #000000;\n",
       "}\n",
       "#T_e8596_row5_col6 {\n",
       "  background-color: #ebe6f2;\n",
       "  color: #000000;\n",
       "}\n",
       "#T_e8596_row5_col9 {\n",
       "  background-color: #b4c4df;\n",
       "  color: #000000;\n",
       "}\n",
       "#T_e8596_row5_col11, #T_e8596_row9_col3, #T_e8596_row10_col3, #T_e8596_row12_col2, #T_e8596_row13_col5 {\n",
       "  background-color: #f7f0f7;\n",
       "  color: #000000;\n",
       "}\n",
       "#T_e8596_row5_col12, #T_e8596_row13_col12 {\n",
       "  background-color: #dfddec;\n",
       "  color: #000000;\n",
       "}\n",
       "#T_e8596_row5_col13, #T_e8596_row6_col13, #T_e8596_row11_col7 {\n",
       "  background-color: #e9e5f1;\n",
       "  color: #000000;\n",
       "}\n",
       "#T_e8596_row5_col14, #T_e8596_row10_col6 {\n",
       "  background-color: #e0dded;\n",
       "  color: #000000;\n",
       "}\n",
       "#T_e8596_row6_col2, #T_e8596_row6_col10, #T_e8596_row8_col2, #T_e8596_row8_col5, #T_e8596_row10_col2 {\n",
       "  background-color: #f4eef6;\n",
       "  color: #000000;\n",
       "}\n",
       "#T_e8596_row6_col3, #T_e8596_row7_col10, #T_e8596_row8_col3, #T_e8596_row9_col11 {\n",
       "  background-color: #fef6fb;\n",
       "  color: #000000;\n",
       "}\n",
       "#T_e8596_row6_col4 {\n",
       "  background-color: #d7d6e9;\n",
       "  color: #000000;\n",
       "}\n",
       "#T_e8596_row6_col14, #T_e8596_row8_col9 {\n",
       "  background-color: #d2d3e7;\n",
       "  color: #000000;\n",
       "}\n",
       "#T_e8596_row7_col1, #T_e8596_row9_col1, #T_e8596_row11_col6 {\n",
       "  background-color: #e1dfed;\n",
       "  color: #000000;\n",
       "}\n",
       "#T_e8596_row7_col9 {\n",
       "  background-color: #99b8d8;\n",
       "  color: #000000;\n",
       "}\n",
       "#T_e8596_row8_col7, #T_e8596_row14_col10 {\n",
       "  background-color: #cdd0e5;\n",
       "  color: #000000;\n",
       "}\n",
       "#T_e8596_row8_col11 {\n",
       "  background-color: #faf3f9;\n",
       "  color: #000000;\n",
       "}\n",
       "#T_e8596_row9_col0 {\n",
       "  background-color: #efe9f3;\n",
       "  color: #000000;\n",
       "}\n",
       "#T_e8596_row9_col4 {\n",
       "  background-color: #eee9f3;\n",
       "  color: #000000;\n",
       "}\n",
       "#T_e8596_row9_col6, #T_e8596_row13_col3, #T_e8596_row14_col8 {\n",
       "  background-color: #f1ebf5;\n",
       "  color: #000000;\n",
       "}\n",
       "#T_e8596_row9_col7 {\n",
       "  background-color: #9ab8d8;\n",
       "  color: #000000;\n",
       "}\n",
       "#T_e8596_row9_col8 {\n",
       "  background-color: #dad9ea;\n",
       "  color: #000000;\n",
       "}\n",
       "#T_e8596_row10_col14 {\n",
       "  background-color: #abbfdc;\n",
       "  color: #000000;\n",
       "}\n",
       "#T_e8596_row11_col0, #T_e8596_row14_col6 {\n",
       "  background-color: #d6d6e9;\n",
       "  color: #000000;\n",
       "}\n",
       "#T_e8596_row11_col5 {\n",
       "  background-color: #f5eef6;\n",
       "  color: #000000;\n",
       "}\n",
       "#T_e8596_row11_col14 {\n",
       "  background-color: #bfc9e1;\n",
       "  color: #000000;\n",
       "}\n",
       "#T_e8596_row12_col0 {\n",
       "  background-color: #d3d4e7;\n",
       "  color: #000000;\n",
       "}\n",
       "#T_e8596_row12_col3 {\n",
       "  background-color: #f3edf5;\n",
       "  color: #000000;\n",
       "}\n",
       "#T_e8596_row12_col7 {\n",
       "  background-color: #fbf4f9;\n",
       "  color: #000000;\n",
       "}\n",
       "#T_e8596_row12_col14 {\n",
       "  background-color: #a9bfdc;\n",
       "  color: #000000;\n",
       "}\n",
       "#T_e8596_row14_col1 {\n",
       "  background-color: #dcdaeb;\n",
       "  color: #000000;\n",
       "}\n",
       "#T_e8596_row14_col4 {\n",
       "  background-color: #96b6d7;\n",
       "  color: #000000;\n",
       "}\n",
       "#T_e8596_row14_col12 {\n",
       "  background-color: #a7bddb;\n",
       "  color: #000000;\n",
       "}\n",
       "</style>\n",
       "<table id=\"T_e8596\">\n",
       "  <thead>\n",
       "    <tr>\n",
       "      <th class=\"blank level0\" >&nbsp;</th>\n",
       "      <th id=\"T_e8596_level0_col0\" class=\"col_heading level0 col0\" >age</th>\n",
       "      <th id=\"T_e8596_level0_col1\" class=\"col_heading level0 col1\" >workclass</th>\n",
       "      <th id=\"T_e8596_level0_col2\" class=\"col_heading level0 col2\" >fnlwgt</th>\n",
       "      <th id=\"T_e8596_level0_col3\" class=\"col_heading level0 col3\" >education</th>\n",
       "      <th id=\"T_e8596_level0_col4\" class=\"col_heading level0 col4\" >education-num</th>\n",
       "      <th id=\"T_e8596_level0_col5\" class=\"col_heading level0 col5\" >marital-status</th>\n",
       "      <th id=\"T_e8596_level0_col6\" class=\"col_heading level0 col6\" >occupation</th>\n",
       "      <th id=\"T_e8596_level0_col7\" class=\"col_heading level0 col7\" >relationship</th>\n",
       "      <th id=\"T_e8596_level0_col8\" class=\"col_heading level0 col8\" >race</th>\n",
       "      <th id=\"T_e8596_level0_col9\" class=\"col_heading level0 col9\" >sex</th>\n",
       "      <th id=\"T_e8596_level0_col10\" class=\"col_heading level0 col10\" >capital-gain</th>\n",
       "      <th id=\"T_e8596_level0_col11\" class=\"col_heading level0 col11\" >capital-loss</th>\n",
       "      <th id=\"T_e8596_level0_col12\" class=\"col_heading level0 col12\" >hours-per-week</th>\n",
       "      <th id=\"T_e8596_level0_col13\" class=\"col_heading level0 col13\" >native-country</th>\n",
       "      <th id=\"T_e8596_level0_col14\" class=\"col_heading level0 col14\" >salary</th>\n",
       "    </tr>\n",
       "  </thead>\n",
       "  <tbody>\n",
       "    <tr>\n",
       "      <th id=\"T_e8596_level0_row0\" class=\"row_heading level0 row0\" >age</th>\n",
       "      <td id=\"T_e8596_row0_col0\" class=\"data row0 col0\" >1.000000</td>\n",
       "      <td id=\"T_e8596_row0_col1\" class=\"data row0 col1\" >0.082400</td>\n",
       "      <td id=\"T_e8596_row0_col2\" class=\"data row0 col2\" >-0.076600</td>\n",
       "      <td id=\"T_e8596_row0_col3\" class=\"data row0 col3\" >-0.010500</td>\n",
       "      <td id=\"T_e8596_row0_col4\" class=\"data row0 col4\" >0.036500</td>\n",
       "      <td id=\"T_e8596_row0_col5\" class=\"data row0 col5\" >0.424600</td>\n",
       "      <td id=\"T_e8596_row0_col6\" class=\"data row0 col6\" >-0.020900</td>\n",
       "      <td id=\"T_e8596_row0_col7\" class=\"data row0 col7\" >-0.217800</td>\n",
       "      <td id=\"T_e8596_row0_col8\" class=\"data row0 col8\" >-0.040000</td>\n",
       "      <td id=\"T_e8596_row0_col9\" class=\"data row0 col9\" >-0.088800</td>\n",
       "      <td id=\"T_e8596_row0_col10\" class=\"data row0 col10\" >0.077700</td>\n",
       "      <td id=\"T_e8596_row0_col11\" class=\"data row0 col11\" >0.057800</td>\n",
       "      <td id=\"T_e8596_row0_col12\" class=\"data row0 col12\" >0.068800</td>\n",
       "      <td id=\"T_e8596_row0_col13\" class=\"data row0 col13\" >-0.001200</td>\n",
       "      <td id=\"T_e8596_row0_col14\" class=\"data row0 col14\" >0.234000</td>\n",
       "    </tr>\n",
       "    <tr>\n",
       "      <th id=\"T_e8596_level0_row1\" class=\"row_heading level0 row1\" >workclass</th>\n",
       "      <td id=\"T_e8596_row1_col0\" class=\"data row1 col0\" >0.082400</td>\n",
       "      <td id=\"T_e8596_row1_col1\" class=\"data row1 col1\" >1.000000</td>\n",
       "      <td id=\"T_e8596_row1_col2\" class=\"data row1 col2\" >-0.006300</td>\n",
       "      <td id=\"T_e8596_row1_col3\" class=\"data row1 col3\" >-0.005300</td>\n",
       "      <td id=\"T_e8596_row1_col4\" class=\"data row1 col4\" >0.011300</td>\n",
       "      <td id=\"T_e8596_row1_col5\" class=\"data row1 col5\" >0.035900</td>\n",
       "      <td id=\"T_e8596_row1_col6\" class=\"data row1 col6\" >-0.189700</td>\n",
       "      <td id=\"T_e8596_row1_col7\" class=\"data row1 col7\" >0.015500</td>\n",
       "      <td id=\"T_e8596_row1_col8\" class=\"data row1 col8\" >0.009400</td>\n",
       "      <td id=\"T_e8596_row1_col9\" class=\"data row1 col9\" >0.019300</td>\n",
       "      <td id=\"T_e8596_row1_col10\" class=\"data row1 col10\" >0.041200</td>\n",
       "      <td id=\"T_e8596_row1_col11\" class=\"data row1 col11\" >0.012500</td>\n",
       "      <td id=\"T_e8596_row1_col12\" class=\"data row1 col12\" >-0.028100</td>\n",
       "      <td id=\"T_e8596_row1_col13\" class=\"data row1 col13\" >0.000100</td>\n",
       "      <td id=\"T_e8596_row1_col14\" class=\"data row1 col14\" >0.047200</td>\n",
       "    </tr>\n",
       "    <tr>\n",
       "      <th id=\"T_e8596_level0_row2\" class=\"row_heading level0 row2\" >fnlwgt</th>\n",
       "      <td id=\"T_e8596_row2_col0\" class=\"data row2 col0\" >-0.076600</td>\n",
       "      <td id=\"T_e8596_row2_col1\" class=\"data row2 col1\" >-0.006300</td>\n",
       "      <td id=\"T_e8596_row2_col2\" class=\"data row2 col2\" >1.000000</td>\n",
       "      <td id=\"T_e8596_row2_col3\" class=\"data row2 col3\" >-0.028100</td>\n",
       "      <td id=\"T_e8596_row2_col4\" class=\"data row2 col4\" >-0.043200</td>\n",
       "      <td id=\"T_e8596_row2_col5\" class=\"data row2 col5\" >-0.023500</td>\n",
       "      <td id=\"T_e8596_row2_col6\" class=\"data row2 col6\" >0.001600</td>\n",
       "      <td id=\"T_e8596_row2_col7\" class=\"data row2 col7\" >0.017100</td>\n",
       "      <td id=\"T_e8596_row2_col8\" class=\"data row2 col8\" >0.000500</td>\n",
       "      <td id=\"T_e8596_row2_col9\" class=\"data row2 col9\" >-0.026900</td>\n",
       "      <td id=\"T_e8596_row2_col10\" class=\"data row2 col10\" >0.000400</td>\n",
       "      <td id=\"T_e8596_row2_col11\" class=\"data row2 col11\" >-0.010300</td>\n",
       "      <td id=\"T_e8596_row2_col12\" class=\"data row2 col12\" >-0.018800</td>\n",
       "      <td id=\"T_e8596_row2_col13\" class=\"data row2 col13\" >-0.052000</td>\n",
       "      <td id=\"T_e8596_row2_col14\" class=\"data row2 col14\" >-0.009500</td>\n",
       "    </tr>\n",
       "    <tr>\n",
       "      <th id=\"T_e8596_level0_row3\" class=\"row_heading level0 row3\" >education</th>\n",
       "      <td id=\"T_e8596_row3_col0\" class=\"data row3 col0\" >-0.010500</td>\n",
       "      <td id=\"T_e8596_row3_col1\" class=\"data row3 col1\" >-0.005300</td>\n",
       "      <td id=\"T_e8596_row3_col2\" class=\"data row3 col2\" >-0.028100</td>\n",
       "      <td id=\"T_e8596_row3_col3\" class=\"data row3 col3\" >1.000000</td>\n",
       "      <td id=\"T_e8596_row3_col4\" class=\"data row3 col4\" >0.359200</td>\n",
       "      <td id=\"T_e8596_row3_col5\" class=\"data row3 col5\" >-0.020600</td>\n",
       "      <td id=\"T_e8596_row3_col6\" class=\"data row3 col6\" >-0.021300</td>\n",
       "      <td id=\"T_e8596_row3_col7\" class=\"data row3 col7\" >-0.028700</td>\n",
       "      <td id=\"T_e8596_row3_col8\" class=\"data row3 col8\" >-0.023700</td>\n",
       "      <td id=\"T_e8596_row3_col9\" class=\"data row3 col9\" >0.027400</td>\n",
       "      <td id=\"T_e8596_row3_col10\" class=\"data row3 col10\" >0.030000</td>\n",
       "      <td id=\"T_e8596_row3_col11\" class=\"data row3 col11\" >0.016700</td>\n",
       "      <td id=\"T_e8596_row3_col12\" class=\"data row3 col12\" >0.055500</td>\n",
       "      <td id=\"T_e8596_row3_col13\" class=\"data row3 col13\" >0.064300</td>\n",
       "      <td id=\"T_e8596_row3_col14\" class=\"data row3 col14\" >0.079300</td>\n",
       "    </tr>\n",
       "    <tr>\n",
       "      <th id=\"T_e8596_level0_row4\" class=\"row_heading level0 row4\" >education-num</th>\n",
       "      <td id=\"T_e8596_row4_col0\" class=\"data row4 col0\" >0.036500</td>\n",
       "      <td id=\"T_e8596_row4_col1\" class=\"data row4 col1\" >0.011300</td>\n",
       "      <td id=\"T_e8596_row4_col2\" class=\"data row4 col2\" >-0.043200</td>\n",
       "      <td id=\"T_e8596_row4_col3\" class=\"data row4 col3\" >0.359200</td>\n",
       "      <td id=\"T_e8596_row4_col4\" class=\"data row4 col4\" >1.000000</td>\n",
       "      <td id=\"T_e8596_row4_col5\" class=\"data row4 col5\" >-0.066000</td>\n",
       "      <td id=\"T_e8596_row4_col6\" class=\"data row4 col6\" >0.109700</td>\n",
       "      <td id=\"T_e8596_row4_col7\" class=\"data row4 col7\" >-0.141100</td>\n",
       "      <td id=\"T_e8596_row4_col8\" class=\"data row4 col8\" >-0.039800</td>\n",
       "      <td id=\"T_e8596_row4_col9\" class=\"data row4 col9\" >-0.012300</td>\n",
       "      <td id=\"T_e8596_row4_col10\" class=\"data row4 col10\" >0.122600</td>\n",
       "      <td id=\"T_e8596_row4_col11\" class=\"data row4 col11\" >0.079900</td>\n",
       "      <td id=\"T_e8596_row4_col12\" class=\"data row4 col12\" >0.148100</td>\n",
       "      <td id=\"T_e8596_row4_col13\" class=\"data row4 col13\" >0.050800</td>\n",
       "      <td id=\"T_e8596_row4_col14\" class=\"data row4 col14\" >0.335200</td>\n",
       "    </tr>\n",
       "    <tr>\n",
       "      <th id=\"T_e8596_level0_row5\" class=\"row_heading level0 row5\" >marital-status</th>\n",
       "      <td id=\"T_e8596_row5_col0\" class=\"data row5 col0\" >0.424600</td>\n",
       "      <td id=\"T_e8596_row5_col1\" class=\"data row5 col1\" >0.035900</td>\n",
       "      <td id=\"T_e8596_row5_col2\" class=\"data row5 col2\" >-0.023500</td>\n",
       "      <td id=\"T_e8596_row5_col3\" class=\"data row5 col3\" >-0.020600</td>\n",
       "      <td id=\"T_e8596_row5_col4\" class=\"data row5 col4\" >-0.066000</td>\n",
       "      <td id=\"T_e8596_row5_col5\" class=\"data row5 col5\" >1.000000</td>\n",
       "      <td id=\"T_e8596_row5_col6\" class=\"data row5 col6\" >-0.034500</td>\n",
       "      <td id=\"T_e8596_row5_col7\" class=\"data row5 col7\" >0.029100</td>\n",
       "      <td id=\"T_e8596_row5_col8\" class=\"data row5 col8\" >0.012700</td>\n",
       "      <td id=\"T_e8596_row5_col9\" class=\"data row5 col9\" >0.181900</td>\n",
       "      <td id=\"T_e8596_row5_col10\" class=\"data row5 col10\" >0.004500</td>\n",
       "      <td id=\"T_e8596_row5_col11\" class=\"data row5 col11\" >0.006800</td>\n",
       "      <td id=\"T_e8596_row5_col12\" class=\"data row5 col12\" >-0.000300</td>\n",
       "      <td id=\"T_e8596_row5_col13\" class=\"data row5 col13\" >-0.010500</td>\n",
       "      <td id=\"T_e8596_row5_col14\" class=\"data row5 col14\" >0.002600</td>\n",
       "    </tr>\n",
       "    <tr>\n",
       "      <th id=\"T_e8596_level0_row6\" class=\"row_heading level0 row6\" >occupation</th>\n",
       "      <td id=\"T_e8596_row6_col0\" class=\"data row6 col0\" >-0.020900</td>\n",
       "      <td id=\"T_e8596_row6_col1\" class=\"data row6 col1\" >-0.189700</td>\n",
       "      <td id=\"T_e8596_row6_col2\" class=\"data row6 col2\" >0.001600</td>\n",
       "      <td id=\"T_e8596_row6_col3\" class=\"data row6 col3\" >-0.021300</td>\n",
       "      <td id=\"T_e8596_row6_col4\" class=\"data row6 col4\" >0.109700</td>\n",
       "      <td id=\"T_e8596_row6_col5\" class=\"data row6 col5\" >-0.034500</td>\n",
       "      <td id=\"T_e8596_row6_col6\" class=\"data row6 col6\" >1.000000</td>\n",
       "      <td id=\"T_e8596_row6_col7\" class=\"data row6 col7\" >-0.051900</td>\n",
       "      <td id=\"T_e8596_row6_col8\" class=\"data row6 col8\" >-0.003800</td>\n",
       "      <td id=\"T_e8596_row6_col9\" class=\"data row6 col9\" >-0.080300</td>\n",
       "      <td id=\"T_e8596_row6_col10\" class=\"data row6 col10\" >0.025500</td>\n",
       "      <td id=\"T_e8596_row6_col11\" class=\"data row6 col11\" >0.018000</td>\n",
       "      <td id=\"T_e8596_row6_col12\" class=\"data row6 col12\" >0.080400</td>\n",
       "      <td id=\"T_e8596_row6_col13\" class=\"data row6 col13\" >-0.012500</td>\n",
       "      <td id=\"T_e8596_row6_col14\" class=\"data row6 col14\" >0.075500</td>\n",
       "    </tr>\n",
       "    <tr>\n",
       "      <th id=\"T_e8596_level0_row7\" class=\"row_heading level0 row7\" >relationship</th>\n",
       "      <td id=\"T_e8596_row7_col0\" class=\"data row7 col0\" >-0.217800</td>\n",
       "      <td id=\"T_e8596_row7_col1\" class=\"data row7 col1\" >0.015500</td>\n",
       "      <td id=\"T_e8596_row7_col2\" class=\"data row7 col2\" >0.017100</td>\n",
       "      <td id=\"T_e8596_row7_col3\" class=\"data row7 col3\" >-0.028700</td>\n",
       "      <td id=\"T_e8596_row7_col4\" class=\"data row7 col4\" >-0.141100</td>\n",
       "      <td id=\"T_e8596_row7_col5\" class=\"data row7 col5\" >0.029100</td>\n",
       "      <td id=\"T_e8596_row7_col6\" class=\"data row7 col6\" >-0.051900</td>\n",
       "      <td id=\"T_e8596_row7_col7\" class=\"data row7 col7\" >1.000000</td>\n",
       "      <td id=\"T_e8596_row7_col8\" class=\"data row7 col8\" >0.096800</td>\n",
       "      <td id=\"T_e8596_row7_col9\" class=\"data row7 col9\" >0.273400</td>\n",
       "      <td id=\"T_e8596_row7_col10\" class=\"data row7 col10\" >-0.044000</td>\n",
       "      <td id=\"T_e8596_row7_col11\" class=\"data row7 col11\" >-0.050500</td>\n",
       "      <td id=\"T_e8596_row7_col12\" class=\"data row7 col12\" >-0.184900</td>\n",
       "      <td id=\"T_e8596_row7_col13\" class=\"data row7 col13\" >-0.025800</td>\n",
       "      <td id=\"T_e8596_row7_col14\" class=\"data row7 col14\" >-0.171300</td>\n",
       "    </tr>\n",
       "    <tr>\n",
       "      <th id=\"T_e8596_level0_row8\" class=\"row_heading level0 row8\" >race</th>\n",
       "      <td id=\"T_e8596_row8_col0\" class=\"data row8 col0\" >-0.040000</td>\n",
       "      <td id=\"T_e8596_row8_col1\" class=\"data row8 col1\" >0.009400</td>\n",
       "      <td id=\"T_e8596_row8_col2\" class=\"data row8 col2\" >0.000500</td>\n",
       "      <td id=\"T_e8596_row8_col3\" class=\"data row8 col3\" >-0.023700</td>\n",
       "      <td id=\"T_e8596_row8_col4\" class=\"data row8 col4\" >-0.039800</td>\n",
       "      <td id=\"T_e8596_row8_col5\" class=\"data row8 col5\" >0.012700</td>\n",
       "      <td id=\"T_e8596_row8_col6\" class=\"data row8 col6\" >-0.003800</td>\n",
       "      <td id=\"T_e8596_row8_col7\" class=\"data row8 col7\" >0.096800</td>\n",
       "      <td id=\"T_e8596_row8_col8\" class=\"data row8 col8\" >1.000000</td>\n",
       "      <td id=\"T_e8596_row8_col9\" class=\"data row8 col9\" >0.067800</td>\n",
       "      <td id=\"T_e8596_row8_col10\" class=\"data row8 col10\" >-0.008000</td>\n",
       "      <td id=\"T_e8596_row8_col11\" class=\"data row8 col11\" >-0.017200</td>\n",
       "      <td id=\"T_e8596_row8_col12\" class=\"data row8 col12\" >-0.033100</td>\n",
       "      <td id=\"T_e8596_row8_col13\" class=\"data row8 col13\" >-0.174100</td>\n",
       "      <td id=\"T_e8596_row8_col14\" class=\"data row8 col14\" >-0.067700</td>\n",
       "    </tr>\n",
       "    <tr>\n",
       "      <th id=\"T_e8596_level0_row9\" class=\"row_heading level0 row9\" >sex</th>\n",
       "      <td id=\"T_e8596_row9_col0\" class=\"data row9 col0\" >-0.088800</td>\n",
       "      <td id=\"T_e8596_row9_col1\" class=\"data row9 col1\" >0.019300</td>\n",
       "      <td id=\"T_e8596_row9_col2\" class=\"data row9 col2\" >-0.026900</td>\n",
       "      <td id=\"T_e8596_row9_col3\" class=\"data row9 col3\" >0.027400</td>\n",
       "      <td id=\"T_e8596_row9_col4\" class=\"data row9 col4\" >-0.012300</td>\n",
       "      <td id=\"T_e8596_row9_col5\" class=\"data row9 col5\" >0.181900</td>\n",
       "      <td id=\"T_e8596_row9_col6\" class=\"data row9 col6\" >-0.080300</td>\n",
       "      <td id=\"T_e8596_row9_col7\" class=\"data row9 col7\" >0.273400</td>\n",
       "      <td id=\"T_e8596_row9_col8\" class=\"data row9 col8\" >0.067800</td>\n",
       "      <td id=\"T_e8596_row9_col9\" class=\"data row9 col9\" >1.000000</td>\n",
       "      <td id=\"T_e8596_row9_col10\" class=\"data row9 col10\" >-0.048500</td>\n",
       "      <td id=\"T_e8596_row9_col11\" class=\"data row9 col11\" >-0.045600</td>\n",
       "      <td id=\"T_e8596_row9_col12\" class=\"data row9 col12\" >-0.229300</td>\n",
       "      <td id=\"T_e8596_row9_col13\" class=\"data row9 col13\" >0.008100</td>\n",
       "      <td id=\"T_e8596_row9_col14\" class=\"data row9 col14\" >-0.216000</td>\n",
       "    </tr>\n",
       "    <tr>\n",
       "      <th id=\"T_e8596_level0_row10\" class=\"row_heading level0 row10\" >capital-gain</th>\n",
       "      <td id=\"T_e8596_row10_col0\" class=\"data row10 col0\" >0.077700</td>\n",
       "      <td id=\"T_e8596_row10_col1\" class=\"data row10 col1\" >0.041200</td>\n",
       "      <td id=\"T_e8596_row10_col2\" class=\"data row10 col2\" >0.000400</td>\n",
       "      <td id=\"T_e8596_row10_col3\" class=\"data row10 col3\" >0.030000</td>\n",
       "      <td id=\"T_e8596_row10_col4\" class=\"data row10 col4\" >0.122600</td>\n",
       "      <td id=\"T_e8596_row10_col5\" class=\"data row10 col5\" >0.004500</td>\n",
       "      <td id=\"T_e8596_row10_col6\" class=\"data row10 col6\" >0.025500</td>\n",
       "      <td id=\"T_e8596_row10_col7\" class=\"data row10 col7\" >-0.044000</td>\n",
       "      <td id=\"T_e8596_row10_col8\" class=\"data row10 col8\" >-0.008000</td>\n",
       "      <td id=\"T_e8596_row10_col9\" class=\"data row10 col9\" >-0.048500</td>\n",
       "      <td id=\"T_e8596_row10_col10\" class=\"data row10 col10\" >1.000000</td>\n",
       "      <td id=\"T_e8596_row10_col11\" class=\"data row10 col11\" >-0.031600</td>\n",
       "      <td id=\"T_e8596_row10_col12\" class=\"data row10 col12\" >0.078400</td>\n",
       "      <td id=\"T_e8596_row10_col13\" class=\"data row10 col13\" >-0.002000</td>\n",
       "      <td id=\"T_e8596_row10_col14\" class=\"data row10 col14\" >0.223300</td>\n",
       "    </tr>\n",
       "    <tr>\n",
       "      <th id=\"T_e8596_level0_row11\" class=\"row_heading level0 row11\" >capital-loss</th>\n",
       "      <td id=\"T_e8596_row11_col0\" class=\"data row11 col0\" >0.057800</td>\n",
       "      <td id=\"T_e8596_row11_col1\" class=\"data row11 col1\" >0.012500</td>\n",
       "      <td id=\"T_e8596_row11_col2\" class=\"data row11 col2\" >-0.010300</td>\n",
       "      <td id=\"T_e8596_row11_col3\" class=\"data row11 col3\" >0.016700</td>\n",
       "      <td id=\"T_e8596_row11_col4\" class=\"data row11 col4\" >0.079900</td>\n",
       "      <td id=\"T_e8596_row11_col5\" class=\"data row11 col5\" >0.006800</td>\n",
       "      <td id=\"T_e8596_row11_col6\" class=\"data row11 col6\" >0.018000</td>\n",
       "      <td id=\"T_e8596_row11_col7\" class=\"data row11 col7\" >-0.050500</td>\n",
       "      <td id=\"T_e8596_row11_col8\" class=\"data row11 col8\" >-0.017200</td>\n",
       "      <td id=\"T_e8596_row11_col9\" class=\"data row11 col9\" >-0.045600</td>\n",
       "      <td id=\"T_e8596_row11_col10\" class=\"data row11 col10\" >-0.031600</td>\n",
       "      <td id=\"T_e8596_row11_col11\" class=\"data row11 col11\" >1.000000</td>\n",
       "      <td id=\"T_e8596_row11_col12\" class=\"data row11 col12\" >0.054300</td>\n",
       "      <td id=\"T_e8596_row11_col13\" class=\"data row11 col13\" >0.000400</td>\n",
       "      <td id=\"T_e8596_row11_col14\" class=\"data row11 col14\" >0.150500</td>\n",
       "    </tr>\n",
       "    <tr>\n",
       "      <th id=\"T_e8596_level0_row12\" class=\"row_heading level0 row12\" >hours-per-week</th>\n",
       "      <td id=\"T_e8596_row12_col0\" class=\"data row12 col0\" >0.068800</td>\n",
       "      <td id=\"T_e8596_row12_col1\" class=\"data row12 col1\" >-0.028100</td>\n",
       "      <td id=\"T_e8596_row12_col2\" class=\"data row12 col2\" >-0.018800</td>\n",
       "      <td id=\"T_e8596_row12_col3\" class=\"data row12 col3\" >0.055500</td>\n",
       "      <td id=\"T_e8596_row12_col4\" class=\"data row12 col4\" >0.148100</td>\n",
       "      <td id=\"T_e8596_row12_col5\" class=\"data row12 col5\" >-0.000300</td>\n",
       "      <td id=\"T_e8596_row12_col6\" class=\"data row12 col6\" >0.080400</td>\n",
       "      <td id=\"T_e8596_row12_col7\" class=\"data row12 col7\" >-0.184900</td>\n",
       "      <td id=\"T_e8596_row12_col8\" class=\"data row12 col8\" >-0.033100</td>\n",
       "      <td id=\"T_e8596_row12_col9\" class=\"data row12 col9\" >-0.229300</td>\n",
       "      <td id=\"T_e8596_row12_col10\" class=\"data row12 col10\" >0.078400</td>\n",
       "      <td id=\"T_e8596_row12_col11\" class=\"data row12 col11\" >0.054300</td>\n",
       "      <td id=\"T_e8596_row12_col12\" class=\"data row12 col12\" >1.000000</td>\n",
       "      <td id=\"T_e8596_row12_col13\" class=\"data row12 col13\" >-0.002700</td>\n",
       "      <td id=\"T_e8596_row12_col14\" class=\"data row12 col14\" >0.229700</td>\n",
       "    </tr>\n",
       "    <tr>\n",
       "      <th id=\"T_e8596_level0_row13\" class=\"row_heading level0 row13\" >native-country</th>\n",
       "      <td id=\"T_e8596_row13_col0\" class=\"data row13 col0\" >-0.001200</td>\n",
       "      <td id=\"T_e8596_row13_col1\" class=\"data row13 col1\" >0.000100</td>\n",
       "      <td id=\"T_e8596_row13_col2\" class=\"data row13 col2\" >-0.052000</td>\n",
       "      <td id=\"T_e8596_row13_col3\" class=\"data row13 col3\" >0.064300</td>\n",
       "      <td id=\"T_e8596_row13_col4\" class=\"data row13 col4\" >0.050800</td>\n",
       "      <td id=\"T_e8596_row13_col5\" class=\"data row13 col5\" >-0.010500</td>\n",
       "      <td id=\"T_e8596_row13_col6\" class=\"data row13 col6\" >-0.012500</td>\n",
       "      <td id=\"T_e8596_row13_col7\" class=\"data row13 col7\" >-0.025800</td>\n",
       "      <td id=\"T_e8596_row13_col8\" class=\"data row13 col8\" >-0.174100</td>\n",
       "      <td id=\"T_e8596_row13_col9\" class=\"data row13 col9\" >0.008100</td>\n",
       "      <td id=\"T_e8596_row13_col10\" class=\"data row13 col10\" >-0.002000</td>\n",
       "      <td id=\"T_e8596_row13_col11\" class=\"data row13 col11\" >0.000400</td>\n",
       "      <td id=\"T_e8596_row13_col12\" class=\"data row13 col12\" >-0.002700</td>\n",
       "      <td id=\"T_e8596_row13_col13\" class=\"data row13 col13\" >1.000000</td>\n",
       "      <td id=\"T_e8596_row13_col14\" class=\"data row13 col14\" >0.015800</td>\n",
       "    </tr>\n",
       "    <tr>\n",
       "      <th id=\"T_e8596_level0_row14\" class=\"row_heading level0 row14\" >salary</th>\n",
       "      <td id=\"T_e8596_row14_col0\" class=\"data row14 col0\" >0.234000</td>\n",
       "      <td id=\"T_e8596_row14_col1\" class=\"data row14 col1\" >0.047200</td>\n",
       "      <td id=\"T_e8596_row14_col2\" class=\"data row14 col2\" >-0.009500</td>\n",
       "      <td id=\"T_e8596_row14_col3\" class=\"data row14 col3\" >0.079300</td>\n",
       "      <td id=\"T_e8596_row14_col4\" class=\"data row14 col4\" >0.335200</td>\n",
       "      <td id=\"T_e8596_row14_col5\" class=\"data row14 col5\" >0.002600</td>\n",
       "      <td id=\"T_e8596_row14_col6\" class=\"data row14 col6\" >0.075500</td>\n",
       "      <td id=\"T_e8596_row14_col7\" class=\"data row14 col7\" >-0.171300</td>\n",
       "      <td id=\"T_e8596_row14_col8\" class=\"data row14 col8\" >-0.067700</td>\n",
       "      <td id=\"T_e8596_row14_col9\" class=\"data row14 col9\" >-0.216000</td>\n",
       "      <td id=\"T_e8596_row14_col10\" class=\"data row14 col10\" >0.223300</td>\n",
       "      <td id=\"T_e8596_row14_col11\" class=\"data row14 col11\" >0.150500</td>\n",
       "      <td id=\"T_e8596_row14_col12\" class=\"data row14 col12\" >0.229700</td>\n",
       "      <td id=\"T_e8596_row14_col13\" class=\"data row14 col13\" >0.015800</td>\n",
       "      <td id=\"T_e8596_row14_col14\" class=\"data row14 col14\" >1.000000</td>\n",
       "    </tr>\n",
       "  </tbody>\n",
       "</table>\n"
      ],
      "text/plain": [
       "<pandas.io.formats.style.Styler at 0x1b47a5eb550>"
      ]
     },
     "execution_count": 51,
     "metadata": {},
     "output_type": "execute_result"
    }
   ],
   "source": [
    "corr = round(df.corr(), 4)\n",
    "corr.style.background_gradient()"
   ]
  },
  {
   "cell_type": "code",
   "execution_count": 52,
   "metadata": {},
   "outputs": [],
   "source": [
    "data_x = df.drop(['salary', 'fnlwgt', 'marital-status', 'native-country'], axis='columns')\n",
    "data_y = df.salary"
   ]
  },
  {
   "cell_type": "code",
   "execution_count": 53,
   "metadata": {},
   "outputs": [],
   "source": [
    "train_x, test_x, train_y, test_y = train_test_split(data_x, data_y, test_size=0.1)"
   ]
  },
  {
   "cell_type": "code",
   "execution_count": 54,
   "metadata": {},
   "outputs": [],
   "source": [
    "k_neighbors = KNeighborsClassifier(n_neighbors=12)"
   ]
  },
  {
   "cell_type": "code",
   "execution_count": 55,
   "metadata": {},
   "outputs": [
    {
     "data": {
      "text/html": [
       "<style>#sk-container-id-4 {color: black;}#sk-container-id-4 pre{padding: 0;}#sk-container-id-4 div.sk-toggleable {background-color: white;}#sk-container-id-4 label.sk-toggleable__label {cursor: pointer;display: block;width: 100%;margin-bottom: 0;padding: 0.3em;box-sizing: border-box;text-align: center;}#sk-container-id-4 label.sk-toggleable__label-arrow:before {content: \"▸\";float: left;margin-right: 0.25em;color: #696969;}#sk-container-id-4 label.sk-toggleable__label-arrow:hover:before {color: black;}#sk-container-id-4 div.sk-estimator:hover label.sk-toggleable__label-arrow:before {color: black;}#sk-container-id-4 div.sk-toggleable__content {max-height: 0;max-width: 0;overflow: hidden;text-align: left;background-color: #f0f8ff;}#sk-container-id-4 div.sk-toggleable__content pre {margin: 0.2em;color: black;border-radius: 0.25em;background-color: #f0f8ff;}#sk-container-id-4 input.sk-toggleable__control:checked~div.sk-toggleable__content {max-height: 200px;max-width: 100%;overflow: auto;}#sk-container-id-4 input.sk-toggleable__control:checked~label.sk-toggleable__label-arrow:before {content: \"▾\";}#sk-container-id-4 div.sk-estimator input.sk-toggleable__control:checked~label.sk-toggleable__label {background-color: #d4ebff;}#sk-container-id-4 div.sk-label input.sk-toggleable__control:checked~label.sk-toggleable__label {background-color: #d4ebff;}#sk-container-id-4 input.sk-hidden--visually {border: 0;clip: rect(1px 1px 1px 1px);clip: rect(1px, 1px, 1px, 1px);height: 1px;margin: -1px;overflow: hidden;padding: 0;position: absolute;width: 1px;}#sk-container-id-4 div.sk-estimator {font-family: monospace;background-color: #f0f8ff;border: 1px dotted black;border-radius: 0.25em;box-sizing: border-box;margin-bottom: 0.5em;}#sk-container-id-4 div.sk-estimator:hover {background-color: #d4ebff;}#sk-container-id-4 div.sk-parallel-item::after {content: \"\";width: 100%;border-bottom: 1px solid gray;flex-grow: 1;}#sk-container-id-4 div.sk-label:hover label.sk-toggleable__label {background-color: #d4ebff;}#sk-container-id-4 div.sk-serial::before {content: \"\";position: absolute;border-left: 1px solid gray;box-sizing: border-box;top: 0;bottom: 0;left: 50%;z-index: 0;}#sk-container-id-4 div.sk-serial {display: flex;flex-direction: column;align-items: center;background-color: white;padding-right: 0.2em;padding-left: 0.2em;position: relative;}#sk-container-id-4 div.sk-item {position: relative;z-index: 1;}#sk-container-id-4 div.sk-parallel {display: flex;align-items: stretch;justify-content: center;background-color: white;position: relative;}#sk-container-id-4 div.sk-item::before, #sk-container-id-4 div.sk-parallel-item::before {content: \"\";position: absolute;border-left: 1px solid gray;box-sizing: border-box;top: 0;bottom: 0;left: 50%;z-index: -1;}#sk-container-id-4 div.sk-parallel-item {display: flex;flex-direction: column;z-index: 1;position: relative;background-color: white;}#sk-container-id-4 div.sk-parallel-item:first-child::after {align-self: flex-end;width: 50%;}#sk-container-id-4 div.sk-parallel-item:last-child::after {align-self: flex-start;width: 50%;}#sk-container-id-4 div.sk-parallel-item:only-child::after {width: 0;}#sk-container-id-4 div.sk-dashed-wrapped {border: 1px dashed gray;margin: 0 0.4em 0.5em 0.4em;box-sizing: border-box;padding-bottom: 0.4em;background-color: white;}#sk-container-id-4 div.sk-label label {font-family: monospace;font-weight: bold;display: inline-block;line-height: 1.2em;}#sk-container-id-4 div.sk-label-container {text-align: center;}#sk-container-id-4 div.sk-container {/* jupyter's `normalize.less` sets `[hidden] { display: none; }` but bootstrap.min.css set `[hidden] { display: none !important; }` so we also need the `!important` here to be able to override the default hidden behavior on the sphinx rendered scikit-learn.org. See: https://github.com/scikit-learn/scikit-learn/issues/21755 */display: inline-block !important;position: relative;}#sk-container-id-4 div.sk-text-repr-fallback {display: none;}</style><div id=\"sk-container-id-4\" class=\"sk-top-container\"><div class=\"sk-text-repr-fallback\"><pre>KNeighborsClassifier(n_neighbors=12)</pre><b>In a Jupyter environment, please rerun this cell to show the HTML representation or trust the notebook. <br />On GitHub, the HTML representation is unable to render, please try loading this page with nbviewer.org.</b></div><div class=\"sk-container\" hidden><div class=\"sk-item\"><div class=\"sk-estimator sk-toggleable\"><input class=\"sk-toggleable__control sk-hidden--visually\" id=\"sk-estimator-id-4\" type=\"checkbox\" checked><label for=\"sk-estimator-id-4\" class=\"sk-toggleable__label sk-toggleable__label-arrow\">KNeighborsClassifier</label><div class=\"sk-toggleable__content\"><pre>KNeighborsClassifier(n_neighbors=12)</pre></div></div></div></div></div>"
      ],
      "text/plain": [
       "KNeighborsClassifier(n_neighbors=12)"
      ]
     },
     "execution_count": 55,
     "metadata": {},
     "output_type": "execute_result"
    }
   ],
   "source": [
    "k_neighbors.fit(train_x, train_y)"
   ]
  },
  {
   "cell_type": "code",
   "execution_count": 56,
   "metadata": {},
   "outputs": [],
   "source": [
    "y_predicted = k_neighbors.predict(test_x)"
   ]
  },
  {
   "cell_type": "code",
   "execution_count": 57,
   "metadata": {},
   "outputs": [
    {
     "name": "stdout",
     "output_type": "stream",
     "text": [
      "Score: 85.85000000000001%\n"
     ]
    }
   ],
   "source": [
    "print(f'Score: {round(k_neighbors.score(test_x, test_y),4)*100}%')"
   ]
  },
  {
   "cell_type": "code",
   "execution_count": 58,
   "metadata": {},
   "outputs": [
    {
     "data": {
      "text/plain": [
       "array(['10th', '11th', '12th', '1st-4th', '5th-6th', '7th-8th', '9th',\n",
       "       'Assoc-acdm', 'Assoc-voc', 'Bachelors', 'Doctorate', 'HS-grad',\n",
       "       'Masters', 'Preschool', 'Prof-school', 'Some-college'],\n",
       "      dtype=object)"
      ]
     },
     "execution_count": 58,
     "metadata": {},
     "output_type": "execute_result"
    }
   ],
   "source": [
    "encoder_education.classes_"
   ]
  },
  {
   "cell_type": "code",
   "execution_count": 59,
   "metadata": {},
   "outputs": [],
   "source": [
    "def educations(index):\n",
    "    return encoder_education.classes_[index]"
   ]
  },
  {
   "cell_type": "code",
   "execution_count": 60,
   "metadata": {},
   "outputs": [
    {
     "data": {
      "text/plain": [
       "array(['?', 'Adm-clerical', 'Armed-Forces', 'Craft-repair',\n",
       "       'Exec-managerial', 'Farming-fishing', 'Handlers-cleaners',\n",
       "       'Machine-op-inspct', 'Other-service', 'Priv-house-serv',\n",
       "       'Prof-specialty', 'Protective-serv', 'Sales', 'Tech-support',\n",
       "       'Transport-moving'], dtype=object)"
      ]
     },
     "execution_count": 60,
     "metadata": {},
     "output_type": "execute_result"
    }
   ],
   "source": [
    "encoder_occupation.classes_"
   ]
  },
  {
   "cell_type": "code",
   "execution_count": 61,
   "metadata": {},
   "outputs": [],
   "source": [
    "def occupations(index):\n",
    "    return encoder_occupation.classes_[index]"
   ]
  },
  {
   "cell_type": "code",
   "execution_count": 62,
   "metadata": {},
   "outputs": [
    {
     "data": {
      "text/plain": [
       "array(['?', 'Cambodia', 'Canada', 'China', 'Columbia', 'Cuba',\n",
       "       'Dominican-Republic', 'Ecuador', 'El-Salvador', 'England',\n",
       "       'France', 'Germany', 'Greece', 'Guatemala', 'Haiti',\n",
       "       'Holand-Netherlands', 'Honduras', 'Hong', 'Hungary', 'India',\n",
       "       'Iran', 'Ireland', 'Italy', 'Jamaica', 'Japan', 'Laos', 'Mexico',\n",
       "       'Nicaragua', 'Outlying-US(Guam-USVI-etc)', 'Peru', 'Philippines',\n",
       "       'Poland', 'Portugal', 'Puerto-Rico', 'Scotland', 'South', 'Taiwan',\n",
       "       'Thailand', 'Trinadad&Tobago', 'United-States', 'Vietnam',\n",
       "       'Yugoslavia'], dtype=object)"
      ]
     },
     "execution_count": 62,
     "metadata": {},
     "output_type": "execute_result"
    }
   ],
   "source": [
    "# no se usa en data_x\n",
    "encoder_native_country.classes_"
   ]
  },
  {
   "cell_type": "code",
   "execution_count": 63,
   "metadata": {},
   "outputs": [],
   "source": [
    "def native_countries(index):\n",
    "    return encoder_native_country.classes_[index]"
   ]
  },
  {
   "cell_type": "code",
   "execution_count": 64,
   "metadata": {},
   "outputs": [],
   "source": [
    "workclasses = ['None', 'State-gov', 'Self-emp-not-inc', 'Private', 'Federal-gov', 'Local-gov', '?', 'Self-emp-inc', 'Without-pay', 'Never-worked']\n",
    "relationships = ['None', 'Not-in-family', 'Husband', 'Wife', 'Own-child', 'Unmarried', 'Other-relative']\n",
    "races = ['None', 'White', 'Black', 'Asian-Pac-Islander', 'Amer-Indian-Eskimo', 'Other']\n",
    "geners = ['None', 'Maculino', 'Femenino']\n",
    "\n",
    "salaries = ['None', 'Menor o igual que 50K', 'Mayor que 50K']"
   ]
  },
  {
   "cell_type": "code",
   "execution_count": 65,
   "metadata": {},
   "outputs": [],
   "source": [
    "\n",
    "def classify_salary(model, age, workclass, education, education_num, occupation, relationship, race, sex, capital_gain, capital_loss, hours_per_week):\n",
    "    predicted = model.predict([[age, workclass, education, education_num, occupation, relationship, race, sex, capital_gain, capital_loss, hours_per_week]])\n",
    "    print(f'La Persona de genero {geners[sex]}, con {age} años, de ascendencia {races[race]}, en su familia el es: {relationships[relationship]},\\n su clase de trabajo es: {workclasses[workclass]}, su nivel de educacion es: {educations(education)}, su ocupacion es: {occupations(occupation)},\\n y su salario vendria siendo => {salaries[predicted[0]]}')\n"
   ]
  },
  {
   "cell_type": "code",
   "execution_count": 66,
   "metadata": {},
   "outputs": [
    {
     "name": "stdout",
     "output_type": "stream",
     "text": [
      "La Persona de genero Maculino, con 34 años, de ascendencia White, en su familia el es: Husband,\n",
      " su clase de trabajo es: Private, su nivel de educacion es: Doctorate, su ocupacion es: Prof-specialty,\n",
      " y su salario vendria siendo => Mayor que 50K\n"
     ]
    },
    {
     "name": "stderr",
     "output_type": "stream",
     "text": [
      "c:\\Users\\poriz\\Desktop\\NUR\\Semestre 6\\algoritmica\\python\\pandas_intro\\pandas_env\\Lib\\site-packages\\sklearn\\base.py:464: UserWarning: X does not have valid feature names, but KNeighborsClassifier was fitted with feature names\n",
      "  warnings.warn(\n"
     ]
    }
   ],
   "source": [
    "classify_salary(k_neighbors, 34, 3, 10, 10, 10, 2, 1, 1, 10000, 3500, 35)"
   ]
  },
  {
   "cell_type": "code",
   "execution_count": 67,
   "metadata": {},
   "outputs": [
    {
     "name": "stdout",
     "output_type": "stream",
     "text": [
      "La Persona de genero Femenino, con 22 años, de ascendencia Asian-Pac-Islander, en su familia el es: Unmarried,\n",
      " su clase de trabajo es: Never-worked, su nivel de educacion es: Masters, su ocupacion es: Tech-support,\n",
      " y su salario vendria siendo => Menor o igual que 50K\n"
     ]
    },
    {
     "name": "stderr",
     "output_type": "stream",
     "text": [
      "c:\\Users\\poriz\\Desktop\\NUR\\Semestre 6\\algoritmica\\python\\pandas_intro\\pandas_env\\Lib\\site-packages\\sklearn\\base.py:464: UserWarning: X does not have valid feature names, but KNeighborsClassifier was fitted with feature names\n",
      "  warnings.warn(\n"
     ]
    }
   ],
   "source": [
    "classify_salary(k_neighbors, 22, 9, 12, 8, 13, 5, 3, 2, 3500, 2000, 85)"
   ]
  }
 ],
 "metadata": {
  "kernelspec": {
   "display_name": "pandas_env",
   "language": "python",
   "name": "python3"
  },
  "language_info": {
   "codemirror_mode": {
    "name": "ipython",
    "version": 3
   },
   "file_extension": ".py",
   "mimetype": "text/x-python",
   "name": "python",
   "nbconvert_exporter": "python",
   "pygments_lexer": "ipython3",
   "version": "3.11.6"
  }
 },
 "nbformat": 4,
 "nbformat_minor": 2
}
